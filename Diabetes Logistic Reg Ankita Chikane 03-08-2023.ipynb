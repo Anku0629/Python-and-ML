{
 "cells": [
  {
   "cell_type": "code",
   "execution_count": 1,
   "id": "eb562782",
   "metadata": {},
   "outputs": [],
   "source": [
    "import pandas as pd\n",
    "import numpy as np\n",
    "import seaborn as sns\n",
    "import matplotlib.pylab as mlt\n",
    "import warnings\n",
    "warnings.filterwarnings(\"ignore\")"
   ]
  },
  {
   "cell_type": "code",
   "execution_count": 2,
   "id": "957ae731",
   "metadata": {},
   "outputs": [
    {
     "data": {
      "text/html": [
       "<div>\n",
       "<style scoped>\n",
       "    .dataframe tbody tr th:only-of-type {\n",
       "        vertical-align: middle;\n",
       "    }\n",
       "\n",
       "    .dataframe tbody tr th {\n",
       "        vertical-align: top;\n",
       "    }\n",
       "\n",
       "    .dataframe thead th {\n",
       "        text-align: right;\n",
       "    }\n",
       "</style>\n",
       "<table border=\"1\" class=\"dataframe\">\n",
       "  <thead>\n",
       "    <tr style=\"text-align: right;\">\n",
       "      <th></th>\n",
       "      <th>Name</th>\n",
       "      <th>Python</th>\n",
       "      <th>Machine Learning</th>\n",
       "      <th>Age</th>\n",
       "      <th>AI</th>\n",
       "      <th>NLP</th>\n",
       "      <th>Cv</th>\n",
       "    </tr>\n",
       "  </thead>\n",
       "  <tbody>\n",
       "    <tr>\n",
       "      <th>0</th>\n",
       "      <td>jay</td>\n",
       "      <td>90</td>\n",
       "      <td>?</td>\n",
       "      <td>23</td>\n",
       "      <td>90</td>\n",
       "      <td>?</td>\n",
       "      <td>23</td>\n",
       "    </tr>\n",
       "    <tr>\n",
       "      <th>1</th>\n",
       "      <td>raj</td>\n",
       "      <td>missing</td>\n",
       "      <td>89</td>\n",
       "      <td>NaN</td>\n",
       "      <td>missing</td>\n",
       "      <td>89</td>\n",
       "      <td>NaN</td>\n",
       "    </tr>\n",
       "    <tr>\n",
       "      <th>2</th>\n",
       "      <td>kumar</td>\n",
       "      <td>78</td>\n",
       "      <td>78</td>\n",
       "      <td>?</td>\n",
       "      <td>78</td>\n",
       "      <td>78</td>\n",
       "      <td>?</td>\n",
       "    </tr>\n",
       "    <tr>\n",
       "      <th>3</th>\n",
       "      <td>suraj</td>\n",
       "      <td>NaN</td>\n",
       "      <td>NaN</td>\n",
       "      <td>missing</td>\n",
       "      <td>NaN</td>\n",
       "      <td>NaN</td>\n",
       "      <td>missing</td>\n",
       "    </tr>\n",
       "    <tr>\n",
       "      <th>4</th>\n",
       "      <td>pawan</td>\n",
       "      <td>missing</td>\n",
       "      <td>NaN</td>\n",
       "      <td>21</td>\n",
       "      <td>missing</td>\n",
       "      <td>NaN</td>\n",
       "      <td>21</td>\n",
       "    </tr>\n",
       "    <tr>\n",
       "      <th>5</th>\n",
       "      <td>viraj</td>\n",
       "      <td>65</td>\n",
       "      <td>56</td>\n",
       "      <td>22</td>\n",
       "      <td>65</td>\n",
       "      <td>56</td>\n",
       "      <td>22</td>\n",
       "    </tr>\n",
       "    <tr>\n",
       "      <th>6</th>\n",
       "      <td>vijay</td>\n",
       "      <td>45</td>\n",
       "      <td>67</td>\n",
       "      <td>?</td>\n",
       "      <td>45</td>\n",
       "      <td>67</td>\n",
       "      <td>?</td>\n",
       "    </tr>\n",
       "    <tr>\n",
       "      <th>7</th>\n",
       "      <td>sumit</td>\n",
       "      <td>80</td>\n",
       "      <td>45</td>\n",
       "      <td>24</td>\n",
       "      <td>80</td>\n",
       "      <td>45</td>\n",
       "      <td>24</td>\n",
       "    </tr>\n",
       "    <tr>\n",
       "      <th>8</th>\n",
       "      <td>akash</td>\n",
       "      <td>70</td>\n",
       "      <td>67</td>\n",
       "      <td>missing</td>\n",
       "      <td>70</td>\n",
       "      <td>67</td>\n",
       "      <td>missing</td>\n",
       "    </tr>\n",
       "    <tr>\n",
       "      <th>9</th>\n",
       "      <td>sujit</td>\n",
       "      <td>NaN</td>\n",
       "      <td>NaN</td>\n",
       "      <td>22</td>\n",
       "      <td>NaN</td>\n",
       "      <td>NaN</td>\n",
       "      <td>22</td>\n",
       "    </tr>\n",
       "  </tbody>\n",
       "</table>\n",
       "</div>"
      ],
      "text/plain": [
       "    Name   Python Machine Learning      Age       AI  NLP       Cv\n",
       "0    jay       90                ?       23       90    ?       23\n",
       "1    raj  missing               89      NaN  missing   89      NaN\n",
       "2  kumar       78               78        ?       78   78        ?\n",
       "3  suraj      NaN              NaN  missing      NaN  NaN  missing\n",
       "4  pawan  missing              NaN       21  missing  NaN       21\n",
       "5  viraj       65               56       22       65   56       22\n",
       "6  vijay       45               67        ?       45   67        ?\n",
       "7  sumit       80               45       24       80   45       24\n",
       "8  akash       70               67  missing       70   67  missing\n",
       "9  sujit      NaN              NaN       22      NaN  NaN       22"
      ]
     },
     "execution_count": 2,
     "metadata": {},
     "output_type": "execute_result"
    }
   ],
   "source": [
    "df=pd.read_csv(r\"C:\\Users\\admin\\data2.csv\")\n",
    "df"
   ]
  },
  {
   "cell_type": "code",
   "execution_count": 3,
   "id": "49fd3d7c",
   "metadata": {},
   "outputs": [],
   "source": [
    "#Step1:find & replace missing value with NaN \n",
    "df['Python'].replace(\"missing\",np.nan,inplace=True)\n",
    "df['Machine Learning'].replace(\"?\",np.nan,inplace=True)\n",
    "df['Age'].replace(\"missing\",np.nan,inplace=True)\n",
    "df['Age'].replace(\"?\",np.nan,inplace=True)\n",
    "df['AI'].replace(\"missing\",np.nan,inplace=True)\n",
    "df['NLP'].replace(\"?\",np.nan,inplace=True)\n",
    "df['Cv'].replace(\"missing\",np.nan,inplace=True)\n",
    "df['Cv'].replace(\"?\",np.nan,inplace=True)\n",
    "\n"
   ]
  },
  {
   "cell_type": "code",
   "execution_count": 4,
   "id": "c039166d",
   "metadata": {},
   "outputs": [
    {
     "data": {
      "text/html": [
       "<div>\n",
       "<style scoped>\n",
       "    .dataframe tbody tr th:only-of-type {\n",
       "        vertical-align: middle;\n",
       "    }\n",
       "\n",
       "    .dataframe tbody tr th {\n",
       "        vertical-align: top;\n",
       "    }\n",
       "\n",
       "    .dataframe thead th {\n",
       "        text-align: right;\n",
       "    }\n",
       "</style>\n",
       "<table border=\"1\" class=\"dataframe\">\n",
       "  <thead>\n",
       "    <tr style=\"text-align: right;\">\n",
       "      <th></th>\n",
       "      <th>Name</th>\n",
       "      <th>Python</th>\n",
       "      <th>Machine Learning</th>\n",
       "      <th>Age</th>\n",
       "      <th>AI</th>\n",
       "      <th>NLP</th>\n",
       "      <th>Cv</th>\n",
       "    </tr>\n",
       "  </thead>\n",
       "  <tbody>\n",
       "    <tr>\n",
       "      <th>0</th>\n",
       "      <td>jay</td>\n",
       "      <td>90</td>\n",
       "      <td>NaN</td>\n",
       "      <td>23</td>\n",
       "      <td>90</td>\n",
       "      <td>NaN</td>\n",
       "      <td>23</td>\n",
       "    </tr>\n",
       "    <tr>\n",
       "      <th>1</th>\n",
       "      <td>raj</td>\n",
       "      <td>NaN</td>\n",
       "      <td>89</td>\n",
       "      <td>NaN</td>\n",
       "      <td>NaN</td>\n",
       "      <td>89</td>\n",
       "      <td>NaN</td>\n",
       "    </tr>\n",
       "    <tr>\n",
       "      <th>2</th>\n",
       "      <td>kumar</td>\n",
       "      <td>78</td>\n",
       "      <td>78</td>\n",
       "      <td>NaN</td>\n",
       "      <td>78</td>\n",
       "      <td>78</td>\n",
       "      <td>NaN</td>\n",
       "    </tr>\n",
       "    <tr>\n",
       "      <th>3</th>\n",
       "      <td>suraj</td>\n",
       "      <td>NaN</td>\n",
       "      <td>NaN</td>\n",
       "      <td>NaN</td>\n",
       "      <td>NaN</td>\n",
       "      <td>NaN</td>\n",
       "      <td>NaN</td>\n",
       "    </tr>\n",
       "    <tr>\n",
       "      <th>4</th>\n",
       "      <td>pawan</td>\n",
       "      <td>NaN</td>\n",
       "      <td>NaN</td>\n",
       "      <td>21</td>\n",
       "      <td>NaN</td>\n",
       "      <td>NaN</td>\n",
       "      <td>21</td>\n",
       "    </tr>\n",
       "    <tr>\n",
       "      <th>5</th>\n",
       "      <td>viraj</td>\n",
       "      <td>65</td>\n",
       "      <td>56</td>\n",
       "      <td>22</td>\n",
       "      <td>65</td>\n",
       "      <td>56</td>\n",
       "      <td>22</td>\n",
       "    </tr>\n",
       "    <tr>\n",
       "      <th>6</th>\n",
       "      <td>vijay</td>\n",
       "      <td>45</td>\n",
       "      <td>67</td>\n",
       "      <td>NaN</td>\n",
       "      <td>45</td>\n",
       "      <td>67</td>\n",
       "      <td>NaN</td>\n",
       "    </tr>\n",
       "    <tr>\n",
       "      <th>7</th>\n",
       "      <td>sumit</td>\n",
       "      <td>80</td>\n",
       "      <td>45</td>\n",
       "      <td>24</td>\n",
       "      <td>80</td>\n",
       "      <td>45</td>\n",
       "      <td>24</td>\n",
       "    </tr>\n",
       "    <tr>\n",
       "      <th>8</th>\n",
       "      <td>akash</td>\n",
       "      <td>70</td>\n",
       "      <td>67</td>\n",
       "      <td>NaN</td>\n",
       "      <td>70</td>\n",
       "      <td>67</td>\n",
       "      <td>NaN</td>\n",
       "    </tr>\n",
       "    <tr>\n",
       "      <th>9</th>\n",
       "      <td>sujit</td>\n",
       "      <td>NaN</td>\n",
       "      <td>NaN</td>\n",
       "      <td>22</td>\n",
       "      <td>NaN</td>\n",
       "      <td>NaN</td>\n",
       "      <td>22</td>\n",
       "    </tr>\n",
       "  </tbody>\n",
       "</table>\n",
       "</div>"
      ],
      "text/plain": [
       "    Name Python Machine Learning  Age   AI  NLP   Cv\n",
       "0    jay     90              NaN   23   90  NaN   23\n",
       "1    raj    NaN               89  NaN  NaN   89  NaN\n",
       "2  kumar     78               78  NaN   78   78  NaN\n",
       "3  suraj    NaN              NaN  NaN  NaN  NaN  NaN\n",
       "4  pawan    NaN              NaN   21  NaN  NaN   21\n",
       "5  viraj     65               56   22   65   56   22\n",
       "6  vijay     45               67  NaN   45   67  NaN\n",
       "7  sumit     80               45   24   80   45   24\n",
       "8  akash     70               67  NaN   70   67  NaN\n",
       "9  sujit    NaN              NaN   22  NaN  NaN   22"
      ]
     },
     "execution_count": 4,
     "metadata": {},
     "output_type": "execute_result"
    }
   ],
   "source": [
    "df"
   ]
  },
  {
   "cell_type": "code",
   "execution_count": 5,
   "id": "61cd1500",
   "metadata": {},
   "outputs": [
    {
     "name": "stdout",
     "output_type": "stream",
     "text": [
      "<class 'pandas.core.frame.DataFrame'>\n",
      "RangeIndex: 10 entries, 0 to 9\n",
      "Data columns (total 7 columns):\n",
      " #   Column            Non-Null Count  Dtype \n",
      "---  ------            --------------  ----- \n",
      " 0   Name              10 non-null     object\n",
      " 1   Python            6 non-null      object\n",
      " 2   Machine Learning  6 non-null      object\n",
      " 3   Age               5 non-null      object\n",
      " 4   AI                6 non-null      object\n",
      " 5   NLP               6 non-null      object\n",
      " 6   Cv                5 non-null      object\n",
      "dtypes: object(7)\n",
      "memory usage: 688.0+ bytes\n"
     ]
    }
   ],
   "source": [
    "df.info()"
   ]
  },
  {
   "cell_type": "code",
   "execution_count": 6,
   "id": "fa9ff5a1",
   "metadata": {},
   "outputs": [],
   "source": [
    "#Step 2: change datatype\n",
    "#null value not convert into int thus its convert into float\n",
    "df['Python']=df['Python'].astype('float')\n",
    "df['Machine Learning']=df['Machine Learning'].astype('float')\n",
    "df['Age']=df['Age'].astype('float')\n",
    "df['AI']=df['AI'].astype('float')\n",
    "df['NLP']=df['NLP'].astype('float')\n",
    "df['Cv']=df['Cv'].astype('float')"
   ]
  },
  {
   "cell_type": "code",
   "execution_count": 7,
   "id": "1877c44b",
   "metadata": {},
   "outputs": [
    {
     "name": "stdout",
     "output_type": "stream",
     "text": [
      "<class 'pandas.core.frame.DataFrame'>\n",
      "RangeIndex: 10 entries, 0 to 9\n",
      "Data columns (total 7 columns):\n",
      " #   Column            Non-Null Count  Dtype  \n",
      "---  ------            --------------  -----  \n",
      " 0   Name              10 non-null     object \n",
      " 1   Python            6 non-null      float64\n",
      " 2   Machine Learning  6 non-null      float64\n",
      " 3   Age               5 non-null      float64\n",
      " 4   AI                6 non-null      float64\n",
      " 5   NLP               6 non-null      float64\n",
      " 6   Cv                5 non-null      float64\n",
      "dtypes: float64(6), object(1)\n",
      "memory usage: 688.0+ bytes\n"
     ]
    }
   ],
   "source": [
    "df.info()"
   ]
  },
  {
   "cell_type": "code",
   "execution_count": 8,
   "id": "5a70a6e8",
   "metadata": {},
   "outputs": [],
   "source": [
    "#Step 3:get mean\n",
    "pmean=df['Python'].mean()\n",
    "mlmean=df['Machine Learning'].mean()\n",
    "amean=df['Age'].mean()\n",
    "aimean=df['AI'].mean()\n",
    "nlpmean=df['NLP'].mean()\n",
    "cvmean=df['Cv'].mean()"
   ]
  },
  {
   "cell_type": "code",
   "execution_count": 9,
   "id": "3f9af8d2",
   "metadata": {},
   "outputs": [
    {
     "data": {
      "text/html": [
       "<div>\n",
       "<style scoped>\n",
       "    .dataframe tbody tr th:only-of-type {\n",
       "        vertical-align: middle;\n",
       "    }\n",
       "\n",
       "    .dataframe tbody tr th {\n",
       "        vertical-align: top;\n",
       "    }\n",
       "\n",
       "    .dataframe thead th {\n",
       "        text-align: right;\n",
       "    }\n",
       "</style>\n",
       "<table border=\"1\" class=\"dataframe\">\n",
       "  <thead>\n",
       "    <tr style=\"text-align: right;\">\n",
       "      <th></th>\n",
       "      <th>Name</th>\n",
       "      <th>Python</th>\n",
       "      <th>Machine Learning</th>\n",
       "      <th>Age</th>\n",
       "      <th>AI</th>\n",
       "      <th>NLP</th>\n",
       "      <th>Cv</th>\n",
       "    </tr>\n",
       "  </thead>\n",
       "  <tbody>\n",
       "    <tr>\n",
       "      <th>0</th>\n",
       "      <td>jay</td>\n",
       "      <td>90.000000</td>\n",
       "      <td>67.0</td>\n",
       "      <td>23.0</td>\n",
       "      <td>90.000000</td>\n",
       "      <td>67.0</td>\n",
       "      <td>23.0</td>\n",
       "    </tr>\n",
       "    <tr>\n",
       "      <th>1</th>\n",
       "      <td>raj</td>\n",
       "      <td>71.333333</td>\n",
       "      <td>89.0</td>\n",
       "      <td>22.4</td>\n",
       "      <td>71.333333</td>\n",
       "      <td>89.0</td>\n",
       "      <td>22.4</td>\n",
       "    </tr>\n",
       "    <tr>\n",
       "      <th>2</th>\n",
       "      <td>kumar</td>\n",
       "      <td>78.000000</td>\n",
       "      <td>78.0</td>\n",
       "      <td>22.4</td>\n",
       "      <td>78.000000</td>\n",
       "      <td>78.0</td>\n",
       "      <td>22.4</td>\n",
       "    </tr>\n",
       "    <tr>\n",
       "      <th>3</th>\n",
       "      <td>suraj</td>\n",
       "      <td>71.333333</td>\n",
       "      <td>67.0</td>\n",
       "      <td>22.4</td>\n",
       "      <td>71.333333</td>\n",
       "      <td>67.0</td>\n",
       "      <td>22.4</td>\n",
       "    </tr>\n",
       "    <tr>\n",
       "      <th>4</th>\n",
       "      <td>pawan</td>\n",
       "      <td>71.333333</td>\n",
       "      <td>67.0</td>\n",
       "      <td>21.0</td>\n",
       "      <td>71.333333</td>\n",
       "      <td>67.0</td>\n",
       "      <td>21.0</td>\n",
       "    </tr>\n",
       "    <tr>\n",
       "      <th>5</th>\n",
       "      <td>viraj</td>\n",
       "      <td>65.000000</td>\n",
       "      <td>56.0</td>\n",
       "      <td>22.0</td>\n",
       "      <td>65.000000</td>\n",
       "      <td>56.0</td>\n",
       "      <td>22.0</td>\n",
       "    </tr>\n",
       "    <tr>\n",
       "      <th>6</th>\n",
       "      <td>vijay</td>\n",
       "      <td>45.000000</td>\n",
       "      <td>67.0</td>\n",
       "      <td>22.4</td>\n",
       "      <td>45.000000</td>\n",
       "      <td>67.0</td>\n",
       "      <td>22.4</td>\n",
       "    </tr>\n",
       "    <tr>\n",
       "      <th>7</th>\n",
       "      <td>sumit</td>\n",
       "      <td>80.000000</td>\n",
       "      <td>45.0</td>\n",
       "      <td>24.0</td>\n",
       "      <td>80.000000</td>\n",
       "      <td>45.0</td>\n",
       "      <td>24.0</td>\n",
       "    </tr>\n",
       "    <tr>\n",
       "      <th>8</th>\n",
       "      <td>akash</td>\n",
       "      <td>70.000000</td>\n",
       "      <td>67.0</td>\n",
       "      <td>22.4</td>\n",
       "      <td>70.000000</td>\n",
       "      <td>67.0</td>\n",
       "      <td>22.4</td>\n",
       "    </tr>\n",
       "    <tr>\n",
       "      <th>9</th>\n",
       "      <td>sujit</td>\n",
       "      <td>71.333333</td>\n",
       "      <td>67.0</td>\n",
       "      <td>22.0</td>\n",
       "      <td>71.333333</td>\n",
       "      <td>67.0</td>\n",
       "      <td>22.0</td>\n",
       "    </tr>\n",
       "  </tbody>\n",
       "</table>\n",
       "</div>"
      ],
      "text/plain": [
       "    Name     Python  Machine Learning   Age         AI   NLP    Cv\n",
       "0    jay  90.000000              67.0  23.0  90.000000  67.0  23.0\n",
       "1    raj  71.333333              89.0  22.4  71.333333  89.0  22.4\n",
       "2  kumar  78.000000              78.0  22.4  78.000000  78.0  22.4\n",
       "3  suraj  71.333333              67.0  22.4  71.333333  67.0  22.4\n",
       "4  pawan  71.333333              67.0  21.0  71.333333  67.0  21.0\n",
       "5  viraj  65.000000              56.0  22.0  65.000000  56.0  22.0\n",
       "6  vijay  45.000000              67.0  22.4  45.000000  67.0  22.4\n",
       "7  sumit  80.000000              45.0  24.0  80.000000  45.0  24.0\n",
       "8  akash  70.000000              67.0  22.4  70.000000  67.0  22.4\n",
       "9  sujit  71.333333              67.0  22.0  71.333333  67.0  22.0"
      ]
     },
     "execution_count": 9,
     "metadata": {},
     "output_type": "execute_result"
    }
   ],
   "source": [
    "#Step 4:Fill null value\n",
    "df['Python'].fillna(pmean,inplace=True)\n",
    "df['Machine Learning'].fillna(mlmean,inplace=True)\n",
    "df['Age'].fillna(amean,inplace=True)\n",
    "df['AI'].fillna(aimean,inplace=True)\n",
    "df['NLP'].fillna(nlpmean,inplace=True)\n",
    "df['Cv'].fillna(cvmean,inplace=True)\n",
    "df"
   ]
  },
  {
   "cell_type": "code",
   "execution_count": 10,
   "id": "9ede0793",
   "metadata": {},
   "outputs": [],
   "source": [
    "#Onther way to find Mean & fill mean in all nan values\n",
    "#df.mean()\n",
    "#df.fillna(df.mean(),inplace=True)"
   ]
  },
  {
   "cell_type": "markdown",
   "id": "df7ba611",
   "metadata": {},
   "source": [
    "### Handling missing values using sklearn(scykitlean)"
   ]
  },
  {
   "cell_type": "code",
   "execution_count": 11,
   "id": "756a0e22",
   "metadata": {},
   "outputs": [],
   "source": [
    "df2=pd.read_csv(r\"C:\\Users\\admin\\data2.csv\")"
   ]
  },
  {
   "cell_type": "code",
   "execution_count": 12,
   "id": "d5b5d6d0",
   "metadata": {},
   "outputs": [
    {
     "data": {
      "text/html": [
       "<div>\n",
       "<style scoped>\n",
       "    .dataframe tbody tr th:only-of-type {\n",
       "        vertical-align: middle;\n",
       "    }\n",
       "\n",
       "    .dataframe tbody tr th {\n",
       "        vertical-align: top;\n",
       "    }\n",
       "\n",
       "    .dataframe thead th {\n",
       "        text-align: right;\n",
       "    }\n",
       "</style>\n",
       "<table border=\"1\" class=\"dataframe\">\n",
       "  <thead>\n",
       "    <tr style=\"text-align: right;\">\n",
       "      <th></th>\n",
       "      <th>Name</th>\n",
       "      <th>Python</th>\n",
       "      <th>Machine Learning</th>\n",
       "      <th>Age</th>\n",
       "      <th>AI</th>\n",
       "      <th>NLP</th>\n",
       "      <th>Cv</th>\n",
       "    </tr>\n",
       "  </thead>\n",
       "  <tbody>\n",
       "    <tr>\n",
       "      <th>0</th>\n",
       "      <td>jay</td>\n",
       "      <td>90</td>\n",
       "      <td>?</td>\n",
       "      <td>23</td>\n",
       "      <td>90</td>\n",
       "      <td>?</td>\n",
       "      <td>23</td>\n",
       "    </tr>\n",
       "    <tr>\n",
       "      <th>1</th>\n",
       "      <td>raj</td>\n",
       "      <td>missing</td>\n",
       "      <td>89</td>\n",
       "      <td>NaN</td>\n",
       "      <td>missing</td>\n",
       "      <td>89</td>\n",
       "      <td>NaN</td>\n",
       "    </tr>\n",
       "    <tr>\n",
       "      <th>2</th>\n",
       "      <td>kumar</td>\n",
       "      <td>78</td>\n",
       "      <td>78</td>\n",
       "      <td>?</td>\n",
       "      <td>78</td>\n",
       "      <td>78</td>\n",
       "      <td>?</td>\n",
       "    </tr>\n",
       "    <tr>\n",
       "      <th>3</th>\n",
       "      <td>suraj</td>\n",
       "      <td>NaN</td>\n",
       "      <td>NaN</td>\n",
       "      <td>missing</td>\n",
       "      <td>NaN</td>\n",
       "      <td>NaN</td>\n",
       "      <td>missing</td>\n",
       "    </tr>\n",
       "    <tr>\n",
       "      <th>4</th>\n",
       "      <td>pawan</td>\n",
       "      <td>missing</td>\n",
       "      <td>NaN</td>\n",
       "      <td>21</td>\n",
       "      <td>missing</td>\n",
       "      <td>NaN</td>\n",
       "      <td>21</td>\n",
       "    </tr>\n",
       "    <tr>\n",
       "      <th>5</th>\n",
       "      <td>viraj</td>\n",
       "      <td>65</td>\n",
       "      <td>56</td>\n",
       "      <td>22</td>\n",
       "      <td>65</td>\n",
       "      <td>56</td>\n",
       "      <td>22</td>\n",
       "    </tr>\n",
       "    <tr>\n",
       "      <th>6</th>\n",
       "      <td>vijay</td>\n",
       "      <td>45</td>\n",
       "      <td>67</td>\n",
       "      <td>?</td>\n",
       "      <td>45</td>\n",
       "      <td>67</td>\n",
       "      <td>?</td>\n",
       "    </tr>\n",
       "    <tr>\n",
       "      <th>7</th>\n",
       "      <td>sumit</td>\n",
       "      <td>80</td>\n",
       "      <td>45</td>\n",
       "      <td>24</td>\n",
       "      <td>80</td>\n",
       "      <td>45</td>\n",
       "      <td>24</td>\n",
       "    </tr>\n",
       "    <tr>\n",
       "      <th>8</th>\n",
       "      <td>akash</td>\n",
       "      <td>70</td>\n",
       "      <td>67</td>\n",
       "      <td>missing</td>\n",
       "      <td>70</td>\n",
       "      <td>67</td>\n",
       "      <td>missing</td>\n",
       "    </tr>\n",
       "    <tr>\n",
       "      <th>9</th>\n",
       "      <td>sujit</td>\n",
       "      <td>NaN</td>\n",
       "      <td>NaN</td>\n",
       "      <td>22</td>\n",
       "      <td>NaN</td>\n",
       "      <td>NaN</td>\n",
       "      <td>22</td>\n",
       "    </tr>\n",
       "  </tbody>\n",
       "</table>\n",
       "</div>"
      ],
      "text/plain": [
       "    Name   Python Machine Learning      Age       AI  NLP       Cv\n",
       "0    jay       90                ?       23       90    ?       23\n",
       "1    raj  missing               89      NaN  missing   89      NaN\n",
       "2  kumar       78               78        ?       78   78        ?\n",
       "3  suraj      NaN              NaN  missing      NaN  NaN  missing\n",
       "4  pawan  missing              NaN       21  missing  NaN       21\n",
       "5  viraj       65               56       22       65   56       22\n",
       "6  vijay       45               67        ?       45   67        ?\n",
       "7  sumit       80               45       24       80   45       24\n",
       "8  akash       70               67  missing       70   67  missing\n",
       "9  sujit      NaN              NaN       22      NaN  NaN       22"
      ]
     },
     "execution_count": 12,
     "metadata": {},
     "output_type": "execute_result"
    }
   ],
   "source": [
    "df2"
   ]
  },
  {
   "cell_type": "code",
   "execution_count": 13,
   "id": "4227dd75",
   "metadata": {},
   "outputs": [
    {
     "name": "stdout",
     "output_type": "stream",
     "text": [
      "<class 'pandas.core.frame.DataFrame'>\n",
      "RangeIndex: 10 entries, 0 to 9\n",
      "Data columns (total 7 columns):\n",
      " #   Column            Non-Null Count  Dtype \n",
      "---  ------            --------------  ----- \n",
      " 0   Name              10 non-null     object\n",
      " 1   Python            8 non-null      object\n",
      " 2   Machine Learning  7 non-null      object\n",
      " 3   Age               9 non-null      object\n",
      " 4   AI                8 non-null      object\n",
      " 5   NLP               7 non-null      object\n",
      " 6   Cv                9 non-null      object\n",
      "dtypes: object(7)\n",
      "memory usage: 688.0+ bytes\n"
     ]
    }
   ],
   "source": [
    "df2.info()"
   ]
  },
  {
   "cell_type": "code",
   "execution_count": 14,
   "id": "2a549ddb",
   "metadata": {},
   "outputs": [],
   "source": [
    "from sklearn.impute import SimpleImputer\n",
    "#skleanrn is library \n",
    "#SimpleImputer is object of skleran\n",
    "#To fill na below 4 strategy use\n",
    "#bydefalut mean\n",
    "#median\n",
    "#mod\n",
    "#constant"
   ]
  },
  {
   "cell_type": "code",
   "execution_count": 15,
   "id": "953a3acc",
   "metadata": {},
   "outputs": [],
   "source": [
    "#SimpleImputer(missing_values,strategy,fill_value)\n",
    "si=SimpleImputer()"
   ]
  },
  {
   "cell_type": "code",
   "execution_count": 16,
   "id": "d305f2a6",
   "metadata": {},
   "outputs": [],
   "source": [
    "df2['Python'].replace(\"missing\",np.nan,inplace=True)\n",
    "df2['Machine Learning'].replace(\"?\",np.nan,inplace=True)\n",
    "df2['Age'].replace(\"missing\",np.nan,inplace=True)\n",
    "df2['Age'].replace(\"?\",np.nan,inplace=True)\n",
    "df2['AI'].replace(\"missing\",np.nan,inplace=True)\n",
    "df2['NLP'].replace(\"?\",np.nan,inplace=True)\n",
    "df2['Cv'].replace(\"missing\",np.nan,inplace=True)\n",
    "df2['Cv'].replace(\"?\",np.nan,inplace=True)\n"
   ]
  },
  {
   "cell_type": "code",
   "execution_count": 17,
   "id": "743f1eb8",
   "metadata": {},
   "outputs": [],
   "source": [
    "df2.iloc[:,1:]=si.fit_transform(df2.iloc[:,1:])"
   ]
  },
  {
   "cell_type": "code",
   "execution_count": 18,
   "id": "44e8864c",
   "metadata": {},
   "outputs": [
    {
     "data": {
      "text/html": [
       "<div>\n",
       "<style scoped>\n",
       "    .dataframe tbody tr th:only-of-type {\n",
       "        vertical-align: middle;\n",
       "    }\n",
       "\n",
       "    .dataframe tbody tr th {\n",
       "        vertical-align: top;\n",
       "    }\n",
       "\n",
       "    .dataframe thead th {\n",
       "        text-align: right;\n",
       "    }\n",
       "</style>\n",
       "<table border=\"1\" class=\"dataframe\">\n",
       "  <thead>\n",
       "    <tr style=\"text-align: right;\">\n",
       "      <th></th>\n",
       "      <th>Name</th>\n",
       "      <th>Python</th>\n",
       "      <th>Machine Learning</th>\n",
       "      <th>Age</th>\n",
       "      <th>AI</th>\n",
       "      <th>NLP</th>\n",
       "      <th>Cv</th>\n",
       "    </tr>\n",
       "  </thead>\n",
       "  <tbody>\n",
       "    <tr>\n",
       "      <th>0</th>\n",
       "      <td>jay</td>\n",
       "      <td>90.0</td>\n",
       "      <td>67.0</td>\n",
       "      <td>23.0</td>\n",
       "      <td>90.0</td>\n",
       "      <td>67.0</td>\n",
       "      <td>23.0</td>\n",
       "    </tr>\n",
       "    <tr>\n",
       "      <th>1</th>\n",
       "      <td>raj</td>\n",
       "      <td>71.333333</td>\n",
       "      <td>89.0</td>\n",
       "      <td>22.4</td>\n",
       "      <td>71.333333</td>\n",
       "      <td>89.0</td>\n",
       "      <td>22.4</td>\n",
       "    </tr>\n",
       "    <tr>\n",
       "      <th>2</th>\n",
       "      <td>kumar</td>\n",
       "      <td>78.0</td>\n",
       "      <td>78.0</td>\n",
       "      <td>22.4</td>\n",
       "      <td>78.0</td>\n",
       "      <td>78.0</td>\n",
       "      <td>22.4</td>\n",
       "    </tr>\n",
       "    <tr>\n",
       "      <th>3</th>\n",
       "      <td>suraj</td>\n",
       "      <td>71.333333</td>\n",
       "      <td>67.0</td>\n",
       "      <td>22.4</td>\n",
       "      <td>71.333333</td>\n",
       "      <td>67.0</td>\n",
       "      <td>22.4</td>\n",
       "    </tr>\n",
       "    <tr>\n",
       "      <th>4</th>\n",
       "      <td>pawan</td>\n",
       "      <td>71.333333</td>\n",
       "      <td>67.0</td>\n",
       "      <td>21.0</td>\n",
       "      <td>71.333333</td>\n",
       "      <td>67.0</td>\n",
       "      <td>21.0</td>\n",
       "    </tr>\n",
       "    <tr>\n",
       "      <th>5</th>\n",
       "      <td>viraj</td>\n",
       "      <td>65.0</td>\n",
       "      <td>56.0</td>\n",
       "      <td>22.0</td>\n",
       "      <td>65.0</td>\n",
       "      <td>56.0</td>\n",
       "      <td>22.0</td>\n",
       "    </tr>\n",
       "    <tr>\n",
       "      <th>6</th>\n",
       "      <td>vijay</td>\n",
       "      <td>45.0</td>\n",
       "      <td>67.0</td>\n",
       "      <td>22.4</td>\n",
       "      <td>45.0</td>\n",
       "      <td>67.0</td>\n",
       "      <td>22.4</td>\n",
       "    </tr>\n",
       "    <tr>\n",
       "      <th>7</th>\n",
       "      <td>sumit</td>\n",
       "      <td>80.0</td>\n",
       "      <td>45.0</td>\n",
       "      <td>24.0</td>\n",
       "      <td>80.0</td>\n",
       "      <td>45.0</td>\n",
       "      <td>24.0</td>\n",
       "    </tr>\n",
       "    <tr>\n",
       "      <th>8</th>\n",
       "      <td>akash</td>\n",
       "      <td>70.0</td>\n",
       "      <td>67.0</td>\n",
       "      <td>22.4</td>\n",
       "      <td>70.0</td>\n",
       "      <td>67.0</td>\n",
       "      <td>22.4</td>\n",
       "    </tr>\n",
       "    <tr>\n",
       "      <th>9</th>\n",
       "      <td>sujit</td>\n",
       "      <td>71.333333</td>\n",
       "      <td>67.0</td>\n",
       "      <td>22.0</td>\n",
       "      <td>71.333333</td>\n",
       "      <td>67.0</td>\n",
       "      <td>22.0</td>\n",
       "    </tr>\n",
       "  </tbody>\n",
       "</table>\n",
       "</div>"
      ],
      "text/plain": [
       "    Name     Python Machine Learning   Age         AI   NLP    Cv\n",
       "0    jay       90.0             67.0  23.0       90.0  67.0  23.0\n",
       "1    raj  71.333333             89.0  22.4  71.333333  89.0  22.4\n",
       "2  kumar       78.0             78.0  22.4       78.0  78.0  22.4\n",
       "3  suraj  71.333333             67.0  22.4  71.333333  67.0  22.4\n",
       "4  pawan  71.333333             67.0  21.0  71.333333  67.0  21.0\n",
       "5  viraj       65.0             56.0  22.0       65.0  56.0  22.0\n",
       "6  vijay       45.0             67.0  22.4       45.0  67.0  22.4\n",
       "7  sumit       80.0             45.0  24.0       80.0  45.0  24.0\n",
       "8  akash       70.0             67.0  22.4       70.0  67.0  22.4\n",
       "9  sujit  71.333333             67.0  22.0  71.333333  67.0  22.0"
      ]
     },
     "execution_count": 18,
     "metadata": {},
     "output_type": "execute_result"
    }
   ],
   "source": [
    "df2"
   ]
  },
  {
   "cell_type": "markdown",
   "id": "3ffebb20",
   "metadata": {},
   "source": [
    "## CAR Data"
   ]
  },
  {
   "cell_type": "code",
   "execution_count": 19,
   "id": "923f10b2",
   "metadata": {},
   "outputs": [],
   "source": [
    "import pandas as pd\n",
    "import numpy as np\n",
    "import seaborn as sns\n",
    "import matplotlib.pylab as plt\n",
    "import warnings\n",
    "warnings.filterwarnings(\"ignore\")"
   ]
  },
  {
   "cell_type": "code",
   "execution_count": 20,
   "id": "b51b9f15",
   "metadata": {},
   "outputs": [
    {
     "ename": "FileNotFoundError",
     "evalue": "[Errno 2] No such file or directory: 'C:\\\\Users\\\\admin\\\\car.csv'",
     "output_type": "error",
     "traceback": [
      "\u001b[1;31m---------------------------------------------------------------------------\u001b[0m",
      "\u001b[1;31mFileNotFoundError\u001b[0m                         Traceback (most recent call last)",
      "Input \u001b[1;32mIn [20]\u001b[0m, in \u001b[0;36m<cell line: 1>\u001b[1;34m()\u001b[0m\n\u001b[1;32m----> 1\u001b[0m df\u001b[38;5;241m=\u001b[39m\u001b[43mpd\u001b[49m\u001b[38;5;241;43m.\u001b[39;49m\u001b[43mread_csv\u001b[49m\u001b[43m(\u001b[49m\u001b[38;5;124;43mr\u001b[39;49m\u001b[38;5;124;43m\"\u001b[39;49m\u001b[38;5;124;43mC:\u001b[39;49m\u001b[38;5;124;43m\\\u001b[39;49m\u001b[38;5;124;43mUsers\u001b[39;49m\u001b[38;5;124;43m\\\u001b[39;49m\u001b[38;5;124;43madmin\u001b[39;49m\u001b[38;5;124;43m\\\u001b[39;49m\u001b[38;5;124;43mcar.csv\u001b[39;49m\u001b[38;5;124;43m\"\u001b[39;49m\u001b[43m)\u001b[49m\n\u001b[0;32m      2\u001b[0m df\n",
      "File \u001b[1;32mC:\\ProgramData\\Anaconda3\\lib\\site-packages\\pandas\\util\\_decorators.py:311\u001b[0m, in \u001b[0;36mdeprecate_nonkeyword_arguments.<locals>.decorate.<locals>.wrapper\u001b[1;34m(*args, **kwargs)\u001b[0m\n\u001b[0;32m    305\u001b[0m \u001b[38;5;28;01mif\u001b[39;00m \u001b[38;5;28mlen\u001b[39m(args) \u001b[38;5;241m>\u001b[39m num_allow_args:\n\u001b[0;32m    306\u001b[0m     warnings\u001b[38;5;241m.\u001b[39mwarn(\n\u001b[0;32m    307\u001b[0m         msg\u001b[38;5;241m.\u001b[39mformat(arguments\u001b[38;5;241m=\u001b[39marguments),\n\u001b[0;32m    308\u001b[0m         \u001b[38;5;167;01mFutureWarning\u001b[39;00m,\n\u001b[0;32m    309\u001b[0m         stacklevel\u001b[38;5;241m=\u001b[39mstacklevel,\n\u001b[0;32m    310\u001b[0m     )\n\u001b[1;32m--> 311\u001b[0m \u001b[38;5;28;01mreturn\u001b[39;00m func(\u001b[38;5;241m*\u001b[39margs, \u001b[38;5;241m*\u001b[39m\u001b[38;5;241m*\u001b[39mkwargs)\n",
      "File \u001b[1;32mC:\\ProgramData\\Anaconda3\\lib\\site-packages\\pandas\\io\\parsers\\readers.py:680\u001b[0m, in \u001b[0;36mread_csv\u001b[1;34m(filepath_or_buffer, sep, delimiter, header, names, index_col, usecols, squeeze, prefix, mangle_dupe_cols, dtype, engine, converters, true_values, false_values, skipinitialspace, skiprows, skipfooter, nrows, na_values, keep_default_na, na_filter, verbose, skip_blank_lines, parse_dates, infer_datetime_format, keep_date_col, date_parser, dayfirst, cache_dates, iterator, chunksize, compression, thousands, decimal, lineterminator, quotechar, quoting, doublequote, escapechar, comment, encoding, encoding_errors, dialect, error_bad_lines, warn_bad_lines, on_bad_lines, delim_whitespace, low_memory, memory_map, float_precision, storage_options)\u001b[0m\n\u001b[0;32m    665\u001b[0m kwds_defaults \u001b[38;5;241m=\u001b[39m _refine_defaults_read(\n\u001b[0;32m    666\u001b[0m     dialect,\n\u001b[0;32m    667\u001b[0m     delimiter,\n\u001b[1;32m   (...)\u001b[0m\n\u001b[0;32m    676\u001b[0m     defaults\u001b[38;5;241m=\u001b[39m{\u001b[38;5;124m\"\u001b[39m\u001b[38;5;124mdelimiter\u001b[39m\u001b[38;5;124m\"\u001b[39m: \u001b[38;5;124m\"\u001b[39m\u001b[38;5;124m,\u001b[39m\u001b[38;5;124m\"\u001b[39m},\n\u001b[0;32m    677\u001b[0m )\n\u001b[0;32m    678\u001b[0m kwds\u001b[38;5;241m.\u001b[39mupdate(kwds_defaults)\n\u001b[1;32m--> 680\u001b[0m \u001b[38;5;28;01mreturn\u001b[39;00m \u001b[43m_read\u001b[49m\u001b[43m(\u001b[49m\u001b[43mfilepath_or_buffer\u001b[49m\u001b[43m,\u001b[49m\u001b[43m \u001b[49m\u001b[43mkwds\u001b[49m\u001b[43m)\u001b[49m\n",
      "File \u001b[1;32mC:\\ProgramData\\Anaconda3\\lib\\site-packages\\pandas\\io\\parsers\\readers.py:575\u001b[0m, in \u001b[0;36m_read\u001b[1;34m(filepath_or_buffer, kwds)\u001b[0m\n\u001b[0;32m    572\u001b[0m _validate_names(kwds\u001b[38;5;241m.\u001b[39mget(\u001b[38;5;124m\"\u001b[39m\u001b[38;5;124mnames\u001b[39m\u001b[38;5;124m\"\u001b[39m, \u001b[38;5;28;01mNone\u001b[39;00m))\n\u001b[0;32m    574\u001b[0m \u001b[38;5;66;03m# Create the parser.\u001b[39;00m\n\u001b[1;32m--> 575\u001b[0m parser \u001b[38;5;241m=\u001b[39m TextFileReader(filepath_or_buffer, \u001b[38;5;241m*\u001b[39m\u001b[38;5;241m*\u001b[39mkwds)\n\u001b[0;32m    577\u001b[0m \u001b[38;5;28;01mif\u001b[39;00m chunksize \u001b[38;5;129;01mor\u001b[39;00m iterator:\n\u001b[0;32m    578\u001b[0m     \u001b[38;5;28;01mreturn\u001b[39;00m parser\n",
      "File \u001b[1;32mC:\\ProgramData\\Anaconda3\\lib\\site-packages\\pandas\\io\\parsers\\readers.py:933\u001b[0m, in \u001b[0;36mTextFileReader.__init__\u001b[1;34m(self, f, engine, **kwds)\u001b[0m\n\u001b[0;32m    930\u001b[0m     \u001b[38;5;28mself\u001b[39m\u001b[38;5;241m.\u001b[39moptions[\u001b[38;5;124m\"\u001b[39m\u001b[38;5;124mhas_index_names\u001b[39m\u001b[38;5;124m\"\u001b[39m] \u001b[38;5;241m=\u001b[39m kwds[\u001b[38;5;124m\"\u001b[39m\u001b[38;5;124mhas_index_names\u001b[39m\u001b[38;5;124m\"\u001b[39m]\n\u001b[0;32m    932\u001b[0m \u001b[38;5;28mself\u001b[39m\u001b[38;5;241m.\u001b[39mhandles: IOHandles \u001b[38;5;241m|\u001b[39m \u001b[38;5;28;01mNone\u001b[39;00m \u001b[38;5;241m=\u001b[39m \u001b[38;5;28;01mNone\u001b[39;00m\n\u001b[1;32m--> 933\u001b[0m \u001b[38;5;28mself\u001b[39m\u001b[38;5;241m.\u001b[39m_engine \u001b[38;5;241m=\u001b[39m \u001b[38;5;28;43mself\u001b[39;49m\u001b[38;5;241;43m.\u001b[39;49m\u001b[43m_make_engine\u001b[49m\u001b[43m(\u001b[49m\u001b[43mf\u001b[49m\u001b[43m,\u001b[49m\u001b[43m \u001b[49m\u001b[38;5;28;43mself\u001b[39;49m\u001b[38;5;241;43m.\u001b[39;49m\u001b[43mengine\u001b[49m\u001b[43m)\u001b[49m\n",
      "File \u001b[1;32mC:\\ProgramData\\Anaconda3\\lib\\site-packages\\pandas\\io\\parsers\\readers.py:1217\u001b[0m, in \u001b[0;36mTextFileReader._make_engine\u001b[1;34m(self, f, engine)\u001b[0m\n\u001b[0;32m   1213\u001b[0m     mode \u001b[38;5;241m=\u001b[39m \u001b[38;5;124m\"\u001b[39m\u001b[38;5;124mrb\u001b[39m\u001b[38;5;124m\"\u001b[39m\n\u001b[0;32m   1214\u001b[0m \u001b[38;5;66;03m# error: No overload variant of \"get_handle\" matches argument types\u001b[39;00m\n\u001b[0;32m   1215\u001b[0m \u001b[38;5;66;03m# \"Union[str, PathLike[str], ReadCsvBuffer[bytes], ReadCsvBuffer[str]]\"\u001b[39;00m\n\u001b[0;32m   1216\u001b[0m \u001b[38;5;66;03m# , \"str\", \"bool\", \"Any\", \"Any\", \"Any\", \"Any\", \"Any\"\u001b[39;00m\n\u001b[1;32m-> 1217\u001b[0m \u001b[38;5;28mself\u001b[39m\u001b[38;5;241m.\u001b[39mhandles \u001b[38;5;241m=\u001b[39m \u001b[43mget_handle\u001b[49m\u001b[43m(\u001b[49m\u001b[43m  \u001b[49m\u001b[38;5;66;43;03m# type: ignore[call-overload]\u001b[39;49;00m\n\u001b[0;32m   1218\u001b[0m \u001b[43m    \u001b[49m\u001b[43mf\u001b[49m\u001b[43m,\u001b[49m\n\u001b[0;32m   1219\u001b[0m \u001b[43m    \u001b[49m\u001b[43mmode\u001b[49m\u001b[43m,\u001b[49m\n\u001b[0;32m   1220\u001b[0m \u001b[43m    \u001b[49m\u001b[43mencoding\u001b[49m\u001b[38;5;241;43m=\u001b[39;49m\u001b[38;5;28;43mself\u001b[39;49m\u001b[38;5;241;43m.\u001b[39;49m\u001b[43moptions\u001b[49m\u001b[38;5;241;43m.\u001b[39;49m\u001b[43mget\u001b[49m\u001b[43m(\u001b[49m\u001b[38;5;124;43m\"\u001b[39;49m\u001b[38;5;124;43mencoding\u001b[39;49m\u001b[38;5;124;43m\"\u001b[39;49m\u001b[43m,\u001b[49m\u001b[43m \u001b[49m\u001b[38;5;28;43;01mNone\u001b[39;49;00m\u001b[43m)\u001b[49m\u001b[43m,\u001b[49m\n\u001b[0;32m   1221\u001b[0m \u001b[43m    \u001b[49m\u001b[43mcompression\u001b[49m\u001b[38;5;241;43m=\u001b[39;49m\u001b[38;5;28;43mself\u001b[39;49m\u001b[38;5;241;43m.\u001b[39;49m\u001b[43moptions\u001b[49m\u001b[38;5;241;43m.\u001b[39;49m\u001b[43mget\u001b[49m\u001b[43m(\u001b[49m\u001b[38;5;124;43m\"\u001b[39;49m\u001b[38;5;124;43mcompression\u001b[39;49m\u001b[38;5;124;43m\"\u001b[39;49m\u001b[43m,\u001b[49m\u001b[43m \u001b[49m\u001b[38;5;28;43;01mNone\u001b[39;49;00m\u001b[43m)\u001b[49m\u001b[43m,\u001b[49m\n\u001b[0;32m   1222\u001b[0m \u001b[43m    \u001b[49m\u001b[43mmemory_map\u001b[49m\u001b[38;5;241;43m=\u001b[39;49m\u001b[38;5;28;43mself\u001b[39;49m\u001b[38;5;241;43m.\u001b[39;49m\u001b[43moptions\u001b[49m\u001b[38;5;241;43m.\u001b[39;49m\u001b[43mget\u001b[49m\u001b[43m(\u001b[49m\u001b[38;5;124;43m\"\u001b[39;49m\u001b[38;5;124;43mmemory_map\u001b[39;49m\u001b[38;5;124;43m\"\u001b[39;49m\u001b[43m,\u001b[49m\u001b[43m \u001b[49m\u001b[38;5;28;43;01mFalse\u001b[39;49;00m\u001b[43m)\u001b[49m\u001b[43m,\u001b[49m\n\u001b[0;32m   1223\u001b[0m \u001b[43m    \u001b[49m\u001b[43mis_text\u001b[49m\u001b[38;5;241;43m=\u001b[39;49m\u001b[43mis_text\u001b[49m\u001b[43m,\u001b[49m\n\u001b[0;32m   1224\u001b[0m \u001b[43m    \u001b[49m\u001b[43merrors\u001b[49m\u001b[38;5;241;43m=\u001b[39;49m\u001b[38;5;28;43mself\u001b[39;49m\u001b[38;5;241;43m.\u001b[39;49m\u001b[43moptions\u001b[49m\u001b[38;5;241;43m.\u001b[39;49m\u001b[43mget\u001b[49m\u001b[43m(\u001b[49m\u001b[38;5;124;43m\"\u001b[39;49m\u001b[38;5;124;43mencoding_errors\u001b[39;49m\u001b[38;5;124;43m\"\u001b[39;49m\u001b[43m,\u001b[49m\u001b[43m \u001b[49m\u001b[38;5;124;43m\"\u001b[39;49m\u001b[38;5;124;43mstrict\u001b[39;49m\u001b[38;5;124;43m\"\u001b[39;49m\u001b[43m)\u001b[49m\u001b[43m,\u001b[49m\n\u001b[0;32m   1225\u001b[0m \u001b[43m    \u001b[49m\u001b[43mstorage_options\u001b[49m\u001b[38;5;241;43m=\u001b[39;49m\u001b[38;5;28;43mself\u001b[39;49m\u001b[38;5;241;43m.\u001b[39;49m\u001b[43moptions\u001b[49m\u001b[38;5;241;43m.\u001b[39;49m\u001b[43mget\u001b[49m\u001b[43m(\u001b[49m\u001b[38;5;124;43m\"\u001b[39;49m\u001b[38;5;124;43mstorage_options\u001b[39;49m\u001b[38;5;124;43m\"\u001b[39;49m\u001b[43m,\u001b[49m\u001b[43m \u001b[49m\u001b[38;5;28;43;01mNone\u001b[39;49;00m\u001b[43m)\u001b[49m\u001b[43m,\u001b[49m\n\u001b[0;32m   1226\u001b[0m \u001b[43m\u001b[49m\u001b[43m)\u001b[49m\n\u001b[0;32m   1227\u001b[0m \u001b[38;5;28;01massert\u001b[39;00m \u001b[38;5;28mself\u001b[39m\u001b[38;5;241m.\u001b[39mhandles \u001b[38;5;129;01mis\u001b[39;00m \u001b[38;5;129;01mnot\u001b[39;00m \u001b[38;5;28;01mNone\u001b[39;00m\n\u001b[0;32m   1228\u001b[0m f \u001b[38;5;241m=\u001b[39m \u001b[38;5;28mself\u001b[39m\u001b[38;5;241m.\u001b[39mhandles\u001b[38;5;241m.\u001b[39mhandle\n",
      "File \u001b[1;32mC:\\ProgramData\\Anaconda3\\lib\\site-packages\\pandas\\io\\common.py:789\u001b[0m, in \u001b[0;36mget_handle\u001b[1;34m(path_or_buf, mode, encoding, compression, memory_map, is_text, errors, storage_options)\u001b[0m\n\u001b[0;32m    784\u001b[0m \u001b[38;5;28;01melif\u001b[39;00m \u001b[38;5;28misinstance\u001b[39m(handle, \u001b[38;5;28mstr\u001b[39m):\n\u001b[0;32m    785\u001b[0m     \u001b[38;5;66;03m# Check whether the filename is to be opened in binary mode.\u001b[39;00m\n\u001b[0;32m    786\u001b[0m     \u001b[38;5;66;03m# Binary mode does not support 'encoding' and 'newline'.\u001b[39;00m\n\u001b[0;32m    787\u001b[0m     \u001b[38;5;28;01mif\u001b[39;00m ioargs\u001b[38;5;241m.\u001b[39mencoding \u001b[38;5;129;01mand\u001b[39;00m \u001b[38;5;124m\"\u001b[39m\u001b[38;5;124mb\u001b[39m\u001b[38;5;124m\"\u001b[39m \u001b[38;5;129;01mnot\u001b[39;00m \u001b[38;5;129;01min\u001b[39;00m ioargs\u001b[38;5;241m.\u001b[39mmode:\n\u001b[0;32m    788\u001b[0m         \u001b[38;5;66;03m# Encoding\u001b[39;00m\n\u001b[1;32m--> 789\u001b[0m         handle \u001b[38;5;241m=\u001b[39m \u001b[38;5;28;43mopen\u001b[39;49m\u001b[43m(\u001b[49m\n\u001b[0;32m    790\u001b[0m \u001b[43m            \u001b[49m\u001b[43mhandle\u001b[49m\u001b[43m,\u001b[49m\n\u001b[0;32m    791\u001b[0m \u001b[43m            \u001b[49m\u001b[43mioargs\u001b[49m\u001b[38;5;241;43m.\u001b[39;49m\u001b[43mmode\u001b[49m\u001b[43m,\u001b[49m\n\u001b[0;32m    792\u001b[0m \u001b[43m            \u001b[49m\u001b[43mencoding\u001b[49m\u001b[38;5;241;43m=\u001b[39;49m\u001b[43mioargs\u001b[49m\u001b[38;5;241;43m.\u001b[39;49m\u001b[43mencoding\u001b[49m\u001b[43m,\u001b[49m\n\u001b[0;32m    793\u001b[0m \u001b[43m            \u001b[49m\u001b[43merrors\u001b[49m\u001b[38;5;241;43m=\u001b[39;49m\u001b[43merrors\u001b[49m\u001b[43m,\u001b[49m\n\u001b[0;32m    794\u001b[0m \u001b[43m            \u001b[49m\u001b[43mnewline\u001b[49m\u001b[38;5;241;43m=\u001b[39;49m\u001b[38;5;124;43m\"\u001b[39;49m\u001b[38;5;124;43m\"\u001b[39;49m\u001b[43m,\u001b[49m\n\u001b[0;32m    795\u001b[0m \u001b[43m        \u001b[49m\u001b[43m)\u001b[49m\n\u001b[0;32m    796\u001b[0m     \u001b[38;5;28;01melse\u001b[39;00m:\n\u001b[0;32m    797\u001b[0m         \u001b[38;5;66;03m# Binary mode\u001b[39;00m\n\u001b[0;32m    798\u001b[0m         handle \u001b[38;5;241m=\u001b[39m \u001b[38;5;28mopen\u001b[39m(handle, ioargs\u001b[38;5;241m.\u001b[39mmode)\n",
      "\u001b[1;31mFileNotFoundError\u001b[0m: [Errno 2] No such file or directory: 'C:\\\\Users\\\\admin\\\\car.csv'"
     ]
    }
   ],
   "source": [
    "df=pd.read_csv(r\"C:\\Users\\admin\\car.csv\")\n",
    "df"
   ]
  },
  {
   "cell_type": "code",
   "execution_count": null,
   "id": "149feb01",
   "metadata": {},
   "outputs": [],
   "source": [
    "df.info()"
   ]
  },
  {
   "cell_type": "code",
   "execution_count": null,
   "id": "fc62d4fe",
   "metadata": {},
   "outputs": [],
   "source": [
    "df.head()"
   ]
  },
  {
   "cell_type": "code",
   "execution_count": null,
   "id": "6890e197",
   "metadata": {},
   "outputs": [],
   "source": [
    "#Features and target should be seperation.\n",
    "#Features and target should be numeric in nature.\n",
    "#Features and target should be  in proper shape and dimention.\n",
    "\n",
    "feature=df.iloc[ : , :-1]\n",
    "feature"
   ]
  },
  {
   "cell_type": "code",
   "execution_count": null,
   "id": "470e79bb",
   "metadata": {},
   "outputs": [],
   "source": [
    "target=df.iloc[ : ,-1]\n",
    "target"
   ]
  },
  {
   "cell_type": "code",
   "execution_count": null,
   "id": "7be1bd40",
   "metadata": {},
   "outputs": [],
   "source": [
    "feature.replace(\"?\",np.nan,inplace=True)\n",
    "target.replace(\"?\",np.nan,inplace=True)\n",
    "feature"
   ]
  },
  {
   "cell_type": "code",
   "execution_count": null,
   "id": "58388aa1",
   "metadata": {},
   "outputs": [],
   "source": [
    "#filing null value\n",
    "#SimpleImputer(missing_values,strategy,fill_value)\n",
    "from sklearn.impute import SimpleImputer\n",
    "s=SimpleImputer(missing_values=np.nan,strategy='mean')#strategy='mod',strategy='median'\n",
    "feature[['normalized-losses','horsepower']]=s.fit_transform(feature[['normalized-losses','horsepower']])"
   ]
  },
  {
   "cell_type": "code",
   "execution_count": null,
   "id": "4fa9caa4",
   "metadata": {},
   "outputs": [],
   "source": [
    "feature"
   ]
  },
  {
   "cell_type": "markdown",
   "id": "9746d919",
   "metadata": {},
   "source": [
    "### Outlier -->Observation lies an abnormal distance from other values in random sample of populatuion"
   ]
  },
  {
   "cell_type": "code",
   "execution_count": null,
   "id": "b852e561",
   "metadata": {},
   "outputs": [],
   "source": [
    "plt.figure(figsize=(10,10))\n",
    "sns.boxplot(data=feature,x=target,y='make')\n",
    "plt.grid()"
   ]
  },
  {
   "cell_type": "code",
   "execution_count": null,
   "id": "f37aca25",
   "metadata": {},
   "outputs": [],
   "source": [
    "i=feature[(feature.make=='dodge')&(target>10000)].index\n",
    "feature.drop(i,axis=0,inplace=True)\n",
    "target.drop(i,axis=0,inplace=True)\n",
    "\n",
    "i=feature[(feature.make=='honda')&(target>12000)].index\n",
    "feature.drop(i,axis=0,inplace=True)\n",
    "target.drop(i,axis=0,inplace=True)\n",
    "\n",
    "i=feature[(feature.make=='isuzu')&(target>20000)].index\n",
    "feature.drop(i,axis=0,inplace=True)\n",
    "target.drop(i,axis=0,inplace=True)\n",
    "\n",
    "i=feature[(feature.make=='mitsubishi')&(target>13000)].index\n",
    "feature.drop(i,axis=0,inplace=True)\n",
    "target.drop(i,axis=0,inplace=True)\n",
    "\n",
    "i=feature[(feature.make=='plymouth')&(target>10000)].index\n",
    "feature.drop(i,axis=0,inplace=True)\n",
    "target.drop(i,axis=0,inplace=True)\n",
    "\n",
    "i=feature[(feature.make=='toyota')&(target>15000)].index\n",
    "feature.drop(i,axis=0,inplace=True)\n",
    "target.drop(i,axis=0,inplace=True)"
   ]
  },
  {
   "cell_type": "code",
   "execution_count": null,
   "id": "f0d0d0d6",
   "metadata": {},
   "outputs": [],
   "source": [
    "plt.figure(figsize=(10,10))\n",
    "sns.boxplot(data=feature,x=target,y='make')\n",
    "plt.grid()"
   ]
  },
  {
   "cell_type": "markdown",
   "id": "7fad7912",
   "metadata": {},
   "source": [
    "## Skewness"
   ]
  },
  {
   "cell_type": "code",
   "execution_count": null,
   "id": "da457e5b",
   "metadata": {},
   "outputs": [],
   "source": [
    "#if skweness 0=NO need to reduce skweness \n",
    "#if skweness -1=NO need to reduce skweness\n",
    "#if skweness is highly positive than reduce it by aplying 'log' or 'squrroot' method\n",
    "#thos skweness is high but if it is highly corelated with target datathan no need to change\n",
    "#skewness is work only on numeric values\n",
    "# if high skewness find and that skew is affect on my target column than reduce that skewness. "
   ]
  },
  {
   "cell_type": "code",
   "execution_count": null,
   "id": "90561187",
   "metadata": {},
   "outputs": [],
   "source": [
    "feature.info()"
   ]
  },
  {
   "cell_type": "code",
   "execution_count": null,
   "id": "f44ba854",
   "metadata": {},
   "outputs": [],
   "source": [
    "#for selecting specific data type from dataframe(feature) select_dtype method use as follows\n",
    "col=feature.select_dtypes(['int64','float64']).columns"
   ]
  },
  {
   "cell_type": "code",
   "execution_count": null,
   "id": "d03148eb",
   "metadata": {},
   "outputs": [],
   "source": [
    "#To know value of skewness\n",
    "from scipy.stats import skew "
   ]
  },
  {
   "cell_type": "code",
   "execution_count": null,
   "id": "1737a03a",
   "metadata": {},
   "outputs": [],
   "source": [
    "for i in feature[col]:\n",
    "    print(i)\n",
    "    print(skew(feature[i]))\n",
    "    \n",
    "    plt.figure()\n",
    "    sns.distplot(feature[i])\n",
    "    plt.show()"
   ]
  },
  {
   "cell_type": "markdown",
   "id": "197840bf",
   "metadata": {},
   "source": [
    "# 04-07-2023 : "
   ]
  },
  {
   "cell_type": "markdown",
   "id": "bd9b710a",
   "metadata": {},
   "source": [
    "## To calculatte co-relation to check the skewness reduce required or not "
   ]
  },
  {
   "cell_type": "code",
   "execution_count": null,
   "id": "a747843e",
   "metadata": {},
   "outputs": [],
   "source": [
    "pd.concat([feature,target],axis=1).corr().style.background_gradient()\n",
    "#if corr is >=.5 good corr no need to change the data"
   ]
  },
  {
   "cell_type": "code",
   "execution_count": null,
   "id": "2d9ec6dd",
   "metadata": {},
   "outputs": [],
   "source": [
    "#If column which have skweness is showing good corelation with target do not remove skweness.\n",
    "#if column which has skweness and also has some negative values in corelation,do not remove skweness\n",
    "#If found skweness >=0 than and the correlation is <0.5 than its need to work on skewness i.e need to reduce the data"
   ]
  },
  {
   "cell_type": "code",
   "execution_count": null,
   "id": "52ad0858",
   "metadata": {},
   "outputs": [],
   "source": [
    "print(np.log(-1))\n",
    "print(np.sqrt(25))\n",
    "#these two method are used to remove skewness"
   ]
  },
  {
   "cell_type": "markdown",
   "id": "03274da1",
   "metadata": {},
   "source": [
    "### Step 4 of EDA : remove skweness"
   ]
  },
  {
   "cell_type": "code",
   "execution_count": null,
   "id": "2d3be939",
   "metadata": {},
   "outputs": [],
   "source": [
    "np.log(feature['normalized-losses'])"
   ]
  },
  {
   "cell_type": "code",
   "execution_count": null,
   "id": "6cad5605",
   "metadata": {},
   "outputs": [],
   "source": [
    "feature['normalized-losses']=np.log(feature['normalized-losses'])"
   ]
  },
  {
   "cell_type": "code",
   "execution_count": null,
   "id": "eb74a8b0",
   "metadata": {},
   "outputs": [],
   "source": [
    "skew(feature['normalized-losses'])"
   ]
  },
  {
   "cell_type": "code",
   "execution_count": null,
   "id": "c79b7a4b",
   "metadata": {},
   "outputs": [],
   "source": [
    "feature.head()\n",
    "#If there is no numeric values than that columns data called categorial data type"
   ]
  },
  {
   "cell_type": "markdown",
   "id": "a0660551",
   "metadata": {},
   "source": [
    "### Step5 of EDA : Encoding To convert categorical data into numerical data"
   ]
  },
  {
   "cell_type": "code",
   "execution_count": null,
   "id": "915a6389",
   "metadata": {},
   "outputs": [],
   "source": [
    "feature.info()"
   ]
  },
  {
   "cell_type": "code",
   "execution_count": null,
   "id": "fb4402d5",
   "metadata": {},
   "outputs": [],
   "source": [
    "feature['make'].unique()"
   ]
  },
  {
   "cell_type": "code",
   "execution_count": null,
   "id": "e9032add",
   "metadata": {},
   "outputs": [],
   "source": []
  },
  {
   "cell_type": "markdown",
   "id": "e65a09e8",
   "metadata": {},
   "source": [
    "## 05-07-2023 \n",
    "### Handling categorical column using Encoding"
   ]
  },
  {
   "cell_type": "code",
   "execution_count": null,
   "id": "041ce744",
   "metadata": {},
   "outputs": [],
   "source": [
    "feature['fuel-type']"
   ]
  },
  {
   "cell_type": "code",
   "execution_count": null,
   "id": "d7cc42c4",
   "metadata": {},
   "outputs": [],
   "source": [
    "pd.get_dummies(feature['fuel-type'])"
   ]
  },
  {
   "cell_type": "code",
   "execution_count": null,
   "id": "8066aa23",
   "metadata": {
    "scrolled": true
   },
   "outputs": [],
   "source": [
    "pd.get_dummies(feature['make'])"
   ]
  },
  {
   "cell_type": "code",
   "execution_count": null,
   "id": "daedf9c8",
   "metadata": {},
   "outputs": [],
   "source": [
    "#steps of \n",
    "#1 Import the liabrary\n",
    "#2 create object\n",
    "#3 apply method"
   ]
  },
  {
   "cell_type": "code",
   "execution_count": null,
   "id": "8303ee99",
   "metadata": {},
   "outputs": [],
   "source": [
    "from sklearn.preprocessing import OneHotEncoder"
   ]
  },
  {
   "cell_type": "code",
   "execution_count": null,
   "id": "eb7ae0be",
   "metadata": {},
   "outputs": [],
   "source": [
    "#[[]] to convert into data frame\n",
    "#[] is represet series\n",
    "#Due to onehotencoder is only show after applying 'toarray()' thats why its need to show in 2D array i.e apply[[]]\n",
    "ohe=OneHotEncoder()\n",
    "ohe.fit_transform(feature[['make']]).toarray()"
   ]
  },
  {
   "cell_type": "code",
   "execution_count": null,
   "id": "e21b2965",
   "metadata": {},
   "outputs": [],
   "source": [
    "#Label Encoder\n",
    "#its 1D array []\n",
    "from sklearn.preprocessing import LabelEncoder\n",
    "le=LabelEncoder()\n",
    "le.fit_transform(feature['make'])"
   ]
  },
  {
   "cell_type": "code",
   "execution_count": null,
   "id": "455f2b7d",
   "metadata": {},
   "outputs": [],
   "source": [
    "#Ordinal Encoder\n",
    "#its work on multiple column\n",
    "from sklearn.preprocessing import OrdinalEncoder\n",
    "oe=OrdinalEncoder()\n",
    "oe.fit_transform(feature[['make','fuel-type']])"
   ]
  },
  {
   "cell_type": "code",
   "execution_count": null,
   "id": "2dd2891a",
   "metadata": {},
   "outputs": [],
   "source": [
    "cat_col=feature.select_dtypes(object).columns"
   ]
  },
  {
   "cell_type": "code",
   "execution_count": null,
   "id": "e8fd171b",
   "metadata": {},
   "outputs": [],
   "source": [
    "feature[cat_col]=oe.fit_transform(feature[cat_col])"
   ]
  },
  {
   "cell_type": "code",
   "execution_count": null,
   "id": "e7a760b2",
   "metadata": {},
   "outputs": [],
   "source": [
    "feature"
   ]
  },
  {
   "cell_type": "code",
   "execution_count": null,
   "id": "bd288049",
   "metadata": {},
   "outputs": [],
   "source": [
    "feature.info()"
   ]
  },
  {
   "cell_type": "markdown",
   "id": "ef49191c",
   "metadata": {},
   "source": [
    "## 06-07-2023"
   ]
  },
  {
   "cell_type": "code",
   "execution_count": null,
   "id": "2e26b29a",
   "metadata": {},
   "outputs": [],
   "source": [
    "#library(sklearn)->module(preprocessing)->classes(StandardScaler)->method(fit_transform)\n",
    "from sklearn.preprocessing import StandardScaler \n",
    "sc=StandardScaler()\n",
    "feature.iloc[:,:]=sc.fit_transform(feature.iloc[:,:])"
   ]
  },
  {
   "cell_type": "code",
   "execution_count": null,
   "id": "ceb2e99a",
   "metadata": {},
   "outputs": [],
   "source": [
    "feature"
   ]
  },
  {
   "cell_type": "code",
   "execution_count": null,
   "id": "883117db",
   "metadata": {},
   "outputs": [],
   "source": [
    "a=np.array([1,2,3,4,5])\n",
    "b=np.array([10,20,30,40,50])\n",
    "c=np.array([100,200,300,400,500])\n"
   ]
  },
  {
   "cell_type": "code",
   "execution_count": null,
   "id": "4821b22d",
   "metadata": {},
   "outputs": [],
   "source": [
    "def minmax(arr):\n",
    "    xnew=(arr-arr.min())/(arr.max()-arr.min())\n",
    "    return xnew\n",
    "    "
   ]
  },
  {
   "cell_type": "code",
   "execution_count": null,
   "id": "437ef928",
   "metadata": {},
   "outputs": [],
   "source": [
    "minmax(c)"
   ]
  },
  {
   "cell_type": "code",
   "execution_count": null,
   "id": "fd1bbb7b",
   "metadata": {},
   "outputs": [],
   "source": [
    "#from sklearn.preprocessing import MinMaxScaler\n",
    "#we already apply standard scaler so MinMaxScaler not apply here"
   ]
  },
  {
   "cell_type": "code",
   "execution_count": null,
   "id": "be749895",
   "metadata": {},
   "outputs": [],
   "source": [
    "#On available data split the data into \n",
    "#train-test-split\n",
    "#x i/p xtrait & xtest\n",
    "#y o/p ytrait & ytest"
   ]
  },
  {
   "cell_type": "markdown",
   "id": "ce2d0f4d",
   "metadata": {},
   "source": [
    "# Feature Engineering"
   ]
  },
  {
   "cell_type": "code",
   "execution_count": null,
   "id": "f2c6ff55",
   "metadata": {},
   "outputs": [],
   "source": [
    "feature['Area']=feature['width']*feature['height']"
   ]
  },
  {
   "cell_type": "code",
   "execution_count": null,
   "id": "8de0b20c",
   "metadata": {},
   "outputs": [],
   "source": [
    "feature"
   ]
  },
  {
   "cell_type": "code",
   "execution_count": null,
   "id": "e3a34598",
   "metadata": {},
   "outputs": [],
   "source": [
    "feature.drop(['height','width'],axis=1,inplace=True)"
   ]
  },
  {
   "cell_type": "code",
   "execution_count": null,
   "id": "97c16341",
   "metadata": {},
   "outputs": [],
   "source": [
    "feature"
   ]
  },
  {
   "cell_type": "markdown",
   "id": "86f5167d",
   "metadata": {},
   "source": [
    "# Scores Data Analysis 10-07-2023"
   ]
  },
  {
   "cell_type": "code",
   "execution_count": null,
   "id": "2d3b6707",
   "metadata": {},
   "outputs": [],
   "source": [
    "df=pd.read_csv(r\"C:\\Users\\admin\\Desktop\\Scores.csv\")\n",
    "df"
   ]
  },
  {
   "cell_type": "code",
   "execution_count": null,
   "id": "fdd4aecb",
   "metadata": {},
   "outputs": [],
   "source": [
    "df.info()"
   ]
  },
  {
   "cell_type": "code",
   "execution_count": null,
   "id": "e750d2f0",
   "metadata": {},
   "outputs": [],
   "source": [
    "#Always x should be in 2D and y in 1D\n",
    "#split the data into x & y i.e features & target column\n",
    "x=df[['Hours']]\n",
    "y=df['Scores']\n"
   ]
  },
  {
   "cell_type": "code",
   "execution_count": null,
   "id": "fda1c27d",
   "metadata": {},
   "outputs": [],
   "source": [
    "#Split data into tain and test\n",
    "#random_state is use to give permenant size for xtrain\n",
    "from sklearn.model_selection import train_test_split\n",
    "xtrain,xtest,ytrain,ytest=train_test_split(x,y,test_size=0.2,random_state=42)"
   ]
  },
  {
   "cell_type": "code",
   "execution_count": null,
   "id": "5bc2c024",
   "metadata": {},
   "outputs": [],
   "source": [
    "xtrain"
   ]
  },
  {
   "cell_type": "code",
   "execution_count": null,
   "id": "8e785998",
   "metadata": {},
   "outputs": [],
   "source": [
    "ytrain"
   ]
  },
  {
   "cell_type": "code",
   "execution_count": null,
   "id": "fcc96040",
   "metadata": {},
   "outputs": [],
   "source": [
    "#built model\n",
    "#Step:1 Import model\n",
    "from sklearn.linear_model import LinearRegression\n",
    "\n",
    "#Step:2 Create instance/object of model\n",
    "lr=LinearRegression()\n",
    "\n",
    "#Step:3 Train a model\n",
    "lr.fit(xtrain,ytrain)#In Linear Regression best fit value by calculating\n",
    "                     #m and c.     \n",
    "#Step:4 predict values\n",
    "ypred=lr.predict(xtest)"
   ]
  },
  {
   "cell_type": "code",
   "execution_count": null,
   "id": "f0b2eb0e",
   "metadata": {},
   "outputs": [],
   "source": [
    "ypred"
   ]
  },
  {
   "cell_type": "code",
   "execution_count": null,
   "id": "327a9134",
   "metadata": {},
   "outputs": [],
   "source": [
    "ytest"
   ]
  },
  {
   "cell_type": "code",
   "execution_count": null,
   "id": "cd7117ee",
   "metadata": {},
   "outputs": [],
   "source": [
    "xtest"
   ]
  },
  {
   "cell_type": "code",
   "execution_count": null,
   "id": "c15b012a",
   "metadata": {},
   "outputs": [],
   "source": [
    "lr.coef_ #finding slop(m)"
   ]
  },
  {
   "cell_type": "code",
   "execution_count": null,
   "id": "635b0203",
   "metadata": {},
   "outputs": [],
   "source": [
    "lr.intercept_ # finding slop(c)"
   ]
  },
  {
   "cell_type": "code",
   "execution_count": null,
   "id": "3218b33c",
   "metadata": {},
   "outputs": [],
   "source": [
    "#Evaluate model\n",
    "from sklearn.metrics import r2_score"
   ]
  },
  {
   "cell_type": "code",
   "execution_count": null,
   "id": "d6e0674f",
   "metadata": {},
   "outputs": [],
   "source": [
    "r2_score(ytest,ypred)"
   ]
  },
  {
   "cell_type": "code",
   "execution_count": null,
   "id": "b5f33c94",
   "metadata": {},
   "outputs": [],
   "source": [
    "lr.predict([[4.4]])#predicting new observation"
   ]
  },
  {
   "cell_type": "markdown",
   "id": "ddf3f630",
   "metadata": {},
   "source": [
    "# Real Estate 10.07.2023"
   ]
  },
  {
   "cell_type": "code",
   "execution_count": null,
   "id": "e3be873d",
   "metadata": {},
   "outputs": [],
   "source": [
    "df=pd.read_csv(r\"C:\\Users\\admin\\Desktop\\Real_estates.csv\")"
   ]
  },
  {
   "cell_type": "code",
   "execution_count": null,
   "id": "964c6809",
   "metadata": {},
   "outputs": [],
   "source": [
    "df"
   ]
  },
  {
   "cell_type": "code",
   "execution_count": null,
   "id": "bbd5e672",
   "metadata": {},
   "outputs": [],
   "source": [
    "df.info()"
   ]
  },
  {
   "cell_type": "code",
   "execution_count": null,
   "id": "cea1cedc",
   "metadata": {},
   "outputs": [],
   "source": [
    "sns.pairplot(df)"
   ]
  },
  {
   "cell_type": "code",
   "execution_count": null,
   "id": "a2eaf131",
   "metadata": {},
   "outputs": [],
   "source": [
    "#To find the price column is normaly distributed or not\n",
    "sns.distplot(df['Price'])"
   ]
  },
  {
   "cell_type": "code",
   "execution_count": null,
   "id": "03dea529",
   "metadata": {},
   "outputs": [],
   "source": [
    "df.corr()"
   ]
  },
  {
   "cell_type": "code",
   "execution_count": null,
   "id": "d69c2548",
   "metadata": {},
   "outputs": [],
   "source": [
    "#mean is almost equal to median(50% wala row) so data is skewness\n",
    "df.describe()"
   ]
  },
  {
   "cell_type": "code",
   "execution_count": null,
   "id": "36cace5c",
   "metadata": {},
   "outputs": [],
   "source": [
    "#Target column\n",
    "#through df.iloc[:,-2]\n",
    "y=df['Price']"
   ]
  },
  {
   "cell_type": "code",
   "execution_count": null,
   "id": "68578c73",
   "metadata": {},
   "outputs": [],
   "source": [
    "y"
   ]
  },
  {
   "cell_type": "code",
   "execution_count": null,
   "id": "18d9c549",
   "metadata": {},
   "outputs": [],
   "source": [
    "#x=df.iloc[:,df.columns!='Price']\n",
    "x=df.iloc[:,:-2]"
   ]
  },
  {
   "cell_type": "code",
   "execution_count": null,
   "id": "2b4b86e4",
   "metadata": {},
   "outputs": [],
   "source": [
    "x"
   ]
  },
  {
   "cell_type": "code",
   "execution_count": null,
   "id": "e0b1dc3f",
   "metadata": {},
   "outputs": [],
   "source": [
    "from sklearn.model_selection import train_test_split\n",
    "xtrain,xtest,ytrain,ytest=train_test_split(x,y,test_size=0.3,random_state=1)"
   ]
  },
  {
   "cell_type": "code",
   "execution_count": null,
   "id": "b8121780",
   "metadata": {},
   "outputs": [],
   "source": [
    "#built model\n",
    "#Step:1 Import model\n",
    "from sklearn.linear_model import LinearRegression\n",
    "\n",
    "#Step:2 Create instance/object of model\n",
    "lr=LinearRegression()\n",
    "\n",
    "#Step:3 Train a model\n",
    "lr.fit(xtrain,ytrain)#In Linear Regression best fit value by calculating\n",
    "                     #m and c.     \n",
    "#Step:4 predict values\n",
    "ypred=lr.predict(xtest)"
   ]
  },
  {
   "cell_type": "code",
   "execution_count": null,
   "id": "518a424d",
   "metadata": {},
   "outputs": [],
   "source": [
    "ypred"
   ]
  },
  {
   "cell_type": "code",
   "execution_count": null,
   "id": "d7bb90ed",
   "metadata": {},
   "outputs": [],
   "source": [
    "#Evaluate model\n",
    "from sklearn.metrics import r2_score\n",
    "r2_score(ytest,ypred)"
   ]
  },
  {
   "cell_type": "code",
   "execution_count": null,
   "id": "7be26ae5",
   "metadata": {},
   "outputs": [],
   "source": [
    "lr.coef_"
   ]
  },
  {
   "cell_type": "code",
   "execution_count": null,
   "id": "e465e86d",
   "metadata": {},
   "outputs": [],
   "source": [
    "pd.DataFrame({\"Feature\":x.columns,\"coef\":lr.coef_})"
   ]
  },
  {
   "cell_type": "code",
   "execution_count": null,
   "id": "c32ac644",
   "metadata": {},
   "outputs": [],
   "source": [
    "#rooms=df['Avg. Area Number of Rooms']\n",
    "#mlt.scatter(rooms,ypred)\n",
    "#mlt.plot(xtest['Avg. Area Number of Rooms'],ypred)"
   ]
  },
  {
   "cell_type": "code",
   "execution_count": null,
   "id": "0c595bdc",
   "metadata": {},
   "outputs": [],
   "source": [
    "#Error loss function OR cost function\n",
    "from sklearn.metrics import mean_absolute_error"
   ]
  },
  {
   "cell_type": "code",
   "execution_count": null,
   "id": "72ace67e",
   "metadata": {},
   "outputs": [],
   "source": [
    "#MAE\n",
    "mean_absolute_error(ytest,ypred)"
   ]
  },
  {
   "cell_type": "code",
   "execution_count": null,
   "id": "70ea93bc",
   "metadata": {},
   "outputs": [],
   "source": [
    "#MSE\n",
    "from sklearn.metrics import mean_squared_error\n",
    "mean_squared_error(ytest,ypred)"
   ]
  },
  {
   "cell_type": "code",
   "execution_count": null,
   "id": "d0db8601",
   "metadata": {},
   "outputs": [],
   "source": [
    "#RMSE\n",
    "np.sqrt(mean_squared_error(ytest,ypred))"
   ]
  },
  {
   "cell_type": "code",
   "execution_count": null,
   "id": "35ab6a7a",
   "metadata": {},
   "outputs": [],
   "source": [
    "xtrain=np.arange(0,len(xtrain),1)\n",
    "mlt.scatter(xtrain,ytrain,color='red')\n",
    "mlt.plot(xtest.values,ypred,color='blue')"
   ]
  },
  {
   "cell_type": "markdown",
   "id": "7f226a04",
   "metadata": {},
   "source": [
    "# 17.07.2023\n",
    "# Position_Salaries\n",
    "# Polynomial linear regression\n",
    "### Non linera regression data sathi polynomial linear regression use"
   ]
  },
  {
   "cell_type": "code",
   "execution_count": null,
   "id": "4d604fcf",
   "metadata": {},
   "outputs": [],
   "source": [
    "df=pd.read_csv(r'C:\\Users\\admin\\Desktop\\Position_Salaries.csv')\n",
    "df"
   ]
  },
  {
   "cell_type": "code",
   "execution_count": null,
   "id": "0e42038c",
   "metadata": {},
   "outputs": [],
   "source": [
    "x=df[['Level']]\n",
    "y=df['Salary']"
   ]
  },
  {
   "cell_type": "code",
   "execution_count": null,
   "id": "38104420",
   "metadata": {},
   "outputs": [],
   "source": [
    "from sklearn.linear_model import LinearRegression\n",
    "lr=LinearRegression()\n",
    "lr.fit(x,y)\n",
    "ypred=lr.predict(x)"
   ]
  },
  {
   "cell_type": "code",
   "execution_count": null,
   "id": "2416f90c",
   "metadata": {},
   "outputs": [],
   "source": [
    "from sklearn.metrics import r2_score"
   ]
  },
  {
   "cell_type": "code",
   "execution_count": null,
   "id": "7bc26281",
   "metadata": {},
   "outputs": [],
   "source": [
    "r2_score(y,ypred)"
   ]
  },
  {
   "cell_type": "code",
   "execution_count": null,
   "id": "9c5c96cf",
   "metadata": {},
   "outputs": [],
   "source": [
    "mlt.scatter(x,y,color='red')\n",
    "mlt.plot(x.values,ypred,color='blue')"
   ]
  },
  {
   "cell_type": "code",
   "execution_count": null,
   "id": "1c87d006",
   "metadata": {},
   "outputs": [],
   "source": [
    "#convert the feature into polyxtrain\n",
    "\n",
    "from sklearn.preprocessing import PolynomialFeatures\n",
    "pf=PolynomialFeatures()\n",
    "polyxtrain=pf.fit_transform(x) #xtrain\n",
    "\n",
    "from sklearn.linear_model import LinearRegression\n",
    "lr=LinearRegression()\n",
    "lr.fit(polyxtrain,y)\n",
    "ypred=lr.predict(polyxtrain) #poly feature of xtest"
   ]
  },
  {
   "cell_type": "code",
   "execution_count": null,
   "id": "7a9753bf",
   "metadata": {},
   "outputs": [],
   "source": [
    "from sklearn.metrics import r2_score"
   ]
  },
  {
   "cell_type": "code",
   "execution_count": null,
   "id": "d604e4c6",
   "metadata": {},
   "outputs": [],
   "source": [
    "r2_score(y,ypred)"
   ]
  },
  {
   "cell_type": "code",
   "execution_count": null,
   "id": "934e855f",
   "metadata": {},
   "outputs": [],
   "source": [
    "mlt.scatter(x,y,color='red')\n",
    "mlt.plot(x.values,ypred,color='blue')"
   ]
  },
  {
   "cell_type": "code",
   "execution_count": null,
   "id": "0fa24bb2",
   "metadata": {},
   "outputs": [],
   "source": [
    "sns.pairplot(df)"
   ]
  },
  {
   "cell_type": "markdown",
   "id": "a1a18240",
   "metadata": {},
   "source": [
    "# 24.7.2023 Social Network ads"
   ]
  },
  {
   "cell_type": "code",
   "execution_count": null,
   "id": "aa0c5d44",
   "metadata": {},
   "outputs": [],
   "source": [
    "import pandas as pd\n",
    "import numpy as np\n",
    "import matplotlib.pyplot as plt\n",
    "import seaborn as sns"
   ]
  },
  {
   "cell_type": "code",
   "execution_count": null,
   "id": "a938748c",
   "metadata": {},
   "outputs": [],
   "source": [
    "df=pd.read_csv(r\"C:\\Users\\admin\\Desktop\\Social_Network_Ads.csv\")"
   ]
  },
  {
   "cell_type": "code",
   "execution_count": null,
   "id": "1828b381",
   "metadata": {},
   "outputs": [],
   "source": [
    "df"
   ]
  },
  {
   "cell_type": "code",
   "execution_count": null,
   "id": "3daf1024",
   "metadata": {},
   "outputs": [],
   "source": [
    "df['Purchased'].value_counts()\n",
    "#0 for no\n",
    "#1 for yes"
   ]
  },
  {
   "cell_type": "code",
   "execution_count": null,
   "id": "78088072",
   "metadata": {},
   "outputs": [],
   "source": [
    "#remove unnesesorrry column\n",
    "df.drop(columns=\"User ID\",inplace=True)"
   ]
  },
  {
   "cell_type": "code",
   "execution_count": null,
   "id": "f5018ac5",
   "metadata": {},
   "outputs": [],
   "source": [
    "df.info()"
   ]
  },
  {
   "cell_type": "code",
   "execution_count": null,
   "id": "5243bfed",
   "metadata": {},
   "outputs": [],
   "source": [
    "sns.pairplot(df,hue='Purchased')"
   ]
  },
  {
   "cell_type": "code",
   "execution_count": null,
   "id": "965448d9",
   "metadata": {},
   "outputs": [],
   "source": [
    "df.head()"
   ]
  },
  {
   "cell_type": "code",
   "execution_count": null,
   "id": "93e93443",
   "metadata": {},
   "outputs": [],
   "source": [
    "#seperate x and y\n",
    "x=df.iloc[:,1:-1]\n",
    "y=df['Purchased']\n",
    "x"
   ]
  },
  {
   "cell_type": "code",
   "execution_count": null,
   "id": "7442b535",
   "metadata": {},
   "outputs": [],
   "source": [
    "from sklearn.model_selection import train_test_split\n",
    "xtrain,xtest,ytrain,ytest=train_test_split(x,y,test_size=0.25,random_state=0)"
   ]
  },
  {
   "cell_type": "code",
   "execution_count": null,
   "id": "2b22f77e",
   "metadata": {},
   "outputs": [],
   "source": [
    "from sklearn.neighbors import KNeighborsClassifier\n",
    "kn=KNeighborsClassifier(n_neighbors=3) # K value default 5\n",
    "kn.fit(xtrain,ytrain)\n",
    "ypred=kn.predict(xtest)"
   ]
  },
  {
   "cell_type": "code",
   "execution_count": null,
   "id": "d5b53f05",
   "metadata": {},
   "outputs": [],
   "source": [
    "from sklearn.metrics import accuracy_score\n",
    "accuracy_score(ytest,ypred)"
   ]
  },
  {
   "cell_type": "code",
   "execution_count": null,
   "id": "dff125f4",
   "metadata": {},
   "outputs": [],
   "source": [
    "#Try to find out best value for k..\n",
    "#hyper tuning the value for k\n",
    "ac_list=[]\n",
    "for i in range(1,31):\n",
    "    kn=KNeighborsClassifier(n_neighbors=i) # K value default 5\n",
    "    kn.fit(xtrain,ytrain) \n",
    "    ypred=kn.predict(xtest)\n",
    "    ac=accuracy_score(ytest,ypred)\n",
    "    ac_list.append(ac)"
   ]
  },
  {
   "cell_type": "code",
   "execution_count": null,
   "id": "8fb60dca",
   "metadata": {},
   "outputs": [],
   "source": [
    "ac_list"
   ]
  },
  {
   "cell_type": "code",
   "execution_count": null,
   "id": "8c330141",
   "metadata": {},
   "outputs": [],
   "source": [
    "plt.figure(figsize=(7,7))\n",
    "plt.plot(range(1,31),ac_list,marker=\"o\")\n",
    "plt.xlabel(\"value of k\")\n",
    "plt.ylabel(\"Accuracy\")\n",
    "plt.grid()\n",
    "plt.show"
   ]
  },
  {
   "cell_type": "code",
   "execution_count": null,
   "id": "359a2faf",
   "metadata": {},
   "outputs": [],
   "source": [
    "kn=KNeighborsClassifier(n_neighbors=11) # K value default 5\n",
    "kn.fit(xtrain,ytrain) \n",
    "ypred=kn.predict(xtest)\n",
    "accuracy_score(ytest,ypred)"
   ]
  },
  {
   "cell_type": "code",
   "execution_count": null,
   "id": "5e59a2a1",
   "metadata": {},
   "outputs": [],
   "source": [
    "from sklearn.metrics import confusion_matrix\n",
    "confusion_matrix(ytest,ypred)\n",
    "#Read below output:89(65+24) is correctly predicted & 11(8+3) is non corrected.\n",
    "#3 is type 1(False negative) error & 8 is type 2(false positive) error.\n",
    "#"
   ]
  },
  {
   "cell_type": "markdown",
   "id": "fca21a8c",
   "metadata": {},
   "source": [
    "# 25.07.2023 Mobile Data:Grid Search CV for find K value"
   ]
  },
  {
   "cell_type": "code",
   "execution_count": null,
   "id": "66ca3ebb",
   "metadata": {},
   "outputs": [],
   "source": [
    "df=pd.read_csv(r\"C:\\Users\\admin\\Desktop\\Mobile_data.csv\")\n",
    "df"
   ]
  },
  {
   "cell_type": "code",
   "execution_count": null,
   "id": "137c0369",
   "metadata": {},
   "outputs": [],
   "source": [
    "df.columns"
   ]
  },
  {
   "cell_type": "code",
   "execution_count": null,
   "id": "102d7055",
   "metadata": {},
   "outputs": [],
   "source": [
    "df['price_range'].value_counts()\n",
    "#Data equally distributed"
   ]
  },
  {
   "cell_type": "code",
   "execution_count": null,
   "id": "8f87b5b9",
   "metadata": {
    "scrolled": true
   },
   "outputs": [],
   "source": [
    "df.describe()"
   ]
  },
  {
   "cell_type": "code",
   "execution_count": null,
   "id": "d292ae11",
   "metadata": {},
   "outputs": [],
   "source": [
    "\n",
    "mlt.figure(figsize=(12,12))\n",
    "sns.heatmap(df.corr(),annot=True)"
   ]
  },
  {
   "cell_type": "code",
   "execution_count": null,
   "id": "b4e348de",
   "metadata": {},
   "outputs": [],
   "source": [
    "#To find Correlation though code\n",
    "corr=df.corr()\n",
    "high_corr_feature=corr.index[abs(corr['price_range'])>0.5]"
   ]
  },
  {
   "cell_type": "code",
   "execution_count": null,
   "id": "d611c05d",
   "metadata": {},
   "outputs": [],
   "source": [
    "high_corr_feature"
   ]
  },
  {
   "cell_type": "code",
   "execution_count": null,
   "id": "9521884a",
   "metadata": {},
   "outputs": [],
   "source": [
    "#Only show the highly corelated data heatmap\n",
    "sns.heatmap(data=df[high_corr_feature].corr(),annot=True)"
   ]
  },
  {
   "cell_type": "code",
   "execution_count": null,
   "id": "e1f410ac",
   "metadata": {},
   "outputs": [],
   "source": [
    "x=df.iloc[:,:-1] #x=df.drop(['Price_range'],axis=1)\n",
    "y=df.iloc[:,-1]# y=df['Price_range']"
   ]
  },
  {
   "cell_type": "code",
   "execution_count": null,
   "id": "2ec5bd99",
   "metadata": {},
   "outputs": [],
   "source": [
    "from sklearn.model_selection import train_test_split\n",
    "xtrain,xtest,ytrain,ytest=train_test_split(x,y,test_size=0.20,random_state=123)"
   ]
  },
  {
   "cell_type": "markdown",
   "id": "225abafb",
   "metadata": {},
   "source": [
    "Model_Building "
   ]
  },
  {
   "cell_type": "code",
   "execution_count": null,
   "id": "9d349ecd",
   "metadata": {},
   "outputs": [],
   "source": [
    "from sklearn.neighbors import KNeighborsClassifier\n",
    "clf=KNeighborsClassifier(n_neighbors=5)\n",
    "clf.fit(xtrain,ytrain)"
   ]
  },
  {
   "cell_type": "code",
   "execution_count": null,
   "id": "006e8980",
   "metadata": {},
   "outputs": [],
   "source": [
    "param_grid={\"n_neighbors\":[2,4,5,7,9],\n",
    "            \"metric\":['euclidean','minikowski','manhattan'],\n",
    "            'weights':['uniform','distance']}\n",
    "#to adjust data point below two technique is use\n",
    "#uniform : equally distrbuted,distance : from k to data distance of inverse value"
   ]
  },
  {
   "cell_type": "code",
   "execution_count": null,
   "id": "d043ff9e",
   "metadata": {},
   "outputs": [],
   "source": [
    "from sklearn.model_selection import GridSearchCV"
   ]
  },
  {
   "cell_type": "code",
   "execution_count": null,
   "id": "d4c98719",
   "metadata": {},
   "outputs": [],
   "source": [
    "model=GridSearchCV(clf,param_grid,cv=3,n_jobs=-1,scoring='accuracy')\n",
    "#cv=cross validation combination number given in cv\n",
    "#n_jobs:\n",
    "#scoring:scor find out\n",
    "model.fit(xtrain,ytrain)"
   ]
  },
  {
   "cell_type": "code",
   "execution_count": null,
   "id": "8f3132b9",
   "metadata": {},
   "outputs": [],
   "source": [
    "model.best_params_"
   ]
  },
  {
   "cell_type": "code",
   "execution_count": null,
   "id": "d2a62622",
   "metadata": {},
   "outputs": [],
   "source": [
    "model.best_score_"
   ]
  },
  {
   "cell_type": "markdown",
   "id": "a202cc68",
   "metadata": {},
   "source": [
    "# 31-07-2023"
   ]
  },
  {
   "cell_type": "code",
   "execution_count": null,
   "id": "d2d649cf",
   "metadata": {},
   "outputs": [],
   "source": [
    "import pandas as pd\n",
    "import numpy as np\n",
    "import seaborn as sns\n",
    "import matplotlib.pylab as plt\n",
    "import warnings\n",
    "warnings.filterwarnings(\"ignore\")"
   ]
  },
  {
   "cell_type": "code",
   "execution_count": null,
   "id": "c8d89823",
   "metadata": {},
   "outputs": [],
   "source": [
    "dfcar=pd.read_csv(r\"C:\\Users\\admin\\car.csv\")\n",
    "dfcar"
   ]
  },
  {
   "cell_type": "code",
   "execution_count": null,
   "id": "4291dc8f",
   "metadata": {},
   "outputs": [],
   "source": [
    "dfcar.replace(\"?\",np.nan,inplace=True)"
   ]
  },
  {
   "cell_type": "code",
   "execution_count": null,
   "id": "7b0bc793",
   "metadata": {},
   "outputs": [],
   "source": [
    "dfcar['horsepower']=dfcar['horsepower'].astype('float')"
   ]
  },
  {
   "cell_type": "code",
   "execution_count": null,
   "id": "a8075fb7",
   "metadata": {},
   "outputs": [],
   "source": [
    "dfcar['normalized-losses']=dfcar['normalized-losses'].astype('float')"
   ]
  },
  {
   "cell_type": "code",
   "execution_count": null,
   "id": "408125c8",
   "metadata": {},
   "outputs": [],
   "source": [
    "dfcar.info()"
   ]
  },
  {
   "cell_type": "code",
   "execution_count": null,
   "id": "b0da6ea6",
   "metadata": {},
   "outputs": [],
   "source": [
    "dfcar.mean()\n",
    "dfcar.fillna(dfcar.mean(),inplace=True)"
   ]
  },
  {
   "cell_type": "code",
   "execution_count": null,
   "id": "c378be32",
   "metadata": {},
   "outputs": [],
   "source": [
    "dfcar"
   ]
  },
  {
   "cell_type": "code",
   "execution_count": null,
   "id": "8ca9629e",
   "metadata": {},
   "outputs": [],
   "source": [
    "feature=dfcar.iloc[ : , :-1]\n",
    "target=dfcar.iloc[ : ,-1]"
   ]
  },
  {
   "cell_type": "code",
   "execution_count": null,
   "id": "23b8857b",
   "metadata": {},
   "outputs": [],
   "source": [
    "feature"
   ]
  },
  {
   "cell_type": "code",
   "execution_count": null,
   "id": "74f192a3",
   "metadata": {},
   "outputs": [],
   "source": [
    "target"
   ]
  },
  {
   "cell_type": "code",
   "execution_count": null,
   "id": "a15af334",
   "metadata": {},
   "outputs": [],
   "source": [
    "#seperate the numerical data & categorical column\n",
    "num_feature=feature.select_dtypes(['int64','float64'])\n",
    "cat_feature=feature.select_dtypes(['object']).columns"
   ]
  },
  {
   "cell_type": "code",
   "execution_count": null,
   "id": "f30973dd",
   "metadata": {},
   "outputs": [],
   "source": [
    "from sklearn.preprocessing import OrdinalEncoder\n",
    "oe=OrdinalEncoder()\n",
    "feature[cat_feature]=oe.fit_transform(feature[cat_feature])"
   ]
  },
  {
   "cell_type": "code",
   "execution_count": null,
   "id": "f95eab14",
   "metadata": {},
   "outputs": [],
   "source": [
    "feature"
   ]
  },
  {
   "cell_type": "code",
   "execution_count": null,
   "id": "f0d6a342",
   "metadata": {},
   "outputs": [],
   "source": [
    "from sklearn.model_selection import train_test_split\n",
    "xtrain,xtest,ytrain,ytest=train_test_split(feature,target,test_size=0.3,random_state=1)"
   ]
  },
  {
   "cell_type": "code",
   "execution_count": null,
   "id": "30c5303f",
   "metadata": {},
   "outputs": [],
   "source": [
    "from sklearn.linear_model import LinearRegression\n",
    "lr=LinearRegression()\n",
    "lr.fit(xtrain,ytrain)"
   ]
  },
  {
   "cell_type": "code",
   "execution_count": null,
   "id": "b25c08cd",
   "metadata": {},
   "outputs": [],
   "source": [
    "train=lr.score(xtrain,ytrain)#training accuracy\n",
    "test=lr.score(xtest,ytest)#testing accuracy\n",
    "print(f\"training accuracy:{train}\")\n",
    "print(f\"testing accuracy:{test}\")\n",
    "\n",
    "#Low bairs(traning error kami ahet) and high variance (testing error jast ahe)\n",
    "#Traning accuracy jast asel tr bairs kami i.e error kami ahet traning madhe\n",
    "#tesing accuracy jast asel tr variance kami i.e error kami ahet tesing madhe\n",
    "#Traning accuracy kami asel tr bairs jast i.e error jast ahet traning madhe\n",
    "#tesing accuracy kami asel tr variance jast i.e error jast ahet tesing madhe\n",
    "\n",
    "#low traning error-->low bias\n",
    "#high tesing error-->high variance\n",
    "#this is case of overfitting"
   ]
  },
  {
   "cell_type": "markdown",
   "id": "d2df2873",
   "metadata": {},
   "source": [
    "### 3 steps to perform in ridge  "
   ]
  },
  {
   "cell_type": "code",
   "execution_count": null,
   "id": "4ab14d88",
   "metadata": {},
   "outputs": [],
   "source": [
    "from sklearn.linear_model import Ridge,Lasso"
   ]
  },
  {
   "cell_type": "code",
   "execution_count": null,
   "id": "c2c616c4",
   "metadata": {},
   "outputs": [],
   "source": [
    "#L2 regularisation\n",
    "#alpha means is hypertuning parameter\n",
    "L2=Ridge(alpha=5)\n",
    "L2.fit(xtrain,ytrain)"
   ]
  },
  {
   "cell_type": "code",
   "execution_count": null,
   "id": "3ca78b5c",
   "metadata": {},
   "outputs": [],
   "source": [
    "train=L2.score(xtrain,ytrain)#training accuracy\n",
    "test=L2.score(xtest,ytest)#testing accuracy\n",
    "print(f\"training accuracy:{train}\")\n",
    "print(f\"testing accuracy:{test}\")"
   ]
  },
  {
   "cell_type": "code",
   "execution_count": null,
   "id": "66b1d1b8",
   "metadata": {},
   "outputs": [],
   "source": [
    "#hypertuning lambda or alpha value\n",
    "for i in range(1,30):\n",
    "    L2=Ridge(alpha=i)\n",
    "    L2.fit(xtrain,ytrain)\n",
    "    test=L2.score(xtest,ytest)\n",
    "    print(f\"value of lambda {i} test score:{test}\")\n",
    "# here 11 is our sweet point i.e global minima point"
   ]
  },
  {
   "cell_type": "code",
   "execution_count": null,
   "id": "c3f757a5",
   "metadata": {},
   "outputs": [],
   "source": [
    "#Final alpha model for L2\n",
    "L2=Ridge(alpha=11)\n",
    "L2.fit(xtrain,ytrain)\n",
    "train=L2.score(xtrain,ytrain)#training accuracy\n",
    "test=L2.score(xtest,ytest)#testing accuracy\n",
    "print(f\"training accuracy:{train}\")\n",
    "print(f\"testing accuracy:{test}\")"
   ]
  },
  {
   "cell_type": "code",
   "execution_count": null,
   "id": "58796cab",
   "metadata": {},
   "outputs": [],
   "source": [
    "#L1 regularization--->LASSO(least absolute and selection operator)\n",
    "for i in range(201,250):\n",
    "    L1=Lasso(alpha=i)\n",
    "    L1.fit(xtrain,ytrain)\n",
    "    test=L1.score(xtest,ytest)\n",
    "    print(f\"value of lambda {i} test score:{test}\")\n",
    "#210 is the sweet point"
   ]
  },
  {
   "cell_type": "code",
   "execution_count": null,
   "id": "6d82fa7f",
   "metadata": {},
   "outputs": [],
   "source": [
    "L2=Ridge(alpha=210)\n",
    "L2.fit(xtrain,ytrain)\n",
    "train=L1.score(xtrain,ytrain)#training accuracy\n",
    "test=L1.score(xtest,ytest)#testing accuracy\n",
    "print(f\"training accuracy:{train}\")\n",
    "print(f\"testing accuracy:{test}\")"
   ]
  },
  {
   "cell_type": "markdown",
   "id": "2f1a37e6",
   "metadata": {},
   "source": [
    "# Cross validation"
   ]
  },
  {
   "cell_type": "code",
   "execution_count": null,
   "id": "9280dc76",
   "metadata": {},
   "outputs": [],
   "source": [
    "from sklearn.model_selection import KFold\n",
    "kf=KFold(n_splits=5,shuffle=False).split(range(25))\n",
    "#split(range(25) means how many time data split and rotate\n",
    "#n_splits=5 means how may folds.\n",
    "print(\"{}{:^61} {}\".format(\"Iteration\",\"Trainig Set observation\",\"Testing Set Observation\"))\n",
    "for iterationdata,data in enumerate(kf,start=1):\n",
    "    print(\"{:^9} {} {:^25}\".format(iterationdata,data[0],str(data[1])))\n"
   ]
  },
  {
   "cell_type": "markdown",
   "id": "4f5bd16c",
   "metadata": {},
   "source": [
    "# 02-08-2023 Diabities data"
   ]
  },
  {
   "cell_type": "code",
   "execution_count": null,
   "id": "78a8e947",
   "metadata": {},
   "outputs": [],
   "source": [
    "import pandas as pd\n",
    "import numpy as np\n",
    "import matplotlib.pyplot as plt\n",
    "import seaborn as sns"
   ]
  },
  {
   "cell_type": "code",
   "execution_count": 22,
   "id": "4f8228a4",
   "metadata": {},
   "outputs": [],
   "source": [
    "df=pd.read_csv(\"diabetes.csv\")"
   ]
  },
  {
   "cell_type": "code",
   "execution_count": 23,
   "id": "5632237f",
   "metadata": {},
   "outputs": [
    {
     "data": {
      "text/html": [
       "<div>\n",
       "<style scoped>\n",
       "    .dataframe tbody tr th:only-of-type {\n",
       "        vertical-align: middle;\n",
       "    }\n",
       "\n",
       "    .dataframe tbody tr th {\n",
       "        vertical-align: top;\n",
       "    }\n",
       "\n",
       "    .dataframe thead th {\n",
       "        text-align: right;\n",
       "    }\n",
       "</style>\n",
       "<table border=\"1\" class=\"dataframe\">\n",
       "  <thead>\n",
       "    <tr style=\"text-align: right;\">\n",
       "      <th></th>\n",
       "      <th>Pregnancies</th>\n",
       "      <th>Glucose</th>\n",
       "      <th>BloodPressure</th>\n",
       "      <th>SkinThickness</th>\n",
       "      <th>Insulin</th>\n",
       "      <th>BMI</th>\n",
       "      <th>DiabetesPedigreeFunction</th>\n",
       "      <th>Age</th>\n",
       "      <th>Outcome</th>\n",
       "    </tr>\n",
       "  </thead>\n",
       "  <tbody>\n",
       "    <tr>\n",
       "      <th>0</th>\n",
       "      <td>6</td>\n",
       "      <td>148</td>\n",
       "      <td>72</td>\n",
       "      <td>35</td>\n",
       "      <td>0</td>\n",
       "      <td>33.6</td>\n",
       "      <td>0.627</td>\n",
       "      <td>50</td>\n",
       "      <td>1</td>\n",
       "    </tr>\n",
       "    <tr>\n",
       "      <th>1</th>\n",
       "      <td>1</td>\n",
       "      <td>85</td>\n",
       "      <td>66</td>\n",
       "      <td>29</td>\n",
       "      <td>0</td>\n",
       "      <td>26.6</td>\n",
       "      <td>0.351</td>\n",
       "      <td>31</td>\n",
       "      <td>0</td>\n",
       "    </tr>\n",
       "    <tr>\n",
       "      <th>2</th>\n",
       "      <td>8</td>\n",
       "      <td>183</td>\n",
       "      <td>64</td>\n",
       "      <td>0</td>\n",
       "      <td>0</td>\n",
       "      <td>23.3</td>\n",
       "      <td>0.672</td>\n",
       "      <td>32</td>\n",
       "      <td>1</td>\n",
       "    </tr>\n",
       "    <tr>\n",
       "      <th>3</th>\n",
       "      <td>1</td>\n",
       "      <td>89</td>\n",
       "      <td>66</td>\n",
       "      <td>23</td>\n",
       "      <td>94</td>\n",
       "      <td>28.1</td>\n",
       "      <td>0.167</td>\n",
       "      <td>21</td>\n",
       "      <td>0</td>\n",
       "    </tr>\n",
       "    <tr>\n",
       "      <th>4</th>\n",
       "      <td>0</td>\n",
       "      <td>137</td>\n",
       "      <td>40</td>\n",
       "      <td>35</td>\n",
       "      <td>168</td>\n",
       "      <td>43.1</td>\n",
       "      <td>2.288</td>\n",
       "      <td>33</td>\n",
       "      <td>1</td>\n",
       "    </tr>\n",
       "    <tr>\n",
       "      <th>...</th>\n",
       "      <td>...</td>\n",
       "      <td>...</td>\n",
       "      <td>...</td>\n",
       "      <td>...</td>\n",
       "      <td>...</td>\n",
       "      <td>...</td>\n",
       "      <td>...</td>\n",
       "      <td>...</td>\n",
       "      <td>...</td>\n",
       "    </tr>\n",
       "    <tr>\n",
       "      <th>763</th>\n",
       "      <td>10</td>\n",
       "      <td>101</td>\n",
       "      <td>76</td>\n",
       "      <td>48</td>\n",
       "      <td>180</td>\n",
       "      <td>32.9</td>\n",
       "      <td>0.171</td>\n",
       "      <td>63</td>\n",
       "      <td>0</td>\n",
       "    </tr>\n",
       "    <tr>\n",
       "      <th>764</th>\n",
       "      <td>2</td>\n",
       "      <td>122</td>\n",
       "      <td>70</td>\n",
       "      <td>27</td>\n",
       "      <td>0</td>\n",
       "      <td>36.8</td>\n",
       "      <td>0.340</td>\n",
       "      <td>27</td>\n",
       "      <td>0</td>\n",
       "    </tr>\n",
       "    <tr>\n",
       "      <th>765</th>\n",
       "      <td>5</td>\n",
       "      <td>121</td>\n",
       "      <td>72</td>\n",
       "      <td>23</td>\n",
       "      <td>112</td>\n",
       "      <td>26.2</td>\n",
       "      <td>0.245</td>\n",
       "      <td>30</td>\n",
       "      <td>0</td>\n",
       "    </tr>\n",
       "    <tr>\n",
       "      <th>766</th>\n",
       "      <td>1</td>\n",
       "      <td>126</td>\n",
       "      <td>60</td>\n",
       "      <td>0</td>\n",
       "      <td>0</td>\n",
       "      <td>30.1</td>\n",
       "      <td>0.349</td>\n",
       "      <td>47</td>\n",
       "      <td>1</td>\n",
       "    </tr>\n",
       "    <tr>\n",
       "      <th>767</th>\n",
       "      <td>1</td>\n",
       "      <td>93</td>\n",
       "      <td>70</td>\n",
       "      <td>31</td>\n",
       "      <td>0</td>\n",
       "      <td>30.4</td>\n",
       "      <td>0.315</td>\n",
       "      <td>23</td>\n",
       "      <td>0</td>\n",
       "    </tr>\n",
       "  </tbody>\n",
       "</table>\n",
       "<p>768 rows × 9 columns</p>\n",
       "</div>"
      ],
      "text/plain": [
       "     Pregnancies  Glucose  BloodPressure  SkinThickness  Insulin   BMI  \\\n",
       "0              6      148             72             35        0  33.6   \n",
       "1              1       85             66             29        0  26.6   \n",
       "2              8      183             64              0        0  23.3   \n",
       "3              1       89             66             23       94  28.1   \n",
       "4              0      137             40             35      168  43.1   \n",
       "..           ...      ...            ...            ...      ...   ...   \n",
       "763           10      101             76             48      180  32.9   \n",
       "764            2      122             70             27        0  36.8   \n",
       "765            5      121             72             23      112  26.2   \n",
       "766            1      126             60              0        0  30.1   \n",
       "767            1       93             70             31        0  30.4   \n",
       "\n",
       "     DiabetesPedigreeFunction  Age  Outcome  \n",
       "0                       0.627   50        1  \n",
       "1                       0.351   31        0  \n",
       "2                       0.672   32        1  \n",
       "3                       0.167   21        0  \n",
       "4                       2.288   33        1  \n",
       "..                        ...  ...      ...  \n",
       "763                     0.171   63        0  \n",
       "764                     0.340   27        0  \n",
       "765                     0.245   30        0  \n",
       "766                     0.349   47        1  \n",
       "767                     0.315   23        0  \n",
       "\n",
       "[768 rows x 9 columns]"
      ]
     },
     "execution_count": 23,
     "metadata": {},
     "output_type": "execute_result"
    }
   ],
   "source": [
    "df"
   ]
  },
  {
   "cell_type": "code",
   "execution_count": 24,
   "id": "10a5c65c",
   "metadata": {},
   "outputs": [
    {
     "data": {
      "text/plain": [
       "(768, 9)"
      ]
     },
     "execution_count": 24,
     "metadata": {},
     "output_type": "execute_result"
    }
   ],
   "source": [
    "df.shape"
   ]
  },
  {
   "cell_type": "code",
   "execution_count": 25,
   "id": "a8f80dfe",
   "metadata": {},
   "outputs": [
    {
     "name": "stdout",
     "output_type": "stream",
     "text": [
      "<class 'pandas.core.frame.DataFrame'>\n",
      "RangeIndex: 768 entries, 0 to 767\n",
      "Data columns (total 9 columns):\n",
      " #   Column                    Non-Null Count  Dtype  \n",
      "---  ------                    --------------  -----  \n",
      " 0   Pregnancies               768 non-null    int64  \n",
      " 1   Glucose                   768 non-null    int64  \n",
      " 2   BloodPressure             768 non-null    int64  \n",
      " 3   SkinThickness             768 non-null    int64  \n",
      " 4   Insulin                   768 non-null    int64  \n",
      " 5   BMI                       768 non-null    float64\n",
      " 6   DiabetesPedigreeFunction  768 non-null    float64\n",
      " 7   Age                       768 non-null    int64  \n",
      " 8   Outcome                   768 non-null    int64  \n",
      "dtypes: float64(2), int64(7)\n",
      "memory usage: 54.1 KB\n"
     ]
    }
   ],
   "source": [
    "df.info()"
   ]
  },
  {
   "cell_type": "code",
   "execution_count": 26,
   "id": "809b0ea7",
   "metadata": {},
   "outputs": [
    {
     "data": {
      "text/html": [
       "<div>\n",
       "<style scoped>\n",
       "    .dataframe tbody tr th:only-of-type {\n",
       "        vertical-align: middle;\n",
       "    }\n",
       "\n",
       "    .dataframe tbody tr th {\n",
       "        vertical-align: top;\n",
       "    }\n",
       "\n",
       "    .dataframe thead th {\n",
       "        text-align: right;\n",
       "    }\n",
       "</style>\n",
       "<table border=\"1\" class=\"dataframe\">\n",
       "  <thead>\n",
       "    <tr style=\"text-align: right;\">\n",
       "      <th></th>\n",
       "      <th>Pregnancies</th>\n",
       "      <th>Glucose</th>\n",
       "      <th>BloodPressure</th>\n",
       "      <th>SkinThickness</th>\n",
       "      <th>Insulin</th>\n",
       "      <th>BMI</th>\n",
       "      <th>DiabetesPedigreeFunction</th>\n",
       "      <th>Age</th>\n",
       "      <th>Outcome</th>\n",
       "    </tr>\n",
       "  </thead>\n",
       "  <tbody>\n",
       "    <tr>\n",
       "      <th>count</th>\n",
       "      <td>768.000000</td>\n",
       "      <td>768.000000</td>\n",
       "      <td>768.000000</td>\n",
       "      <td>768.000000</td>\n",
       "      <td>768.000000</td>\n",
       "      <td>768.000000</td>\n",
       "      <td>768.000000</td>\n",
       "      <td>768.000000</td>\n",
       "      <td>768.000000</td>\n",
       "    </tr>\n",
       "    <tr>\n",
       "      <th>mean</th>\n",
       "      <td>3.845052</td>\n",
       "      <td>120.894531</td>\n",
       "      <td>69.105469</td>\n",
       "      <td>20.536458</td>\n",
       "      <td>79.799479</td>\n",
       "      <td>31.992578</td>\n",
       "      <td>0.471876</td>\n",
       "      <td>33.240885</td>\n",
       "      <td>0.348958</td>\n",
       "    </tr>\n",
       "    <tr>\n",
       "      <th>std</th>\n",
       "      <td>3.369578</td>\n",
       "      <td>31.972618</td>\n",
       "      <td>19.355807</td>\n",
       "      <td>15.952218</td>\n",
       "      <td>115.244002</td>\n",
       "      <td>7.884160</td>\n",
       "      <td>0.331329</td>\n",
       "      <td>11.760232</td>\n",
       "      <td>0.476951</td>\n",
       "    </tr>\n",
       "    <tr>\n",
       "      <th>min</th>\n",
       "      <td>0.000000</td>\n",
       "      <td>0.000000</td>\n",
       "      <td>0.000000</td>\n",
       "      <td>0.000000</td>\n",
       "      <td>0.000000</td>\n",
       "      <td>0.000000</td>\n",
       "      <td>0.078000</td>\n",
       "      <td>21.000000</td>\n",
       "      <td>0.000000</td>\n",
       "    </tr>\n",
       "    <tr>\n",
       "      <th>25%</th>\n",
       "      <td>1.000000</td>\n",
       "      <td>99.000000</td>\n",
       "      <td>62.000000</td>\n",
       "      <td>0.000000</td>\n",
       "      <td>0.000000</td>\n",
       "      <td>27.300000</td>\n",
       "      <td>0.243750</td>\n",
       "      <td>24.000000</td>\n",
       "      <td>0.000000</td>\n",
       "    </tr>\n",
       "    <tr>\n",
       "      <th>50%</th>\n",
       "      <td>3.000000</td>\n",
       "      <td>117.000000</td>\n",
       "      <td>72.000000</td>\n",
       "      <td>23.000000</td>\n",
       "      <td>30.500000</td>\n",
       "      <td>32.000000</td>\n",
       "      <td>0.372500</td>\n",
       "      <td>29.000000</td>\n",
       "      <td>0.000000</td>\n",
       "    </tr>\n",
       "    <tr>\n",
       "      <th>75%</th>\n",
       "      <td>6.000000</td>\n",
       "      <td>140.250000</td>\n",
       "      <td>80.000000</td>\n",
       "      <td>32.000000</td>\n",
       "      <td>127.250000</td>\n",
       "      <td>36.600000</td>\n",
       "      <td>0.626250</td>\n",
       "      <td>41.000000</td>\n",
       "      <td>1.000000</td>\n",
       "    </tr>\n",
       "    <tr>\n",
       "      <th>max</th>\n",
       "      <td>17.000000</td>\n",
       "      <td>199.000000</td>\n",
       "      <td>122.000000</td>\n",
       "      <td>99.000000</td>\n",
       "      <td>846.000000</td>\n",
       "      <td>67.100000</td>\n",
       "      <td>2.420000</td>\n",
       "      <td>81.000000</td>\n",
       "      <td>1.000000</td>\n",
       "    </tr>\n",
       "  </tbody>\n",
       "</table>\n",
       "</div>"
      ],
      "text/plain": [
       "       Pregnancies     Glucose  BloodPressure  SkinThickness     Insulin  \\\n",
       "count   768.000000  768.000000     768.000000     768.000000  768.000000   \n",
       "mean      3.845052  120.894531      69.105469      20.536458   79.799479   \n",
       "std       3.369578   31.972618      19.355807      15.952218  115.244002   \n",
       "min       0.000000    0.000000       0.000000       0.000000    0.000000   \n",
       "25%       1.000000   99.000000      62.000000       0.000000    0.000000   \n",
       "50%       3.000000  117.000000      72.000000      23.000000   30.500000   \n",
       "75%       6.000000  140.250000      80.000000      32.000000  127.250000   \n",
       "max      17.000000  199.000000     122.000000      99.000000  846.000000   \n",
       "\n",
       "              BMI  DiabetesPedigreeFunction         Age     Outcome  \n",
       "count  768.000000                768.000000  768.000000  768.000000  \n",
       "mean    31.992578                  0.471876   33.240885    0.348958  \n",
       "std      7.884160                  0.331329   11.760232    0.476951  \n",
       "min      0.000000                  0.078000   21.000000    0.000000  \n",
       "25%     27.300000                  0.243750   24.000000    0.000000  \n",
       "50%     32.000000                  0.372500   29.000000    0.000000  \n",
       "75%     36.600000                  0.626250   41.000000    1.000000  \n",
       "max     67.100000                  2.420000   81.000000    1.000000  "
      ]
     },
     "execution_count": 26,
     "metadata": {},
     "output_type": "execute_result"
    }
   ],
   "source": [
    "df.describe()"
   ]
  },
  {
   "cell_type": "code",
   "execution_count": 27,
   "id": "62a75287",
   "metadata": {},
   "outputs": [
    {
     "data": {
      "text/plain": [
       "Pregnancies                 0.901674\n",
       "Glucose                     0.173754\n",
       "BloodPressure              -1.843608\n",
       "SkinThickness               0.109372\n",
       "Insulin                     2.272251\n",
       "BMI                        -0.428982\n",
       "DiabetesPedigreeFunction    1.919911\n",
       "Age                         1.129597\n",
       "Outcome                     0.635017\n",
       "dtype: float64"
      ]
     },
     "execution_count": 27,
     "metadata": {},
     "output_type": "execute_result"
    }
   ],
   "source": [
    "df.skew()"
   ]
  },
  {
   "cell_type": "code",
   "execution_count": 28,
   "id": "b40aefda",
   "metadata": {},
   "outputs": [],
   "source": [
    "#Glucose\tBloodPressure\tSkinThickness\tInsulin\tBMI\n",
    "df['Glucose'].replace(0,np.nan,inplace=True)\n",
    "df['BloodPressure'].replace(0,np.nan,inplace=True)\n",
    "df['SkinThickness'].replace(0,np.nan,inplace=True)\n",
    "df['Insulin'].replace(0,np.nan,inplace=True)\n",
    "df['BMI'].replace(0,np.nan,inplace=True)"
   ]
  },
  {
   "cell_type": "code",
   "execution_count": 29,
   "id": "baae3fc7",
   "metadata": {},
   "outputs": [],
   "source": [
    "gmean=df['Glucose'].mean()\n",
    "bmean=df['BloodPressure'].mean()\n",
    "smean=df['SkinThickness'].mean()\n",
    "imean=df['Insulin'].mean()\n",
    "bmean=df['BMI'].mean()"
   ]
  },
  {
   "cell_type": "code",
   "execution_count": 30,
   "id": "433c3d1e",
   "metadata": {},
   "outputs": [],
   "source": [
    "df['Glucose'].fillna(gmean,inplace=True)\n",
    "df['BloodPressure'].fillna(bmean,inplace=True)\n",
    "df['SkinThickness'].fillna(smean,inplace=True)\n",
    "df['Insulin'].fillna(imean,inplace=True)\n",
    "df['BMI'].fillna(bmean,inplace=True)"
   ]
  },
  {
   "cell_type": "code",
   "execution_count": 31,
   "id": "8612959f",
   "metadata": {},
   "outputs": [
    {
     "data": {
      "text/html": [
       "<div>\n",
       "<style scoped>\n",
       "    .dataframe tbody tr th:only-of-type {\n",
       "        vertical-align: middle;\n",
       "    }\n",
       "\n",
       "    .dataframe tbody tr th {\n",
       "        vertical-align: top;\n",
       "    }\n",
       "\n",
       "    .dataframe thead th {\n",
       "        text-align: right;\n",
       "    }\n",
       "</style>\n",
       "<table border=\"1\" class=\"dataframe\">\n",
       "  <thead>\n",
       "    <tr style=\"text-align: right;\">\n",
       "      <th></th>\n",
       "      <th>Pregnancies</th>\n",
       "      <th>Glucose</th>\n",
       "      <th>BloodPressure</th>\n",
       "      <th>SkinThickness</th>\n",
       "      <th>Insulin</th>\n",
       "      <th>BMI</th>\n",
       "      <th>DiabetesPedigreeFunction</th>\n",
       "      <th>Age</th>\n",
       "      <th>Outcome</th>\n",
       "    </tr>\n",
       "  </thead>\n",
       "  <tbody>\n",
       "    <tr>\n",
       "      <th>0</th>\n",
       "      <td>6</td>\n",
       "      <td>148.0</td>\n",
       "      <td>72.0</td>\n",
       "      <td>35.00000</td>\n",
       "      <td>155.548223</td>\n",
       "      <td>33.6</td>\n",
       "      <td>0.627</td>\n",
       "      <td>50</td>\n",
       "      <td>1</td>\n",
       "    </tr>\n",
       "    <tr>\n",
       "      <th>1</th>\n",
       "      <td>1</td>\n",
       "      <td>85.0</td>\n",
       "      <td>66.0</td>\n",
       "      <td>29.00000</td>\n",
       "      <td>155.548223</td>\n",
       "      <td>26.6</td>\n",
       "      <td>0.351</td>\n",
       "      <td>31</td>\n",
       "      <td>0</td>\n",
       "    </tr>\n",
       "    <tr>\n",
       "      <th>2</th>\n",
       "      <td>8</td>\n",
       "      <td>183.0</td>\n",
       "      <td>64.0</td>\n",
       "      <td>29.15342</td>\n",
       "      <td>155.548223</td>\n",
       "      <td>23.3</td>\n",
       "      <td>0.672</td>\n",
       "      <td>32</td>\n",
       "      <td>1</td>\n",
       "    </tr>\n",
       "    <tr>\n",
       "      <th>3</th>\n",
       "      <td>1</td>\n",
       "      <td>89.0</td>\n",
       "      <td>66.0</td>\n",
       "      <td>23.00000</td>\n",
       "      <td>94.000000</td>\n",
       "      <td>28.1</td>\n",
       "      <td>0.167</td>\n",
       "      <td>21</td>\n",
       "      <td>0</td>\n",
       "    </tr>\n",
       "    <tr>\n",
       "      <th>4</th>\n",
       "      <td>0</td>\n",
       "      <td>137.0</td>\n",
       "      <td>40.0</td>\n",
       "      <td>35.00000</td>\n",
       "      <td>168.000000</td>\n",
       "      <td>43.1</td>\n",
       "      <td>2.288</td>\n",
       "      <td>33</td>\n",
       "      <td>1</td>\n",
       "    </tr>\n",
       "    <tr>\n",
       "      <th>...</th>\n",
       "      <td>...</td>\n",
       "      <td>...</td>\n",
       "      <td>...</td>\n",
       "      <td>...</td>\n",
       "      <td>...</td>\n",
       "      <td>...</td>\n",
       "      <td>...</td>\n",
       "      <td>...</td>\n",
       "      <td>...</td>\n",
       "    </tr>\n",
       "    <tr>\n",
       "      <th>763</th>\n",
       "      <td>10</td>\n",
       "      <td>101.0</td>\n",
       "      <td>76.0</td>\n",
       "      <td>48.00000</td>\n",
       "      <td>180.000000</td>\n",
       "      <td>32.9</td>\n",
       "      <td>0.171</td>\n",
       "      <td>63</td>\n",
       "      <td>0</td>\n",
       "    </tr>\n",
       "    <tr>\n",
       "      <th>764</th>\n",
       "      <td>2</td>\n",
       "      <td>122.0</td>\n",
       "      <td>70.0</td>\n",
       "      <td>27.00000</td>\n",
       "      <td>155.548223</td>\n",
       "      <td>36.8</td>\n",
       "      <td>0.340</td>\n",
       "      <td>27</td>\n",
       "      <td>0</td>\n",
       "    </tr>\n",
       "    <tr>\n",
       "      <th>765</th>\n",
       "      <td>5</td>\n",
       "      <td>121.0</td>\n",
       "      <td>72.0</td>\n",
       "      <td>23.00000</td>\n",
       "      <td>112.000000</td>\n",
       "      <td>26.2</td>\n",
       "      <td>0.245</td>\n",
       "      <td>30</td>\n",
       "      <td>0</td>\n",
       "    </tr>\n",
       "    <tr>\n",
       "      <th>766</th>\n",
       "      <td>1</td>\n",
       "      <td>126.0</td>\n",
       "      <td>60.0</td>\n",
       "      <td>29.15342</td>\n",
       "      <td>155.548223</td>\n",
       "      <td>30.1</td>\n",
       "      <td>0.349</td>\n",
       "      <td>47</td>\n",
       "      <td>1</td>\n",
       "    </tr>\n",
       "    <tr>\n",
       "      <th>767</th>\n",
       "      <td>1</td>\n",
       "      <td>93.0</td>\n",
       "      <td>70.0</td>\n",
       "      <td>31.00000</td>\n",
       "      <td>155.548223</td>\n",
       "      <td>30.4</td>\n",
       "      <td>0.315</td>\n",
       "      <td>23</td>\n",
       "      <td>0</td>\n",
       "    </tr>\n",
       "  </tbody>\n",
       "</table>\n",
       "<p>768 rows × 9 columns</p>\n",
       "</div>"
      ],
      "text/plain": [
       "     Pregnancies  Glucose  BloodPressure  SkinThickness     Insulin   BMI  \\\n",
       "0              6    148.0           72.0       35.00000  155.548223  33.6   \n",
       "1              1     85.0           66.0       29.00000  155.548223  26.6   \n",
       "2              8    183.0           64.0       29.15342  155.548223  23.3   \n",
       "3              1     89.0           66.0       23.00000   94.000000  28.1   \n",
       "4              0    137.0           40.0       35.00000  168.000000  43.1   \n",
       "..           ...      ...            ...            ...         ...   ...   \n",
       "763           10    101.0           76.0       48.00000  180.000000  32.9   \n",
       "764            2    122.0           70.0       27.00000  155.548223  36.8   \n",
       "765            5    121.0           72.0       23.00000  112.000000  26.2   \n",
       "766            1    126.0           60.0       29.15342  155.548223  30.1   \n",
       "767            1     93.0           70.0       31.00000  155.548223  30.4   \n",
       "\n",
       "     DiabetesPedigreeFunction  Age  Outcome  \n",
       "0                       0.627   50        1  \n",
       "1                       0.351   31        0  \n",
       "2                       0.672   32        1  \n",
       "3                       0.167   21        0  \n",
       "4                       2.288   33        1  \n",
       "..                        ...  ...      ...  \n",
       "763                     0.171   63        0  \n",
       "764                     0.340   27        0  \n",
       "765                     0.245   30        0  \n",
       "766                     0.349   47        1  \n",
       "767                     0.315   23        0  \n",
       "\n",
       "[768 rows x 9 columns]"
      ]
     },
     "execution_count": 31,
     "metadata": {},
     "output_type": "execute_result"
    }
   ],
   "source": [
    "df"
   ]
  },
  {
   "cell_type": "code",
   "execution_count": 32,
   "id": "dd8e983f",
   "metadata": {},
   "outputs": [],
   "source": [
    "#update mean through for loop\n",
    "#for i  in range ('Glucose','BloodPressure','SkinThickness','Insulin','BMI'):\n",
    "#    df[i].replace(0,np.nan,inplace=True)\n",
    "#    df[i].fillna(df[i].mean(),inplace=True)"
   ]
  },
  {
   "cell_type": "code",
   "execution_count": 37,
   "id": "a6751467",
   "metadata": {},
   "outputs": [],
   "source": [
    "#Update mean through for loop\n",
    "for i in ['Glucose','BloodPressure','SkinThickness','Insulin','BMI']:\n",
    "    df[i].replace(0,np.nan,inplace=True)\n",
    "    df[i].fillna(df[i].mean(),inplace=True)"
   ]
  },
  {
   "cell_type": "code",
   "execution_count": 38,
   "id": "48d184f0",
   "metadata": {},
   "outputs": [
    {
     "data": {
      "text/html": [
       "<div>\n",
       "<style scoped>\n",
       "    .dataframe tbody tr th:only-of-type {\n",
       "        vertical-align: middle;\n",
       "    }\n",
       "\n",
       "    .dataframe tbody tr th {\n",
       "        vertical-align: top;\n",
       "    }\n",
       "\n",
       "    .dataframe thead th {\n",
       "        text-align: right;\n",
       "    }\n",
       "</style>\n",
       "<table border=\"1\" class=\"dataframe\">\n",
       "  <thead>\n",
       "    <tr style=\"text-align: right;\">\n",
       "      <th></th>\n",
       "      <th>Pregnancies</th>\n",
       "      <th>Glucose</th>\n",
       "      <th>BloodPressure</th>\n",
       "      <th>SkinThickness</th>\n",
       "      <th>Insulin</th>\n",
       "      <th>BMI</th>\n",
       "      <th>DiabetesPedigreeFunction</th>\n",
       "      <th>Age</th>\n",
       "      <th>Outcome</th>\n",
       "    </tr>\n",
       "  </thead>\n",
       "  <tbody>\n",
       "    <tr>\n",
       "      <th>count</th>\n",
       "      <td>768.000000</td>\n",
       "      <td>768.000000</td>\n",
       "      <td>768.000000</td>\n",
       "      <td>768.000000</td>\n",
       "      <td>768.000000</td>\n",
       "      <td>768.000000</td>\n",
       "      <td>768.000000</td>\n",
       "      <td>768.000000</td>\n",
       "      <td>768.000000</td>\n",
       "    </tr>\n",
       "    <tr>\n",
       "      <th>mean</th>\n",
       "      <td>3.845052</td>\n",
       "      <td>121.686763</td>\n",
       "      <td>70.584650</td>\n",
       "      <td>29.153420</td>\n",
       "      <td>155.548223</td>\n",
       "      <td>32.457464</td>\n",
       "      <td>0.471876</td>\n",
       "      <td>33.240885</td>\n",
       "      <td>0.348958</td>\n",
       "    </tr>\n",
       "    <tr>\n",
       "      <th>std</th>\n",
       "      <td>3.369578</td>\n",
       "      <td>30.435949</td>\n",
       "      <td>14.690947</td>\n",
       "      <td>8.790942</td>\n",
       "      <td>85.021108</td>\n",
       "      <td>6.875151</td>\n",
       "      <td>0.331329</td>\n",
       "      <td>11.760232</td>\n",
       "      <td>0.476951</td>\n",
       "    </tr>\n",
       "    <tr>\n",
       "      <th>min</th>\n",
       "      <td>0.000000</td>\n",
       "      <td>44.000000</td>\n",
       "      <td>24.000000</td>\n",
       "      <td>7.000000</td>\n",
       "      <td>14.000000</td>\n",
       "      <td>18.200000</td>\n",
       "      <td>0.078000</td>\n",
       "      <td>21.000000</td>\n",
       "      <td>0.000000</td>\n",
       "    </tr>\n",
       "    <tr>\n",
       "      <th>25%</th>\n",
       "      <td>1.000000</td>\n",
       "      <td>99.750000</td>\n",
       "      <td>62.000000</td>\n",
       "      <td>25.000000</td>\n",
       "      <td>121.500000</td>\n",
       "      <td>27.500000</td>\n",
       "      <td>0.243750</td>\n",
       "      <td>24.000000</td>\n",
       "      <td>0.000000</td>\n",
       "    </tr>\n",
       "    <tr>\n",
       "      <th>50%</th>\n",
       "      <td>3.000000</td>\n",
       "      <td>117.000000</td>\n",
       "      <td>72.000000</td>\n",
       "      <td>29.153420</td>\n",
       "      <td>155.548223</td>\n",
       "      <td>32.400000</td>\n",
       "      <td>0.372500</td>\n",
       "      <td>29.000000</td>\n",
       "      <td>0.000000</td>\n",
       "    </tr>\n",
       "    <tr>\n",
       "      <th>75%</th>\n",
       "      <td>6.000000</td>\n",
       "      <td>140.250000</td>\n",
       "      <td>80.000000</td>\n",
       "      <td>32.000000</td>\n",
       "      <td>155.548223</td>\n",
       "      <td>36.600000</td>\n",
       "      <td>0.626250</td>\n",
       "      <td>41.000000</td>\n",
       "      <td>1.000000</td>\n",
       "    </tr>\n",
       "    <tr>\n",
       "      <th>max</th>\n",
       "      <td>17.000000</td>\n",
       "      <td>199.000000</td>\n",
       "      <td>122.000000</td>\n",
       "      <td>99.000000</td>\n",
       "      <td>846.000000</td>\n",
       "      <td>67.100000</td>\n",
       "      <td>2.420000</td>\n",
       "      <td>81.000000</td>\n",
       "      <td>1.000000</td>\n",
       "    </tr>\n",
       "  </tbody>\n",
       "</table>\n",
       "</div>"
      ],
      "text/plain": [
       "       Pregnancies     Glucose  BloodPressure  SkinThickness     Insulin  \\\n",
       "count   768.000000  768.000000     768.000000     768.000000  768.000000   \n",
       "mean      3.845052  121.686763      70.584650      29.153420  155.548223   \n",
       "std       3.369578   30.435949      14.690947       8.790942   85.021108   \n",
       "min       0.000000   44.000000      24.000000       7.000000   14.000000   \n",
       "25%       1.000000   99.750000      62.000000      25.000000  121.500000   \n",
       "50%       3.000000  117.000000      72.000000      29.153420  155.548223   \n",
       "75%       6.000000  140.250000      80.000000      32.000000  155.548223   \n",
       "max      17.000000  199.000000     122.000000      99.000000  846.000000   \n",
       "\n",
       "              BMI  DiabetesPedigreeFunction         Age     Outcome  \n",
       "count  768.000000                768.000000  768.000000  768.000000  \n",
       "mean    32.457464                  0.471876   33.240885    0.348958  \n",
       "std      6.875151                  0.331329   11.760232    0.476951  \n",
       "min     18.200000                  0.078000   21.000000    0.000000  \n",
       "25%     27.500000                  0.243750   24.000000    0.000000  \n",
       "50%     32.400000                  0.372500   29.000000    0.000000  \n",
       "75%     36.600000                  0.626250   41.000000    1.000000  \n",
       "max     67.100000                  2.420000   81.000000    1.000000  "
      ]
     },
     "execution_count": 38,
     "metadata": {},
     "output_type": "execute_result"
    }
   ],
   "source": [
    "df.describe()"
   ]
  },
  {
   "cell_type": "code",
   "execution_count": 39,
   "id": "3f600ea3",
   "metadata": {},
   "outputs": [
    {
     "data": {
      "text/plain": [
       "0    500\n",
       "1    268\n",
       "Name: Outcome, dtype: int64"
      ]
     },
     "execution_count": 39,
     "metadata": {},
     "output_type": "execute_result"
    }
   ],
   "source": [
    "df[\"C\"].value_counts()"
   ]
  },
  {
   "cell_type": "code",
   "execution_count": 44,
   "id": "2f057965",
   "metadata": {},
   "outputs": [],
   "source": [
    "#Separating x and y\n",
    "\n",
    "x=df.iloc[:,1:-1]\n",
    "y=df[\"Outcome\"]"
   ]
  },
  {
   "cell_type": "code",
   "execution_count": 46,
   "id": "e95858ed",
   "metadata": {},
   "outputs": [
    {
     "data": {
      "text/html": [
       "<div>\n",
       "<style scoped>\n",
       "    .dataframe tbody tr th:only-of-type {\n",
       "        vertical-align: middle;\n",
       "    }\n",
       "\n",
       "    .dataframe tbody tr th {\n",
       "        vertical-align: top;\n",
       "    }\n",
       "\n",
       "    .dataframe thead th {\n",
       "        text-align: right;\n",
       "    }\n",
       "</style>\n",
       "<table border=\"1\" class=\"dataframe\">\n",
       "  <thead>\n",
       "    <tr style=\"text-align: right;\">\n",
       "      <th></th>\n",
       "      <th>Glucose</th>\n",
       "      <th>BloodPressure</th>\n",
       "      <th>SkinThickness</th>\n",
       "      <th>Insulin</th>\n",
       "      <th>BMI</th>\n",
       "      <th>DiabetesPedigreeFunction</th>\n",
       "      <th>Age</th>\n",
       "    </tr>\n",
       "  </thead>\n",
       "  <tbody>\n",
       "    <tr>\n",
       "      <th>0</th>\n",
       "      <td>148.0</td>\n",
       "      <td>72.0</td>\n",
       "      <td>35.00000</td>\n",
       "      <td>155.548223</td>\n",
       "      <td>33.6</td>\n",
       "      <td>0.627</td>\n",
       "      <td>50</td>\n",
       "    </tr>\n",
       "    <tr>\n",
       "      <th>1</th>\n",
       "      <td>85.0</td>\n",
       "      <td>66.0</td>\n",
       "      <td>29.00000</td>\n",
       "      <td>155.548223</td>\n",
       "      <td>26.6</td>\n",
       "      <td>0.351</td>\n",
       "      <td>31</td>\n",
       "    </tr>\n",
       "    <tr>\n",
       "      <th>2</th>\n",
       "      <td>183.0</td>\n",
       "      <td>64.0</td>\n",
       "      <td>29.15342</td>\n",
       "      <td>155.548223</td>\n",
       "      <td>23.3</td>\n",
       "      <td>0.672</td>\n",
       "      <td>32</td>\n",
       "    </tr>\n",
       "    <tr>\n",
       "      <th>3</th>\n",
       "      <td>89.0</td>\n",
       "      <td>66.0</td>\n",
       "      <td>23.00000</td>\n",
       "      <td>94.000000</td>\n",
       "      <td>28.1</td>\n",
       "      <td>0.167</td>\n",
       "      <td>21</td>\n",
       "    </tr>\n",
       "    <tr>\n",
       "      <th>4</th>\n",
       "      <td>137.0</td>\n",
       "      <td>40.0</td>\n",
       "      <td>35.00000</td>\n",
       "      <td>168.000000</td>\n",
       "      <td>43.1</td>\n",
       "      <td>2.288</td>\n",
       "      <td>33</td>\n",
       "    </tr>\n",
       "  </tbody>\n",
       "</table>\n",
       "</div>"
      ],
      "text/plain": [
       "   Glucose  BloodPressure  SkinThickness     Insulin   BMI  \\\n",
       "0    148.0           72.0       35.00000  155.548223  33.6   \n",
       "1     85.0           66.0       29.00000  155.548223  26.6   \n",
       "2    183.0           64.0       29.15342  155.548223  23.3   \n",
       "3     89.0           66.0       23.00000   94.000000  28.1   \n",
       "4    137.0           40.0       35.00000  168.000000  43.1   \n",
       "\n",
       "   DiabetesPedigreeFunction  Age  \n",
       "0                     0.627   50  \n",
       "1                     0.351   31  \n",
       "2                     0.672   32  \n",
       "3                     0.167   21  \n",
       "4                     2.288   33  "
      ]
     },
     "execution_count": 46,
     "metadata": {},
     "output_type": "execute_result"
    }
   ],
   "source": [
    "x.head()"
   ]
  },
  {
   "cell_type": "code",
   "execution_count": 47,
   "id": "039cafb3",
   "metadata": {},
   "outputs": [
    {
     "data": {
      "text/plain": [
       "0    1\n",
       "1    0\n",
       "2    1\n",
       "3    0\n",
       "4    1\n",
       "Name: Outcome, dtype: int64"
      ]
     },
     "execution_count": 47,
     "metadata": {},
     "output_type": "execute_result"
    }
   ],
   "source": [
    "y.head()"
   ]
  },
  {
   "cell_type": "code",
   "execution_count": 48,
   "id": "2fb1452f",
   "metadata": {},
   "outputs": [],
   "source": [
    "# Splitting of data\n",
    "\n",
    "from sklearn.model_selection import train_test_split\n",
    "xtrain,xtest,ytrain,ytest=train_test_split(x,y,test_size=0.25,random_state=1)"
   ]
  },
  {
   "cell_type": "code",
   "execution_count": 49,
   "id": "13527ba9",
   "metadata": {},
   "outputs": [],
   "source": [
    "# Model Building\n",
    "\n",
    "from sklearn.linear_model import LogisticRegression\n",
    "logreg=LogisticRegression()\n",
    "logreg.fit(xtrain,ytrain)\n",
    "ypred=logreg.predict(xtest)"
   ]
  },
  {
   "cell_type": "code",
   "execution_count": 50,
   "id": "b71a291a",
   "metadata": {},
   "outputs": [],
   "source": [
    "#Evaluate model\n",
    "\n",
    "from sklearn.metrics import classification_report"
   ]
  },
  {
   "cell_type": "code",
   "execution_count": 52,
   "id": "4b7af179",
   "metadata": {},
   "outputs": [
    {
     "name": "stdout",
     "output_type": "stream",
     "text": [
      "              precision    recall  f1-score   support\n",
      "\n",
      "           0       0.87      0.80      0.83       134\n",
      "           1       0.61      0.72      0.66        58\n",
      "\n",
      "    accuracy                           0.78       192\n",
      "   macro avg       0.74      0.76      0.75       192\n",
      "weighted avg       0.79      0.78      0.78       192\n",
      "\n"
     ]
    }
   ],
   "source": [
    "print(classification_report(ypred,ytest))"
   ]
  },
  {
   "cell_type": "code",
   "execution_count": 57,
   "id": "d6149b14",
   "metadata": {},
   "outputs": [],
   "source": [
    "# Hypertunning using solver parameter\n",
    "\n",
    "logreg=LogisticRegression(solver=\"liblinear\")\n",
    "logreg.fit(xtrain,ytrain)\n",
    "ypred=logreg.predict(xtest)"
   ]
  },
  {
   "cell_type": "code",
   "execution_count": 58,
   "id": "738b5b9d",
   "metadata": {},
   "outputs": [
    {
     "name": "stdout",
     "output_type": "stream",
     "text": [
      "              precision    recall  f1-score   support\n",
      "\n",
      "           0       0.89      0.79      0.84       139\n",
      "           1       0.58      0.75      0.66        53\n",
      "\n",
      "    accuracy                           0.78       192\n",
      "   macro avg       0.74      0.77      0.75       192\n",
      "weighted avg       0.81      0.78      0.79       192\n",
      "\n"
     ]
    }
   ],
   "source": [
    "print(classification_report(ypred,ytest))"
   ]
  },
  {
   "cell_type": "code",
   "execution_count": 59,
   "id": "87f6a069",
   "metadata": {},
   "outputs": [],
   "source": [
    "logreg=LogisticRegression(solver=\"saga\")\n",
    "logreg.fit(xtrain,ytrain)\n",
    "ypred=logreg.predict(xtest)"
   ]
  },
  {
   "cell_type": "code",
   "execution_count": 60,
   "id": "6801e00c",
   "metadata": {},
   "outputs": [
    {
     "name": "stdout",
     "output_type": "stream",
     "text": [
      "              precision    recall  f1-score   support\n",
      "\n",
      "           0       0.88      0.70      0.78       155\n",
      "           1       0.32      0.59      0.42        37\n",
      "\n",
      "    accuracy                           0.68       192\n",
      "   macro avg       0.60      0.65      0.60       192\n",
      "weighted avg       0.77      0.68      0.71       192\n",
      "\n"
     ]
    }
   ],
   "source": [
    "print(classification_report(ypred,ytest))"
   ]
  },
  {
   "cell_type": "code",
   "execution_count": 61,
   "id": "72c65eff",
   "metadata": {},
   "outputs": [],
   "source": [
    "# Scalling"
   ]
  },
  {
   "cell_type": "code",
   "execution_count": 66,
   "id": "2f7dde99",
   "metadata": {},
   "outputs": [],
   "source": [
    "from sklearn.preprocessing import StandardScaler\n",
    "sc=StandardScaler()\n",
    "xtrain=sc.fit_transform(xtrain)\n",
    "xtest=sc.transform(xtest)"
   ]
  },
  {
   "cell_type": "code",
   "execution_count": 67,
   "id": "235f0d54",
   "metadata": {},
   "outputs": [],
   "source": [
    "logreg=LogisticRegression(solver=\"saga\")\n",
    "logreg.fit(xtrain,ytrain)\n",
    "ypred=logreg.predict(xtest)"
   ]
  },
  {
   "cell_type": "code",
   "execution_count": 68,
   "id": "261b0181",
   "metadata": {},
   "outputs": [
    {
     "name": "stdout",
     "output_type": "stream",
     "text": [
      "              precision    recall  f1-score   support\n",
      "\n",
      "           0       0.87      0.80      0.83       134\n",
      "           1       0.61      0.72      0.66        58\n",
      "\n",
      "    accuracy                           0.78       192\n",
      "   macro avg       0.74      0.76      0.75       192\n",
      "weighted avg       0.79      0.78      0.78       192\n",
      "\n"
     ]
    }
   ],
   "source": [
    "print(classification_report(ypred,ytest))"
   ]
  },
  {
   "cell_type": "code",
   "execution_count": null,
   "id": "e40ab31c",
   "metadata": {},
   "outputs": [],
   "source": []
  }
 ],
 "metadata": {
  "kernelspec": {
   "display_name": "Python 3 (ipykernel)",
   "language": "python",
   "name": "python3"
  },
  "language_info": {
   "codemirror_mode": {
    "name": "ipython",
    "version": 3
   },
   "file_extension": ".py",
   "mimetype": "text/x-python",
   "name": "python",
   "nbconvert_exporter": "python",
   "pygments_lexer": "ipython3",
   "version": "3.9.12"
  }
 },
 "nbformat": 4,
 "nbformat_minor": 5
}
