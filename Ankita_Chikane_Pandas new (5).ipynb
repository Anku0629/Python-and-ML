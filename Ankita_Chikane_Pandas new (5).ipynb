{
 "cells": [
  {
   "cell_type": "markdown",
   "id": "2935a23a",
   "metadata": {},
   "source": [
    "# 07-06-2023"
   ]
  },
  {
   "cell_type": "markdown",
   "id": "c4fd91e5",
   "metadata": {},
   "source": [
    "### DATA STRUCTURES IN PANDAS"
   ]
  },
  {
   "cell_type": "code",
   "execution_count": 1,
   "id": "1940ffb5",
   "metadata": {},
   "outputs": [],
   "source": [
    "#Pandas deals with following data structures(inbuild classes)\n",
    "# Series : 1D labelled array,homogeneous data,size immutable\n",
    "# DataFrame : 2D labelled,heterogenous data,size is totally mutable"
   ]
  },
  {
   "cell_type": "code",
   "execution_count": 2,
   "id": "38905e3a",
   "metadata": {},
   "outputs": [],
   "source": [
    "import pandas as pd"
   ]
  },
  {
   "cell_type": "markdown",
   "id": "1ef76491",
   "metadata": {},
   "source": [
    "### Series"
   ]
  },
  {
   "cell_type": "code",
   "execution_count": 3,
   "id": "0183d80b",
   "metadata": {},
   "outputs": [],
   "source": [
    "# Syntax - pandas.Series(data,index,dtype,copy)"
   ]
  },
  {
   "cell_type": "markdown",
   "id": "f8915ae5",
   "metadata": {},
   "source": [
    "### Creating empty Series"
   ]
  },
  {
   "cell_type": "code",
   "execution_count": 4,
   "id": "a8161e63",
   "metadata": {},
   "outputs": [
    {
     "name": "stderr",
     "output_type": "stream",
     "text": [
      "C:\\Users\\admin\\AppData\\Local\\Temp\\ipykernel_10512\\521516865.py:1: FutureWarning: The default dtype for empty Series will be 'object' instead of 'float64' in a future version. Specify a dtype explicitly to silence this warning.\n",
      "  s=pd.Series()\n"
     ]
    },
    {
     "data": {
      "text/plain": [
       "Series([], dtype: float64)"
      ]
     },
     "execution_count": 4,
     "metadata": {},
     "output_type": "execute_result"
    }
   ],
   "source": [
    "s=pd.Series()\n",
    "s"
   ]
  },
  {
   "cell_type": "markdown",
   "id": "231bc88e",
   "metadata": {},
   "source": [
    "### Creating a Series with list"
   ]
  },
  {
   "cell_type": "code",
   "execution_count": 5,
   "id": "d01e771e",
   "metadata": {},
   "outputs": [
    {
     "data": {
      "text/plain": [
       "a    1\n",
       "b    2\n",
       "c    3\n",
       "d    4\n",
       "dtype: int64"
      ]
     },
     "execution_count": 5,
     "metadata": {},
     "output_type": "execute_result"
    }
   ],
   "source": [
    "s=pd.Series(data=[1,2,3,4],index=[\"a\",\"b\",\"c\",\"d\"])\n",
    "s"
   ]
  },
  {
   "cell_type": "code",
   "execution_count": 6,
   "id": "128e2155",
   "metadata": {},
   "outputs": [
    {
     "data": {
      "text/plain": [
       "0    1\n",
       "1    2\n",
       "2    3\n",
       "3    4\n",
       "dtype: int64"
      ]
     },
     "execution_count": 6,
     "metadata": {},
     "output_type": "execute_result"
    }
   ],
   "source": [
    "s=pd.Series([1,2,3,4])\n",
    "s"
   ]
  },
  {
   "cell_type": "markdown",
   "id": "63b29e95",
   "metadata": {},
   "source": [
    "### Create a Series with dictionary"
   ]
  },
  {
   "cell_type": "code",
   "execution_count": 7,
   "id": "71dc7b69",
   "metadata": {},
   "outputs": [
    {
     "data": {
      "text/plain": [
       "a    1.0\n",
       "b    3.0\n",
       "c    4.0\n",
       "dtype: float64"
      ]
     },
     "execution_count": 7,
     "metadata": {},
     "output_type": "execute_result"
    }
   ],
   "source": [
    "data={\"a\":1.0,\"b\":3.0,\"c\":4.0}\n",
    "s=pd.Series(data)\n",
    "s"
   ]
  },
  {
   "cell_type": "markdown",
   "id": "8cf72153",
   "metadata": {},
   "source": [
    "### Creating Series with Numpy array"
   ]
  },
  {
   "cell_type": "code",
   "execution_count": 8,
   "id": "cbca436b",
   "metadata": {},
   "outputs": [],
   "source": [
    "import numpy as np"
   ]
  },
  {
   "cell_type": "code",
   "execution_count": 9,
   "id": "22967f78",
   "metadata": {},
   "outputs": [
    {
     "data": {
      "text/plain": [
       "1    a\n",
       "2    b\n",
       "3    c\n",
       "4    d\n",
       "dtype: object"
      ]
     },
     "execution_count": 9,
     "metadata": {},
     "output_type": "execute_result"
    }
   ],
   "source": [
    "i=np.array([1,2,3,4])\n",
    "d=np.array([\"a\",\"b\",\"c\",\"d\"])\n",
    "\n",
    "s=pd.Series(d,i)\n",
    "s"
   ]
  },
  {
   "cell_type": "markdown",
   "id": "114ce3af",
   "metadata": {},
   "source": [
    "### Creating Series with scalar values"
   ]
  },
  {
   "cell_type": "code",
   "execution_count": 10,
   "id": "1b614982",
   "metadata": {},
   "outputs": [
    {
     "data": {
      "text/plain": [
       "0    5\n",
       "1    5\n",
       "2    5\n",
       "3    5\n",
       "4    5\n",
       "dtype: int64"
      ]
     },
     "execution_count": 10,
     "metadata": {},
     "output_type": "execute_result"
    }
   ],
   "source": [
    "s=pd.Series(5,index=[0,1,2,3,4])\n",
    "s"
   ]
  },
  {
   "cell_type": "markdown",
   "id": "ff82080c",
   "metadata": {},
   "source": [
    "# DataFrame"
   ]
  },
  {
   "cell_type": "markdown",
   "id": "7c1a878a",
   "metadata": {},
   "source": [
    "###  DataFrame : 2D labelled,heterogenous data,size is totally mutable"
   ]
  },
  {
   "cell_type": "markdown",
   "id": "dc1a8a84",
   "metadata": {},
   "source": [
    "### Creating empty DataFrame"
   ]
  },
  {
   "cell_type": "code",
   "execution_count": 11,
   "id": "7474cfda",
   "metadata": {},
   "outputs": [
    {
     "data": {
      "text/html": [
       "<div>\n",
       "<style scoped>\n",
       "    .dataframe tbody tr th:only-of-type {\n",
       "        vertical-align: middle;\n",
       "    }\n",
       "\n",
       "    .dataframe tbody tr th {\n",
       "        vertical-align: top;\n",
       "    }\n",
       "\n",
       "    .dataframe thead th {\n",
       "        text-align: right;\n",
       "    }\n",
       "</style>\n",
       "<table border=\"1\" class=\"dataframe\">\n",
       "  <thead>\n",
       "    <tr style=\"text-align: right;\">\n",
       "      <th></th>\n",
       "    </tr>\n",
       "  </thead>\n",
       "  <tbody>\n",
       "  </tbody>\n",
       "</table>\n",
       "</div>"
      ],
      "text/plain": [
       "Empty DataFrame\n",
       "Columns: []\n",
       "Index: []"
      ]
     },
     "execution_count": 11,
     "metadata": {},
     "output_type": "execute_result"
    }
   ],
   "source": [
    "df=pd.DataFrame()\n",
    "df"
   ]
  },
  {
   "cell_type": "markdown",
   "id": "ba91c200",
   "metadata": {},
   "source": [
    "### Creating DataFrame with list"
   ]
  },
  {
   "cell_type": "code",
   "execution_count": 12,
   "id": "1144d184",
   "metadata": {},
   "outputs": [
    {
     "data": {
      "text/html": [
       "<div>\n",
       "<style scoped>\n",
       "    .dataframe tbody tr th:only-of-type {\n",
       "        vertical-align: middle;\n",
       "    }\n",
       "\n",
       "    .dataframe tbody tr th {\n",
       "        vertical-align: top;\n",
       "    }\n",
       "\n",
       "    .dataframe thead th {\n",
       "        text-align: right;\n",
       "    }\n",
       "</style>\n",
       "<table border=\"1\" class=\"dataframe\">\n",
       "  <thead>\n",
       "    <tr style=\"text-align: right;\">\n",
       "      <th></th>\n",
       "      <th>0</th>\n",
       "    </tr>\n",
       "  </thead>\n",
       "  <tbody>\n",
       "    <tr>\n",
       "      <th>0</th>\n",
       "      <td>1</td>\n",
       "    </tr>\n",
       "    <tr>\n",
       "      <th>1</th>\n",
       "      <td>23</td>\n",
       "    </tr>\n",
       "    <tr>\n",
       "      <th>2</th>\n",
       "      <td>3</td>\n",
       "    </tr>\n",
       "    <tr>\n",
       "      <th>3</th>\n",
       "      <td>4</td>\n",
       "    </tr>\n",
       "    <tr>\n",
       "      <th>4</th>\n",
       "      <td>5</td>\n",
       "    </tr>\n",
       "  </tbody>\n",
       "</table>\n",
       "</div>"
      ],
      "text/plain": [
       "    0\n",
       "0   1\n",
       "1  23\n",
       "2   3\n",
       "3   4\n",
       "4   5"
      ]
     },
     "execution_count": 12,
     "metadata": {},
     "output_type": "execute_result"
    }
   ],
   "source": [
    "data=[1,23,3,4,5]\n",
    "pd.DataFrame(data)"
   ]
  },
  {
   "cell_type": "markdown",
   "id": "fc6ada9e",
   "metadata": {},
   "source": [
    "### Create DataFrame with list with multiple column"
   ]
  },
  {
   "cell_type": "code",
   "execution_count": 13,
   "id": "f8e9a6c6",
   "metadata": {},
   "outputs": [
    {
     "data": {
      "text/html": [
       "<div>\n",
       "<style scoped>\n",
       "    .dataframe tbody tr th:only-of-type {\n",
       "        vertical-align: middle;\n",
       "    }\n",
       "\n",
       "    .dataframe tbody tr th {\n",
       "        vertical-align: top;\n",
       "    }\n",
       "\n",
       "    .dataframe thead th {\n",
       "        text-align: right;\n",
       "    }\n",
       "</style>\n",
       "<table border=\"1\" class=\"dataframe\">\n",
       "  <thead>\n",
       "    <tr style=\"text-align: right;\">\n",
       "      <th></th>\n",
       "      <th>A</th>\n",
       "      <th>B</th>\n",
       "      <th>C</th>\n",
       "    </tr>\n",
       "  </thead>\n",
       "  <tbody>\n",
       "    <tr>\n",
       "      <th>0</th>\n",
       "      <td>i</td>\n",
       "      <td>ii</td>\n",
       "      <td>iii</td>\n",
       "    </tr>\n",
       "    <tr>\n",
       "      <th>1</th>\n",
       "      <td>a</td>\n",
       "      <td>b</td>\n",
       "      <td>c</td>\n",
       "    </tr>\n",
       "    <tr>\n",
       "      <th>2</th>\n",
       "      <td>1</td>\n",
       "      <td>2</td>\n",
       "      <td>3</td>\n",
       "    </tr>\n",
       "  </tbody>\n",
       "</table>\n",
       "</div>"
      ],
      "text/plain": [
       "   A   B    C\n",
       "0  i  ii  iii\n",
       "1  a   b    c\n",
       "2  1   2    3"
      ]
     },
     "execution_count": 13,
     "metadata": {},
     "output_type": "execute_result"
    }
   ],
   "source": [
    "data=[[\"i\",\"ii\",\"iii\"],[\"a\",\"b\",\"c\"],[1,2,3]]\n",
    "df=pd.DataFrame(data,columns=[\"A\",\"B\",\"C\"])\n",
    "df"
   ]
  },
  {
   "cell_type": "markdown",
   "id": "bd0a524a",
   "metadata": {},
   "source": [
    "### Creating DataFrame with python Dictionary"
   ]
  },
  {
   "cell_type": "code",
   "execution_count": 14,
   "id": "c82954a6",
   "metadata": {},
   "outputs": [
    {
     "data": {
      "text/html": [
       "<div>\n",
       "<style scoped>\n",
       "    .dataframe tbody tr th:only-of-type {\n",
       "        vertical-align: middle;\n",
       "    }\n",
       "\n",
       "    .dataframe tbody tr th {\n",
       "        vertical-align: top;\n",
       "    }\n",
       "\n",
       "    .dataframe thead th {\n",
       "        text-align: right;\n",
       "    }\n",
       "</style>\n",
       "<table border=\"1\" class=\"dataframe\">\n",
       "  <thead>\n",
       "    <tr style=\"text-align: right;\">\n",
       "      <th></th>\n",
       "      <th>Name</th>\n",
       "      <th>Age</th>\n",
       "    </tr>\n",
       "  </thead>\n",
       "  <tbody>\n",
       "    <tr>\n",
       "      <th>0</th>\n",
       "      <td>Ankita</td>\n",
       "      <td>23</td>\n",
       "    </tr>\n",
       "    <tr>\n",
       "      <th>1</th>\n",
       "      <td>Suraj</td>\n",
       "      <td>26</td>\n",
       "    </tr>\n",
       "    <tr>\n",
       "      <th>2</th>\n",
       "      <td>Aditya</td>\n",
       "      <td>18</td>\n",
       "    </tr>\n",
       "    <tr>\n",
       "      <th>3</th>\n",
       "      <td>Rutuja</td>\n",
       "      <td>23</td>\n",
       "    </tr>\n",
       "  </tbody>\n",
       "</table>\n",
       "</div>"
      ],
      "text/plain": [
       "     Name  Age\n",
       "0  Ankita   23\n",
       "1   Suraj   26\n",
       "2  Aditya   18\n",
       "3  Rutuja   23"
      ]
     },
     "execution_count": 14,
     "metadata": {},
     "output_type": "execute_result"
    }
   ],
   "source": [
    "data={\"Name\":[\"Ankita\",\"Suraj\",\"Aditya\",\"Rutuja\"],\"Age\":[23,26,18,23]}\n",
    "df=pd.DataFrame(data)\n",
    "df"
   ]
  },
  {
   "cell_type": "code",
   "execution_count": 15,
   "id": "628a9a7b",
   "metadata": {},
   "outputs": [
    {
     "data": {
      "text/html": [
       "<div>\n",
       "<style scoped>\n",
       "    .dataframe tbody tr th:only-of-type {\n",
       "        vertical-align: middle;\n",
       "    }\n",
       "\n",
       "    .dataframe tbody tr th {\n",
       "        vertical-align: top;\n",
       "    }\n",
       "\n",
       "    .dataframe thead th {\n",
       "        text-align: right;\n",
       "    }\n",
       "</style>\n",
       "<table border=\"1\" class=\"dataframe\">\n",
       "  <thead>\n",
       "    <tr style=\"text-align: right;\">\n",
       "      <th></th>\n",
       "      <th>Name</th>\n",
       "      <th>Age</th>\n",
       "    </tr>\n",
       "  </thead>\n",
       "  <tbody>\n",
       "    <tr>\n",
       "      <th>Rank 1</th>\n",
       "      <td>Ankita</td>\n",
       "      <td>23</td>\n",
       "    </tr>\n",
       "    <tr>\n",
       "      <th>Rank 2</th>\n",
       "      <td>Suraj</td>\n",
       "      <td>26</td>\n",
       "    </tr>\n",
       "    <tr>\n",
       "      <th>Rank 3</th>\n",
       "      <td>Aditya</td>\n",
       "      <td>18</td>\n",
       "    </tr>\n",
       "    <tr>\n",
       "      <th>Rank 4</th>\n",
       "      <td>Rutuja</td>\n",
       "      <td>23</td>\n",
       "    </tr>\n",
       "  </tbody>\n",
       "</table>\n",
       "</div>"
      ],
      "text/plain": [
       "          Name  Age\n",
       "Rank 1  Ankita   23\n",
       "Rank 2   Suraj   26\n",
       "Rank 3  Aditya   18\n",
       "Rank 4  Rutuja   23"
      ]
     },
     "execution_count": 15,
     "metadata": {},
     "output_type": "execute_result"
    }
   ],
   "source": [
    "data={\"Name\":[\"Ankita\",\"Suraj\",\"Aditya\",\"Rutuja\"],\"Age\":[23,26,18,23]}\n",
    "df=pd.DataFrame(data,index=[\"Rank 1\",\"Rank 2\",\"Rank 3\",\"Rank 4\"])\n",
    "df"
   ]
  },
  {
   "cell_type": "markdown",
   "id": "93ffaee6",
   "metadata": {},
   "source": [
    "### Creating DataFrame with numpy array"
   ]
  },
  {
   "cell_type": "code",
   "execution_count": 16,
   "id": "c29d35ad",
   "metadata": {},
   "outputs": [
    {
     "data": {
      "text/html": [
       "<div>\n",
       "<style scoped>\n",
       "    .dataframe tbody tr th:only-of-type {\n",
       "        vertical-align: middle;\n",
       "    }\n",
       "\n",
       "    .dataframe tbody tr th {\n",
       "        vertical-align: top;\n",
       "    }\n",
       "\n",
       "    .dataframe thead th {\n",
       "        text-align: right;\n",
       "    }\n",
       "</style>\n",
       "<table border=\"1\" class=\"dataframe\">\n",
       "  <thead>\n",
       "    <tr style=\"text-align: right;\">\n",
       "      <th></th>\n",
       "      <th>A</th>\n",
       "      <th>B</th>\n",
       "    </tr>\n",
       "  </thead>\n",
       "  <tbody>\n",
       "    <tr>\n",
       "      <th>0</th>\n",
       "      <td>1</td>\n",
       "      <td>2</td>\n",
       "    </tr>\n",
       "    <tr>\n",
       "      <th>1</th>\n",
       "      <td>3</td>\n",
       "      <td>4</td>\n",
       "    </tr>\n",
       "  </tbody>\n",
       "</table>\n",
       "</div>"
      ],
      "text/plain": [
       "   A  B\n",
       "0  1  2\n",
       "1  3  4"
      ]
     },
     "execution_count": 16,
     "metadata": {},
     "output_type": "execute_result"
    }
   ],
   "source": [
    "df=pd.DataFrame(np.arange(1,5).reshape(2,2),columns=[\"A\",\"B\"])\n",
    "df"
   ]
  },
  {
   "cell_type": "markdown",
   "id": "9c8dfc92",
   "metadata": {},
   "source": [
    "### Creating DataFrame with Series"
   ]
  },
  {
   "cell_type": "code",
   "execution_count": 17,
   "id": "1b65e13c",
   "metadata": {},
   "outputs": [
    {
     "data": {
      "text/html": [
       "<div>\n",
       "<style scoped>\n",
       "    .dataframe tbody tr th:only-of-type {\n",
       "        vertical-align: middle;\n",
       "    }\n",
       "\n",
       "    .dataframe tbody tr th {\n",
       "        vertical-align: top;\n",
       "    }\n",
       "\n",
       "    .dataframe thead th {\n",
       "        text-align: right;\n",
       "    }\n",
       "</style>\n",
       "<table border=\"1\" class=\"dataframe\">\n",
       "  <thead>\n",
       "    <tr style=\"text-align: right;\">\n",
       "      <th></th>\n",
       "      <th>one</th>\n",
       "      <th>two</th>\n",
       "    </tr>\n",
       "  </thead>\n",
       "  <tbody>\n",
       "    <tr>\n",
       "      <th>a</th>\n",
       "      <td>1.0</td>\n",
       "      <td>1</td>\n",
       "    </tr>\n",
       "    <tr>\n",
       "      <th>b</th>\n",
       "      <td>2.0</td>\n",
       "      <td>2</td>\n",
       "    </tr>\n",
       "    <tr>\n",
       "      <th>c</th>\n",
       "      <td>3.0</td>\n",
       "      <td>3</td>\n",
       "    </tr>\n",
       "    <tr>\n",
       "      <th>d</th>\n",
       "      <td>NaN</td>\n",
       "      <td>4</td>\n",
       "    </tr>\n",
       "  </tbody>\n",
       "</table>\n",
       "</div>"
      ],
      "text/plain": [
       "   one  two\n",
       "a  1.0    1\n",
       "b  2.0    2\n",
       "c  3.0    3\n",
       "d  NaN    4"
      ]
     },
     "execution_count": 17,
     "metadata": {},
     "output_type": "execute_result"
    }
   ],
   "source": [
    "d={\"one\":pd.Series([1,2,3],index=[\"a\",\"b\",\"c\"]),\n",
    "  \"two\":pd.Series([1,2,3,4],index=[\"a\",\"b\",\"c\",\"d\"])}\n",
    "df=pd.DataFrame(d)\n",
    "df"
   ]
  },
  {
   "cell_type": "markdown",
   "id": "e9b3c8d4",
   "metadata": {},
   "source": [
    "### Create a DataFrame with random numpy array"
   ]
  },
  {
   "cell_type": "code",
   "execution_count": 18,
   "id": "a3bd636e",
   "metadata": {},
   "outputs": [
    {
     "data": {
      "text/html": [
       "<div>\n",
       "<style scoped>\n",
       "    .dataframe tbody tr th:only-of-type {\n",
       "        vertical-align: middle;\n",
       "    }\n",
       "\n",
       "    .dataframe tbody tr th {\n",
       "        vertical-align: top;\n",
       "    }\n",
       "\n",
       "    .dataframe thead th {\n",
       "        text-align: right;\n",
       "    }\n",
       "</style>\n",
       "<table border=\"1\" class=\"dataframe\">\n",
       "  <thead>\n",
       "    <tr style=\"text-align: right;\">\n",
       "      <th></th>\n",
       "      <th>a</th>\n",
       "      <th>b</th>\n",
       "      <th>c</th>\n",
       "      <th>d</th>\n",
       "    </tr>\n",
       "  </thead>\n",
       "  <tbody>\n",
       "    <tr>\n",
       "      <th>0</th>\n",
       "      <td>0.003720</td>\n",
       "      <td>0.558822</td>\n",
       "      <td>-0.833891</td>\n",
       "      <td>-1.924550</td>\n",
       "    </tr>\n",
       "    <tr>\n",
       "      <th>1</th>\n",
       "      <td>-0.015622</td>\n",
       "      <td>-0.757729</td>\n",
       "      <td>-0.718129</td>\n",
       "      <td>-0.498319</td>\n",
       "    </tr>\n",
       "    <tr>\n",
       "      <th>2</th>\n",
       "      <td>0.406538</td>\n",
       "      <td>-0.247337</td>\n",
       "      <td>-0.932742</td>\n",
       "      <td>-1.136846</td>\n",
       "    </tr>\n",
       "    <tr>\n",
       "      <th>3</th>\n",
       "      <td>-1.061853</td>\n",
       "      <td>2.210064</td>\n",
       "      <td>2.881611</td>\n",
       "      <td>1.229443</td>\n",
       "    </tr>\n",
       "    <tr>\n",
       "      <th>4</th>\n",
       "      <td>1.259451</td>\n",
       "      <td>-0.666546</td>\n",
       "      <td>1.573673</td>\n",
       "      <td>-0.674724</td>\n",
       "    </tr>\n",
       "    <tr>\n",
       "      <th>5</th>\n",
       "      <td>-0.386949</td>\n",
       "      <td>-0.513866</td>\n",
       "      <td>0.595322</td>\n",
       "      <td>0.357661</td>\n",
       "    </tr>\n",
       "    <tr>\n",
       "      <th>6</th>\n",
       "      <td>-0.419843</td>\n",
       "      <td>-0.134283</td>\n",
       "      <td>-0.258559</td>\n",
       "      <td>0.785284</td>\n",
       "    </tr>\n",
       "    <tr>\n",
       "      <th>7</th>\n",
       "      <td>-0.100991</td>\n",
       "      <td>-0.186384</td>\n",
       "      <td>-1.620129</td>\n",
       "      <td>1.350761</td>\n",
       "    </tr>\n",
       "    <tr>\n",
       "      <th>8</th>\n",
       "      <td>-0.759770</td>\n",
       "      <td>-0.483061</td>\n",
       "      <td>-0.889963</td>\n",
       "      <td>-1.292768</td>\n",
       "    </tr>\n",
       "    <tr>\n",
       "      <th>9</th>\n",
       "      <td>0.162880</td>\n",
       "      <td>-0.646003</td>\n",
       "      <td>-1.356554</td>\n",
       "      <td>-0.220094</td>\n",
       "    </tr>\n",
       "  </tbody>\n",
       "</table>\n",
       "</div>"
      ],
      "text/plain": [
       "          a         b         c         d\n",
       "0  0.003720  0.558822 -0.833891 -1.924550\n",
       "1 -0.015622 -0.757729 -0.718129 -0.498319\n",
       "2  0.406538 -0.247337 -0.932742 -1.136846\n",
       "3 -1.061853  2.210064  2.881611  1.229443\n",
       "4  1.259451 -0.666546  1.573673 -0.674724\n",
       "5 -0.386949 -0.513866  0.595322  0.357661\n",
       "6 -0.419843 -0.134283 -0.258559  0.785284\n",
       "7 -0.100991 -0.186384 -1.620129  1.350761\n",
       "8 -0.759770 -0.483061 -0.889963 -1.292768\n",
       "9  0.162880 -0.646003 -1.356554 -0.220094"
      ]
     },
     "execution_count": 18,
     "metadata": {},
     "output_type": "execute_result"
    }
   ],
   "source": [
    "df=pd.DataFrame(np.random.randn(10,4),columns=[\"a\",\"b\",\"c\",\"d\"])\n",
    "df"
   ]
  },
  {
   "cell_type": "code",
   "execution_count": 19,
   "id": "088ef700",
   "metadata": {},
   "outputs": [
    {
     "data": {
      "text/html": [
       "<div>\n",
       "<style scoped>\n",
       "    .dataframe tbody tr th:only-of-type {\n",
       "        vertical-align: middle;\n",
       "    }\n",
       "\n",
       "    .dataframe tbody tr th {\n",
       "        vertical-align: top;\n",
       "    }\n",
       "\n",
       "    .dataframe thead th {\n",
       "        text-align: right;\n",
       "    }\n",
       "</style>\n",
       "<table border=\"1\" class=\"dataframe\">\n",
       "  <thead>\n",
       "    <tr style=\"text-align: right;\">\n",
       "      <th></th>\n",
       "      <th>A</th>\n",
       "      <th>B</th>\n",
       "      <th>C</th>\n",
       "      <th>D</th>\n",
       "    </tr>\n",
       "  </thead>\n",
       "  <tbody>\n",
       "    <tr>\n",
       "      <th>0</th>\n",
       "      <td>11</td>\n",
       "      <td>12</td>\n",
       "      <td>13</td>\n",
       "      <td>10</td>\n",
       "    </tr>\n",
       "    <tr>\n",
       "      <th>1</th>\n",
       "      <td>14</td>\n",
       "      <td>12</td>\n",
       "      <td>14</td>\n",
       "      <td>11</td>\n",
       "    </tr>\n",
       "    <tr>\n",
       "      <th>2</th>\n",
       "      <td>10</td>\n",
       "      <td>14</td>\n",
       "      <td>11</td>\n",
       "      <td>14</td>\n",
       "    </tr>\n",
       "    <tr>\n",
       "      <th>3</th>\n",
       "      <td>12</td>\n",
       "      <td>12</td>\n",
       "      <td>10</td>\n",
       "      <td>14</td>\n",
       "    </tr>\n",
       "    <tr>\n",
       "      <th>4</th>\n",
       "      <td>11</td>\n",
       "      <td>11</td>\n",
       "      <td>10</td>\n",
       "      <td>14</td>\n",
       "    </tr>\n",
       "    <tr>\n",
       "      <th>5</th>\n",
       "      <td>11</td>\n",
       "      <td>10</td>\n",
       "      <td>10</td>\n",
       "      <td>12</td>\n",
       "    </tr>\n",
       "    <tr>\n",
       "      <th>6</th>\n",
       "      <td>14</td>\n",
       "      <td>11</td>\n",
       "      <td>13</td>\n",
       "      <td>14</td>\n",
       "    </tr>\n",
       "    <tr>\n",
       "      <th>7</th>\n",
       "      <td>12</td>\n",
       "      <td>11</td>\n",
       "      <td>12</td>\n",
       "      <td>10</td>\n",
       "    </tr>\n",
       "    <tr>\n",
       "      <th>8</th>\n",
       "      <td>12</td>\n",
       "      <td>13</td>\n",
       "      <td>14</td>\n",
       "      <td>11</td>\n",
       "    </tr>\n",
       "    <tr>\n",
       "      <th>9</th>\n",
       "      <td>12</td>\n",
       "      <td>11</td>\n",
       "      <td>10</td>\n",
       "      <td>14</td>\n",
       "    </tr>\n",
       "  </tbody>\n",
       "</table>\n",
       "</div>"
      ],
      "text/plain": [
       "    A   B   C   D\n",
       "0  11  12  13  10\n",
       "1  14  12  14  11\n",
       "2  10  14  11  14\n",
       "3  12  12  10  14\n",
       "4  11  11  10  14\n",
       "5  11  10  10  12\n",
       "6  14  11  13  14\n",
       "7  12  11  12  10\n",
       "8  12  13  14  11\n",
       "9  12  11  10  14"
      ]
     },
     "execution_count": 19,
     "metadata": {},
     "output_type": "execute_result"
    }
   ],
   "source": [
    "# low=10,high=15,size=(10,4)\n",
    "df=pd.DataFrame(np.random.randint(low=10,high=15,size=(10,4)),columns=[\"A\",\"B\",\"C\",\"D\"])\n",
    "df"
   ]
  },
  {
   "cell_type": "code",
   "execution_count": 20,
   "id": "365ce647",
   "metadata": {},
   "outputs": [
    {
     "data": {
      "text/html": [
       "<div>\n",
       "<style scoped>\n",
       "    .dataframe tbody tr th:only-of-type {\n",
       "        vertical-align: middle;\n",
       "    }\n",
       "\n",
       "    .dataframe tbody tr th {\n",
       "        vertical-align: top;\n",
       "    }\n",
       "\n",
       "    .dataframe thead th {\n",
       "        text-align: right;\n",
       "    }\n",
       "</style>\n",
       "<table border=\"1\" class=\"dataframe\">\n",
       "  <thead>\n",
       "    <tr style=\"text-align: right;\">\n",
       "      <th></th>\n",
       "      <th>A</th>\n",
       "      <th>B</th>\n",
       "      <th>C</th>\n",
       "      <th>D</th>\n",
       "    </tr>\n",
       "  </thead>\n",
       "  <tbody>\n",
       "    <tr>\n",
       "      <th>0</th>\n",
       "      <td>11</td>\n",
       "      <td>12</td>\n",
       "      <td>13</td>\n",
       "      <td>10</td>\n",
       "    </tr>\n",
       "    <tr>\n",
       "      <th>1</th>\n",
       "      <td>14</td>\n",
       "      <td>12</td>\n",
       "      <td>14</td>\n",
       "      <td>11</td>\n",
       "    </tr>\n",
       "    <tr>\n",
       "      <th>2</th>\n",
       "      <td>10</td>\n",
       "      <td>14</td>\n",
       "      <td>11</td>\n",
       "      <td>14</td>\n",
       "    </tr>\n",
       "    <tr>\n",
       "      <th>3</th>\n",
       "      <td>12</td>\n",
       "      <td>12</td>\n",
       "      <td>10</td>\n",
       "      <td>14</td>\n",
       "    </tr>\n",
       "    <tr>\n",
       "      <th>4</th>\n",
       "      <td>11</td>\n",
       "      <td>11</td>\n",
       "      <td>10</td>\n",
       "      <td>14</td>\n",
       "    </tr>\n",
       "  </tbody>\n",
       "</table>\n",
       "</div>"
      ],
      "text/plain": [
       "    A   B   C   D\n",
       "0  11  12  13  10\n",
       "1  14  12  14  11\n",
       "2  10  14  11  14\n",
       "3  12  12  10  14\n",
       "4  11  11  10  14"
      ]
     },
     "execution_count": 20,
     "metadata": {},
     "output_type": "execute_result"
    }
   ],
   "source": [
    "df.head() #............ bydefault  head function shows first 5 rows in dataframe"
   ]
  },
  {
   "cell_type": "code",
   "execution_count": 21,
   "id": "47e427f9",
   "metadata": {},
   "outputs": [
    {
     "data": {
      "text/html": [
       "<div>\n",
       "<style scoped>\n",
       "    .dataframe tbody tr th:only-of-type {\n",
       "        vertical-align: middle;\n",
       "    }\n",
       "\n",
       "    .dataframe tbody tr th {\n",
       "        vertical-align: top;\n",
       "    }\n",
       "\n",
       "    .dataframe thead th {\n",
       "        text-align: right;\n",
       "    }\n",
       "</style>\n",
       "<table border=\"1\" class=\"dataframe\">\n",
       "  <thead>\n",
       "    <tr style=\"text-align: right;\">\n",
       "      <th></th>\n",
       "      <th>A</th>\n",
       "      <th>B</th>\n",
       "      <th>C</th>\n",
       "      <th>D</th>\n",
       "    </tr>\n",
       "  </thead>\n",
       "  <tbody>\n",
       "    <tr>\n",
       "      <th>5</th>\n",
       "      <td>11</td>\n",
       "      <td>10</td>\n",
       "      <td>10</td>\n",
       "      <td>12</td>\n",
       "    </tr>\n",
       "    <tr>\n",
       "      <th>6</th>\n",
       "      <td>14</td>\n",
       "      <td>11</td>\n",
       "      <td>13</td>\n",
       "      <td>14</td>\n",
       "    </tr>\n",
       "    <tr>\n",
       "      <th>7</th>\n",
       "      <td>12</td>\n",
       "      <td>11</td>\n",
       "      <td>12</td>\n",
       "      <td>10</td>\n",
       "    </tr>\n",
       "    <tr>\n",
       "      <th>8</th>\n",
       "      <td>12</td>\n",
       "      <td>13</td>\n",
       "      <td>14</td>\n",
       "      <td>11</td>\n",
       "    </tr>\n",
       "    <tr>\n",
       "      <th>9</th>\n",
       "      <td>12</td>\n",
       "      <td>11</td>\n",
       "      <td>10</td>\n",
       "      <td>14</td>\n",
       "    </tr>\n",
       "  </tbody>\n",
       "</table>\n",
       "</div>"
      ],
      "text/plain": [
       "    A   B   C   D\n",
       "5  11  10  10  12\n",
       "6  14  11  13  14\n",
       "7  12  11  12  10\n",
       "8  12  13  14  11\n",
       "9  12  11  10  14"
      ]
     },
     "execution_count": 21,
     "metadata": {},
     "output_type": "execute_result"
    }
   ],
   "source": [
    "df.tail()   #..........bydefault tail function shows last 5 rows in dataframe"
   ]
  },
  {
   "cell_type": "code",
   "execution_count": 22,
   "id": "9f6461fc",
   "metadata": {},
   "outputs": [
    {
     "ename": "SyntaxError",
     "evalue": "invalid syntax (2014959564.py, line 1)",
     "output_type": "error",
     "traceback": [
      "\u001b[1;36m  Input \u001b[1;32mIn [22]\u001b[1;36m\u001b[0m\n\u001b[1;33m    df[5].tail()        experimental\u001b[0m\n\u001b[1;37m                        ^\u001b[0m\n\u001b[1;31mSyntaxError\u001b[0m\u001b[1;31m:\u001b[0m invalid syntax\n"
     ]
    }
   ],
   "source": [
    "df[5].tail()        experimental"
   ]
  },
  {
   "cell_type": "code",
   "execution_count": null,
   "id": "1e6cc004",
   "metadata": {},
   "outputs": [],
   "source": [
    "df.sum()"
   ]
  },
  {
   "cell_type": "code",
   "execution_count": null,
   "id": "061d47ab",
   "metadata": {},
   "outputs": [],
   "source": [
    "df[\"A\"].sum()"
   ]
  },
  {
   "cell_type": "code",
   "execution_count": null,
   "id": "da8dc856",
   "metadata": {},
   "outputs": [],
   "source": [
    "df[[\"A\",\"B\"]].sum()"
   ]
  },
  {
   "cell_type": "markdown",
   "id": "0566a499",
   "metadata": {},
   "source": [
    "# Indexing in Pandas"
   ]
  },
  {
   "cell_type": "code",
   "execution_count": null,
   "id": "757d18d4",
   "metadata": {},
   "outputs": [],
   "source": [
    "#Indexing functions = \n",
    "#1) .loc()  .......labelled indexing\n",
    "#2) .iloc()   ............integer indexing\n",
    "#3) .ix()    ........both lable and integer based"
   ]
  },
  {
   "cell_type": "markdown",
   "id": "04abd6bd",
   "metadata": {},
   "source": [
    "### .loc"
   ]
  },
  {
   "cell_type": "code",
   "execution_count": null,
   "id": "30068cda",
   "metadata": {},
   "outputs": [],
   "source": [
    "#.loc()= it is purely labelled based indexing"
   ]
  },
  {
   "cell_type": "code",
   "execution_count": null,
   "id": "58f7adc9",
   "metadata": {},
   "outputs": [],
   "source": [
    "import pandas as pd"
   ]
  },
  {
   "cell_type": "code",
   "execution_count": null,
   "id": "19c9f7b4",
   "metadata": {},
   "outputs": [],
   "source": [
    "import numpy as np"
   ]
  },
  {
   "cell_type": "code",
   "execution_count": null,
   "id": "951f7561",
   "metadata": {},
   "outputs": [],
   "source": [
    "df=pd.DataFrame(np.random.rand(8,4),index=[\"a\",\"b\",\"c\",\"d\",\"e\",\"f\",\"g\",\"h\"],columns=[\"A\",\"B\",\"C\",\"D\"])\n",
    "df"
   ]
  },
  {
   "cell_type": "code",
   "execution_count": null,
   "id": "0ae5699e",
   "metadata": {},
   "outputs": [],
   "source": [
    "#dataframe=rows and columns\n",
    "df.loc[\"b\":]"
   ]
  },
  {
   "cell_type": "code",
   "execution_count": null,
   "id": "357a026f",
   "metadata": {},
   "outputs": [],
   "source": [
    "df.loc[\"c\":\"f\"]"
   ]
  },
  {
   "cell_type": "code",
   "execution_count": null,
   "id": "4bcbba59",
   "metadata": {},
   "outputs": [],
   "source": [
    "df.loc[\"a\":\"h\":2]"
   ]
  },
  {
   "cell_type": "code",
   "execution_count": null,
   "id": "c2569b18",
   "metadata": {},
   "outputs": [],
   "source": [
    "df.loc[::2]       #............same like upper example"
   ]
  },
  {
   "cell_type": "code",
   "execution_count": null,
   "id": "1f56323d",
   "metadata": {},
   "outputs": [],
   "source": [
    "df.loc[:,\"A\"]"
   ]
  },
  {
   "cell_type": "code",
   "execution_count": null,
   "id": "9302b91f",
   "metadata": {},
   "outputs": [],
   "source": [
    "df.loc[:,\"B\"]"
   ]
  },
  {
   "cell_type": "code",
   "execution_count": null,
   "id": "50cf6211",
   "metadata": {},
   "outputs": [],
   "source": [
    "df.loc[:,\"A\"::2]"
   ]
  },
  {
   "cell_type": "code",
   "execution_count": null,
   "id": "1625da24",
   "metadata": {},
   "outputs": [],
   "source": [
    "df.loc[::2,::2]"
   ]
  },
  {
   "cell_type": "markdown",
   "id": "4aaef10e",
   "metadata": {},
   "source": [
    "### .iloc"
   ]
  },
  {
   "cell_type": "code",
   "execution_count": null,
   "id": "c8dd9dae",
   "metadata": {},
   "outputs": [],
   "source": [
    "#iloc.....Purely integer based"
   ]
  },
  {
   "cell_type": "code",
   "execution_count": null,
   "id": "8fa2f233",
   "metadata": {},
   "outputs": [],
   "source": [
    "df.iloc[1:4,1:]"
   ]
  },
  {
   "cell_type": "code",
   "execution_count": null,
   "id": "56346a8d",
   "metadata": {},
   "outputs": [],
   "source": [
    "df.iloc[:,:2]"
   ]
  },
  {
   "cell_type": "code",
   "execution_count": null,
   "id": "06aed990",
   "metadata": {},
   "outputs": [],
   "source": [
    "df.iloc[:,:-2]"
   ]
  },
  {
   "cell_type": "code",
   "execution_count": null,
   "id": "95f11180",
   "metadata": {},
   "outputs": [],
   "source": [
    "df.iloc[:-2,:]"
   ]
  },
  {
   "cell_type": "code",
   "execution_count": null,
   "id": "92b4dac4",
   "metadata": {},
   "outputs": [],
   "source": [
    "# Display first 2 rows and columns"
   ]
  },
  {
   "cell_type": "code",
   "execution_count": null,
   "id": "c7902278",
   "metadata": {},
   "outputs": [],
   "source": [
    "df.iloc[:2,:2]"
   ]
  },
  {
   "cell_type": "code",
   "execution_count": null,
   "id": "3e086133",
   "metadata": {},
   "outputs": [],
   "source": [
    "# Display columns and rows with 2 steps"
   ]
  },
  {
   "cell_type": "code",
   "execution_count": null,
   "id": "a0fbb9e6",
   "metadata": {},
   "outputs": [],
   "source": [
    "df.iloc[::2,::2]"
   ]
  },
  {
   "cell_type": "code",
   "execution_count": null,
   "id": "79e06ff6",
   "metadata": {},
   "outputs": [],
   "source": [
    "#first row and first column"
   ]
  },
  {
   "cell_type": "code",
   "execution_count": null,
   "id": "3e39676a",
   "metadata": {},
   "outputs": [],
   "source": [
    "df.iloc[:1,:1]"
   ]
  },
  {
   "cell_type": "code",
   "execution_count": null,
   "id": "ab05b0e6",
   "metadata": {},
   "outputs": [],
   "source": [
    "#last one values"
   ]
  },
  {
   "cell_type": "code",
   "execution_count": null,
   "id": "d444fc0e",
   "metadata": {},
   "outputs": [],
   "source": [
    "df.iloc[-1,-1]"
   ]
  },
  {
   "cell_type": "code",
   "execution_count": null,
   "id": "5acef420",
   "metadata": {},
   "outputs": [],
   "source": [
    "df.iloc[4:6,:]"
   ]
  },
  {
   "cell_type": "markdown",
   "id": "7405bb08",
   "metadata": {},
   "source": [
    "# Group by clause"
   ]
  },
  {
   "cell_type": "code",
   "execution_count": null,
   "id": "ebc3bc85",
   "metadata": {},
   "outputs": [],
   "source": [
    "ipl_data={\"Team\":[\"Riders\",\"Riders\",\"Devils\",\"Devils\",\"Kings\",\"Kings\",\"Kings\",\"Royals\",\"Riders\",\"Riders\"],\n",
    "         \"Rank\":[1,2,2,3,3,4,1,3,4,2],\n",
    "          \"Year\":[2012,2014,2017,2019,2020,2018,2016,2019,2014,2017],\n",
    "         \"Points\":[870,789,863,741,676,777,767,456,765,887]}\n",
    "ipl_data"
   ]
  },
  {
   "cell_type": "code",
   "execution_count": null,
   "id": "d0f27f0e",
   "metadata": {},
   "outputs": [],
   "source": [
    "df=pd.DataFrame(ipl_data)\n",
    "df"
   ]
  },
  {
   "cell_type": "code",
   "execution_count": null,
   "id": "8c9aeac3",
   "metadata": {},
   "outputs": [],
   "source": [
    "tg=df.groupby([\"Team\"])"
   ]
  },
  {
   "cell_type": "code",
   "execution_count": null,
   "id": "f0e273c0",
   "metadata": {},
   "outputs": [],
   "source": [
    "for i in tg:\n",
    "    print(i[0])  #..........i of zero... its indicates individual teams\n",
    "    print(i[1])  #...........i of one... its indicates groupby with team"
   ]
  },
  {
   "cell_type": "code",
   "execution_count": null,
   "id": "5b45ecf7",
   "metadata": {},
   "outputs": [],
   "source": [
    "df.groupby([\"Team\"]).count()"
   ]
  },
  {
   "cell_type": "code",
   "execution_count": null,
   "id": "2f2906a5",
   "metadata": {},
   "outputs": [],
   "source": [
    "df.groupby([\"Team\"])[\"Points\"].sum()"
   ]
  },
  {
   "cell_type": "code",
   "execution_count": null,
   "id": "edc6e17c",
   "metadata": {},
   "outputs": [],
   "source": [
    "df.groupby([\"Team\"])[\"Points\"].max()"
   ]
  },
  {
   "cell_type": "code",
   "execution_count": null,
   "id": "9fb36052",
   "metadata": {},
   "outputs": [],
   "source": [
    "df.groupby([\"Team\"])[\"Points\"].min()"
   ]
  },
  {
   "cell_type": "code",
   "execution_count": null,
   "id": "651555b8",
   "metadata": {},
   "outputs": [],
   "source": [
    "df.groupby([\"Team\"])[\"Points\"].mean()"
   ]
  },
  {
   "cell_type": "code",
   "execution_count": null,
   "id": "1a25a42e",
   "metadata": {},
   "outputs": [],
   "source": [
    "gb=df.groupby([\"Team\",\"Year\"])\n",
    "gb"
   ]
  },
  {
   "cell_type": "code",
   "execution_count": null,
   "id": "1c99c916",
   "metadata": {},
   "outputs": [],
   "source": [
    "for i in gb:    #................not imp\n",
    "    print(i)"
   ]
  },
  {
   "cell_type": "code",
   "execution_count": null,
   "id": "b38dfa79",
   "metadata": {},
   "outputs": [],
   "source": [
    "xy=df.groupby([\"Year\"])"
   ]
  },
  {
   "cell_type": "code",
   "execution_count": null,
   "id": "9adf81b6",
   "metadata": {},
   "outputs": [],
   "source": [
    "for i in xy:\n",
    "    print(i[0])\n",
    "    print(i[1])"
   ]
  },
  {
   "cell_type": "code",
   "execution_count": null,
   "id": "0926732a",
   "metadata": {},
   "outputs": [],
   "source": [
    "xy.get_group(2017)"
   ]
  },
  {
   "cell_type": "code",
   "execution_count": null,
   "id": "277c66bb",
   "metadata": {},
   "outputs": [],
   "source": [
    "xy.get_group(2017)[\"Points\"].min()"
   ]
  },
  {
   "cell_type": "code",
   "execution_count": null,
   "id": "3aa56492",
   "metadata": {},
   "outputs": [],
   "source": [
    "xy.get_group(2019)[\"Points\"].min()"
   ]
  },
  {
   "cell_type": "code",
   "execution_count": null,
   "id": "47615507",
   "metadata": {},
   "outputs": [],
   "source": [
    "xy.get_group(2019)[\"Points\"].max()"
   ]
  },
  {
   "cell_type": "markdown",
   "id": "9f5a9251",
   "metadata": {},
   "source": [
    "# Example"
   ]
  },
  {
   "cell_type": "code",
   "execution_count": null,
   "id": "82c3ba20",
   "metadata": {},
   "outputs": [],
   "source": [
    "import random"
   ]
  },
  {
   "cell_type": "code",
   "execution_count": null,
   "id": "bea1e4b2",
   "metadata": {},
   "outputs": [],
   "source": [
    "def play_game():\n",
    "    print(\"Welcome to Rock,paper,scissor....!\")\n",
    "    print(\"Choose one: 1:Rock,2:Paper,3:Scissor\")\n",
    "    choice=[\"rock\",\"paper\",\"scossor\"]\n",
    "    player_choice=int(input(\"Enter your choice(1-3)\"))\n",
    "    \n",
    "    if player_choice<0 or player_choice>3:\n",
    "        print(\"Invalid choice. Please try again\")\n",
    "        return\n",
    "    computer_choice=random.randint(0,2)\n",
    "    \n",
    "    \n",
    "    print(\"You Chose:\",choice[player_choice])\n",
    "    print(\"Computer Chose:\",choice[computer_choice])\n",
    "    \n",
    "    if player_choice==computer_choice:\n",
    "        print(\"Its a tia!\")\n",
    "    elif(player_choice==0 and computer_choice==2)or\\\n",
    "        (player_choice==1 and computer_choice==0)or\\\n",
    "        (player_choice==2 and computer_choice==1):\n",
    "        print(\"Congratulations!!! You Win\")\n",
    "    else:\n",
    "        print(\"Sorry!!! You Loss\")\n",
    "        \n",
    "    play_again=input(\"Do you want to play again{y/n}?\")\n",
    "    if play_again.lower()==\"y\":\n",
    "        play_game()\n",
    "    else:\n",
    "        print(\"Thank you for playing\")\n",
    "play_game()\n",
    "    "
   ]
  },
  {
   "cell_type": "markdown",
   "id": "1842cc4a",
   "metadata": {},
   "source": [
    "# 12-06-2023"
   ]
  },
  {
   "cell_type": "markdown",
   "id": "3433562f",
   "metadata": {},
   "source": [
    "# How to deal with missing data"
   ]
  },
  {
   "cell_type": "code",
   "execution_count": null,
   "id": "f99043b0",
   "metadata": {},
   "outputs": [],
   "source": [
    "import pandas as pd\n",
    "import numpy as np"
   ]
  },
  {
   "cell_type": "code",
   "execution_count": null,
   "id": "42537908",
   "metadata": {},
   "outputs": [],
   "source": [
    "dt={'Name':['Tom','James','Ricky','Messi','Steve',np.nan,'Jack'],\n",
    "    'Age':pd.Series([25,26,np.nan,23,np.nan,29,23]),\n",
    "    'Rateing':pd.Series([4.23,3.24,3.98,2.56,np.nan,4.6,np.nan])}\n",
    "dt"
   ]
  },
  {
   "cell_type": "code",
   "execution_count": null,
   "id": "b2398fc2",
   "metadata": {},
   "outputs": [],
   "source": [
    "df=pd.DataFrame(dt)\n",
    "df"
   ]
  },
  {
   "cell_type": "code",
   "execution_count": null,
   "id": "80e835cf",
   "metadata": {},
   "outputs": [],
   "source": [
    "df.isnull() #...........to find null values     null=true"
   ]
  },
  {
   "cell_type": "code",
   "execution_count": null,
   "id": "6e73273a",
   "metadata": {},
   "outputs": [],
   "source": [
    "df.notnull()  #.....to find not null vlues    not null=true"
   ]
  },
  {
   "cell_type": "code",
   "execution_count": null,
   "id": "3fd6dd60",
   "metadata": {},
   "outputs": [],
   "source": [
    "df.isnull().sum()   #......how many null values is shows"
   ]
  },
  {
   "cell_type": "code",
   "execution_count": null,
   "id": "8dab394e",
   "metadata": {},
   "outputs": [],
   "source": [
    "df.notnull().sum()      #......how many notnull values is show"
   ]
  },
  {
   "cell_type": "code",
   "execution_count": null,
   "id": "ace20c09",
   "metadata": {},
   "outputs": [],
   "source": [
    "df.info()     #..for whole data null and not nulll"
   ]
  },
  {
   "cell_type": "markdown",
   "id": "1b94f505",
   "metadata": {},
   "source": [
    "### Cleaning data and filling missing data"
   ]
  },
  {
   "cell_type": "code",
   "execution_count": null,
   "id": "e2df11c4",
   "metadata": {},
   "outputs": [],
   "source": [
    "# Fill Hi at all null values"
   ]
  },
  {
   "cell_type": "code",
   "execution_count": null,
   "id": "06deb431",
   "metadata": {},
   "outputs": [],
   "source": [
    "df.fillna(\"Hi\")       #......fillna=fill null values\n"
   ]
  },
  {
   "cell_type": "code",
   "execution_count": null,
   "id": "af1e222e",
   "metadata": {},
   "outputs": [],
   "source": [
    "df[\"Name\"].fillna(\"Admin\")    #...for fill null data in name column"
   ]
  },
  {
   "cell_type": "code",
   "execution_count": null,
   "id": "27127973",
   "metadata": {},
   "outputs": [],
   "source": [
    "df[\"Name\"].fillna(\"Admin\",inplace=True)  #.....for prmenantatly placed value admin\n",
    "df[\"Name\"]"
   ]
  },
  {
   "cell_type": "code",
   "execution_count": null,
   "id": "5e0c2d70",
   "metadata": {},
   "outputs": [],
   "source": [
    "df"
   ]
  },
  {
   "cell_type": "markdown",
   "id": "c61a46a4",
   "metadata": {},
   "source": [
    "### Handling the missing values with drop"
   ]
  },
  {
   "cell_type": "code",
   "execution_count": null,
   "id": "fa0b8f8b",
   "metadata": {},
   "outputs": [],
   "source": [
    "#   drop =  missing values columns are droped"
   ]
  },
  {
   "cell_type": "code",
   "execution_count": null,
   "id": "bc3b1000",
   "metadata": {},
   "outputs": [],
   "source": [
    "df.dropna()"
   ]
  },
  {
   "cell_type": "code",
   "execution_count": null,
   "id": "73bad2a7",
   "metadata": {},
   "outputs": [],
   "source": [
    "df.dropna(axis=1)"
   ]
  },
  {
   "cell_type": "code",
   "execution_count": null,
   "id": "a6dec3db",
   "metadata": {},
   "outputs": [],
   "source": [
    "df"
   ]
  },
  {
   "cell_type": "markdown",
   "id": "82aef78c",
   "metadata": {},
   "source": [
    "### Replace missing data or generic values"
   ]
  },
  {
   "cell_type": "code",
   "execution_count": null,
   "id": "87a55618",
   "metadata": {},
   "outputs": [],
   "source": [
    "df[\"Age\"].mean()"
   ]
  },
  {
   "cell_type": "code",
   "execution_count": null,
   "id": "aa81b2f2",
   "metadata": {},
   "outputs": [],
   "source": [
    "df.replace(np.nan,df[\"Age\"].mean())\n",
    "print(df[\"Name\"].replace(\"Admin\",\"Ankita\"))"
   ]
  },
  {
   "cell_type": "code",
   "execution_count": null,
   "id": "2ae221fc",
   "metadata": {},
   "outputs": [],
   "source": [
    "df[\"Rateing\"].mean()"
   ]
  },
  {
   "cell_type": "code",
   "execution_count": null,
   "id": "c1e0bd70",
   "metadata": {},
   "outputs": [],
   "source": [
    "df.replace(np.nan,df[\"Rateing\"].mean())"
   ]
  },
  {
   "cell_type": "code",
   "execution_count": null,
   "id": "c50d4b22",
   "metadata": {},
   "outputs": [],
   "source": [
    "#dif betn fillna and replace is fillna use to fill only null values and replace used for fill null values and also remaining values"
   ]
  },
  {
   "cell_type": "markdown",
   "id": "3a7ab8cd",
   "metadata": {},
   "source": [
    "### Drop function in pandas"
   ]
  },
  {
   "cell_type": "code",
   "execution_count": null,
   "id": "d727785f",
   "metadata": {},
   "outputs": [],
   "source": [
    "df.drop([\"Age\"],axis=1)   # ....to write axis is compulsory"
   ]
  },
  {
   "cell_type": "code",
   "execution_count": null,
   "id": "a0a2a6ab",
   "metadata": {},
   "outputs": [],
   "source": [
    "df.drop([\"Name\",\"Age\"],axis=1)"
   ]
  },
  {
   "cell_type": "code",
   "execution_count": null,
   "id": "3f9320a7",
   "metadata": {},
   "outputs": [],
   "source": [
    "df.drop([0,2])      # .....indexing wise drop"
   ]
  },
  {
   "cell_type": "code",
   "execution_count": null,
   "id": "f5b0ec33",
   "metadata": {},
   "outputs": [],
   "source": [
    "# drop columns and rows\n",
    "\n",
    "df.drop(index=1,columns=\"Age\")"
   ]
  },
  {
   "cell_type": "markdown",
   "id": "cdd46439",
   "metadata": {},
   "source": [
    "### Sorting in pandas"
   ]
  },
  {
   "cell_type": "code",
   "execution_count": null,
   "id": "7857af12",
   "metadata": {},
   "outputs": [],
   "source": [
    "# Sort by index\n",
    "\n",
    "df.sort_index()"
   ]
  },
  {
   "cell_type": "code",
   "execution_count": null,
   "id": "d7a287a9",
   "metadata": {},
   "outputs": [],
   "source": [
    "df.sort_index(ascending=False)"
   ]
  },
  {
   "cell_type": "code",
   "execution_count": null,
   "id": "aeb237f4",
   "metadata": {},
   "outputs": [],
   "source": [
    "df"
   ]
  },
  {
   "cell_type": "code",
   "execution_count": null,
   "id": "d13790e1",
   "metadata": {},
   "outputs": [],
   "source": [
    "df.sort_index(axis=1)"
   ]
  },
  {
   "cell_type": "code",
   "execution_count": null,
   "id": "a4564d1d",
   "metadata": {},
   "outputs": [],
   "source": [
    "#Sort by values\n",
    "\n",
    "df.sort_values(by=\"Age\")"
   ]
  },
  {
   "cell_type": "code",
   "execution_count": null,
   "id": "b99c612a",
   "metadata": {},
   "outputs": [],
   "source": [
    "df.sort_values([\"Age\",\"Rateing\"],ascending=False)"
   ]
  },
  {
   "cell_type": "markdown",
   "id": "c4c557a7",
   "metadata": {},
   "source": [
    "# CSV"
   ]
  },
  {
   "cell_type": "code",
   "execution_count": null,
   "id": "f19d9400",
   "metadata": {},
   "outputs": [],
   "source": [
    "import pandas as pd"
   ]
  },
  {
   "cell_type": "code",
   "execution_count": null,
   "id": "9584aece",
   "metadata": {},
   "outputs": [],
   "source": [
    "import numpy as np"
   ]
  },
  {
   "cell_type": "code",
   "execution_count": null,
   "id": "0c890980",
   "metadata": {},
   "outputs": [],
   "source": [
    "# How to read csv file\n",
    "\n",
    "df=pd.read_csv(\"gplay.csv\")"
   ]
  },
  {
   "cell_type": "code",
   "execution_count": null,
   "id": "f4033326",
   "metadata": {},
   "outputs": [],
   "source": [
    "df"
   ]
  },
  {
   "cell_type": "code",
   "execution_count": null,
   "id": "519f06d4",
   "metadata": {},
   "outputs": [],
   "source": [
    "# find stratinf 10 values of rows\n",
    "df.head(10)"
   ]
  },
  {
   "cell_type": "code",
   "execution_count": null,
   "id": "708e97fd",
   "metadata": {},
   "outputs": [],
   "source": [
    "df.isnull().sum()"
   ]
  },
  {
   "cell_type": "code",
   "execution_count": null,
   "id": "eaf27418",
   "metadata": {},
   "outputs": [],
   "source": [
    "df.info()"
   ]
  },
  {
   "cell_type": "code",
   "execution_count": null,
   "id": "05cf8091",
   "metadata": {},
   "outputs": [],
   "source": [
    "df[\"Rating\"].fillna(df[\"Rating\"].mean(),inplace=True)"
   ]
  },
  {
   "cell_type": "code",
   "execution_count": null,
   "id": "7aad9846",
   "metadata": {},
   "outputs": [],
   "source": [
    "df.isnull().sum()"
   ]
  },
  {
   "cell_type": "code",
   "execution_count": null,
   "id": "07e7f663",
   "metadata": {},
   "outputs": [],
   "source": [
    "df.dropna(inplace=True)"
   ]
  },
  {
   "cell_type": "code",
   "execution_count": null,
   "id": "6bc3eb3f",
   "metadata": {},
   "outputs": [],
   "source": [
    "df.isnull().sum()"
   ]
  },
  {
   "cell_type": "code",
   "execution_count": null,
   "id": "f87471ee",
   "metadata": {},
   "outputs": [],
   "source": [
    "df[\"Reviews\"]=df[\"Reviews\"].astype(float)      #.........in astype function we cannot use inplace functiondf[]\n",
    "df.info()"
   ]
  },
  {
   "cell_type": "code",
   "execution_count": null,
   "id": "3e2ba40f",
   "metadata": {},
   "outputs": [],
   "source": [
    "df\n"
   ]
  },
  {
   "cell_type": "markdown",
   "id": "700511b4",
   "metadata": {},
   "source": [
    "# 13-06-2023\n",
    "\n"
   ]
  },
  {
   "cell_type": "code",
   "execution_count": null,
   "id": "f6ba2225",
   "metadata": {},
   "outputs": [],
   "source": [
    "df.drop([\"Unnamed: 0\"],axis=1,inplace=True)\n",
    "df"
   ]
  },
  {
   "cell_type": "code",
   "execution_count": null,
   "id": "5c70c8d4",
   "metadata": {},
   "outputs": [],
   "source": [
    "df[\"Size\"].value_counts()"
   ]
  },
  {
   "cell_type": "code",
   "execution_count": null,
   "id": "e763bf64",
   "metadata": {},
   "outputs": [],
   "source": [
    "def clean_size(x):\n",
    "    if \"k\" in x:\n",
    "        x=x.replace(\"k\",\"\")\n",
    "        return float(x)/1024\n",
    "    elif \"M\" in x:\n",
    "        x=x.replace(\"M\",\"\")\n",
    "        return float(x)\n",
    "    elif x==\"Varies with device\":\n",
    "        return np.nan\n",
    "    else:\n",
    "        return float(x)\n",
    "    \n",
    "        "
   ]
  },
  {
   "cell_type": "code",
   "execution_count": null,
   "id": "3767507d",
   "metadata": {},
   "outputs": [],
   "source": [
    "#df[\"Size\"]=df[\"Size\"].map(clean_size)      ...........repeat error   its right"
   ]
  },
  {
   "cell_type": "code",
   "execution_count": null,
   "id": "61b17520",
   "metadata": {},
   "outputs": [],
   "source": [
    "df"
   ]
  },
  {
   "cell_type": "code",
   "execution_count": null,
   "id": "173882de",
   "metadata": {},
   "outputs": [],
   "source": [
    "df[\"Price\"].value_counts()"
   ]
  },
  {
   "cell_type": "code",
   "execution_count": null,
   "id": "c01c0e19",
   "metadata": {},
   "outputs": [],
   "source": [
    "df[\"Price\"]=df[\"Price\"].str.replace(\"$\",\"\")"
   ]
  },
  {
   "cell_type": "code",
   "execution_count": null,
   "id": "3713aee9",
   "metadata": {},
   "outputs": [],
   "source": [
    "df[\"Price\"].value_counts()"
   ]
  },
  {
   "cell_type": "code",
   "execution_count": null,
   "id": "d3b9d411",
   "metadata": {},
   "outputs": [],
   "source": [
    "df[\"Installs\"].value_counts()"
   ]
  },
  {
   "cell_type": "code",
   "execution_count": null,
   "id": "da427e29",
   "metadata": {},
   "outputs": [],
   "source": [
    "df[\"Installs\"]=df[\"Installs\"].str.replace(\"+\",\"\")"
   ]
  },
  {
   "cell_type": "code",
   "execution_count": null,
   "id": "7bbb1466",
   "metadata": {},
   "outputs": [],
   "source": [
    "df[\"Installs\"].value_counts()"
   ]
  },
  {
   "cell_type": "code",
   "execution_count": null,
   "id": "d42b6047",
   "metadata": {},
   "outputs": [],
   "source": [
    "df.info()"
   ]
  },
  {
   "cell_type": "code",
   "execution_count": null,
   "id": "1a01287b",
   "metadata": {},
   "outputs": [],
   "source": [
    "# Highest rating"
   ]
  },
  {
   "cell_type": "code",
   "execution_count": null,
   "id": "656602ee",
   "metadata": {},
   "outputs": [],
   "source": [
    "df[\"Rating\"].max()"
   ]
  },
  {
   "cell_type": "code",
   "execution_count": null,
   "id": "cef8d5cd",
   "metadata": {},
   "outputs": [],
   "source": [
    "# Display all data having rating 4.0"
   ]
  },
  {
   "cell_type": "code",
   "execution_count": null,
   "id": "e1ef0ea1",
   "metadata": {},
   "outputs": [],
   "source": [
    "df.loc[df[\"Rating\"]==4.0]"
   ]
  },
  {
   "cell_type": "code",
   "execution_count": null,
   "id": "e73a8e60",
   "metadata": {},
   "outputs": [],
   "source": [
    "# Display all data having maximum rating"
   ]
  },
  {
   "cell_type": "code",
   "execution_count": null,
   "id": "eba531bf",
   "metadata": {},
   "outputs": [],
   "source": [
    "rmax=df[\"Rating\"].max()\n",
    "df.loc[df[\"Rating\"]==rmax]"
   ]
  },
  {
   "cell_type": "code",
   "execution_count": null,
   "id": "7a9889d1",
   "metadata": {},
   "outputs": [],
   "source": [
    "df[\"Rating\"].max()"
   ]
  },
  {
   "cell_type": "code",
   "execution_count": null,
   "id": "b232c775",
   "metadata": {},
   "outputs": [],
   "source": [
    "# Display only app nmae,categary,rating whose rating value is 5.0"
   ]
  },
  {
   "cell_type": "code",
   "execution_count": null,
   "id": "e0ac95e8",
   "metadata": {},
   "outputs": [],
   "source": [
    "df[[\"App\",\"Category\",\"Rating\"]].loc[df[\"Rating\"]==5.0]"
   ]
  },
  {
   "cell_type": "code",
   "execution_count": null,
   "id": "fadfcd47",
   "metadata": {},
   "outputs": [],
   "source": [
    "# Display all records of free app"
   ]
  },
  {
   "cell_type": "code",
   "execution_count": null,
   "id": "d154a9d0",
   "metadata": {},
   "outputs": [],
   "source": [
    "df.loc[df[\"Type\"]==\"Free\"]"
   ]
  },
  {
   "cell_type": "code",
   "execution_count": null,
   "id": "d133254e",
   "metadata": {},
   "outputs": [],
   "source": [
    "# most expensive app details"
   ]
  },
  {
   "cell_type": "code",
   "execution_count": null,
   "id": "ad99cf19",
   "metadata": {},
   "outputs": [],
   "source": [
    "mp=df[\"Price\"].max()\n",
    "df.loc[df[\"Price\"]==mp]"
   ]
  },
  {
   "cell_type": "markdown",
   "id": "0697ca06",
   "metadata": {},
   "source": [
    "# 14-06-2023"
   ]
  },
  {
   "cell_type": "code",
   "execution_count": null,
   "id": "31cd3407",
   "metadata": {},
   "outputs": [],
   "source": [
    "# Dispaly app details who are having rating between 4 to 5"
   ]
  },
  {
   "cell_type": "code",
   "execution_count": null,
   "id": "ad28474d",
   "metadata": {},
   "outputs": [],
   "source": [
    "import pandas as pd\n",
    "import numpy as np"
   ]
  },
  {
   "cell_type": "code",
   "execution_count": null,
   "id": "b514ec14",
   "metadata": {},
   "outputs": [],
   "source": [
    "df.loc[(df[\"Rating\"]>=4.0) & (df[\"Rating\"]<=5.0)]"
   ]
  },
  {
   "cell_type": "code",
   "execution_count": null,
   "id": "6a7ab168",
   "metadata": {},
   "outputs": [],
   "source": [
    "# How many apps are there who are having rating from 4 to 5\n",
    "\n",
    "len(df.loc[(df[\"Rating\"]>=4.0) & (df[\"Rating\"]<=5.0)])"
   ]
  },
  {
   "cell_type": "code",
   "execution_count": null,
   "id": "441e9be2",
   "metadata": {},
   "outputs": [],
   "source": [
    "# Display all free apps who are having rating 5.0\n",
    "\n",
    "df.loc[(df[\"Type\"]==\"Free\") & (df[\"Rating\"]==5.0)]"
   ]
  },
  {
   "cell_type": "code",
   "execution_count": null,
   "id": "1574b30a",
   "metadata": {},
   "outputs": [],
   "source": [
    "df"
   ]
  },
  {
   "cell_type": "code",
   "execution_count": null,
   "id": "344f30f1",
   "metadata": {},
   "outputs": [],
   "source": [
    "# Display datails lowest rated app of paid category\n",
    "\n",
    "df.loc[(df[\"Rating\"]==df[\"Rating\"].min()) & (df[\"Type\"]==\"Paid\")]"
   ]
  },
  {
   "cell_type": "code",
   "execution_count": null,
   "id": "4df646cb",
   "metadata": {},
   "outputs": [],
   "source": [
    "tf=df.loc[df[\"Type\"]==\"Paid\"]\n",
    "pmin=tf[\"Rating\"].min()\n",
    "tf.loc[tf[\"Rating\"]==pmin]"
   ]
  },
  {
   "cell_type": "code",
   "execution_count": null,
   "id": "6cee9292",
   "metadata": {},
   "outputs": [],
   "source": [
    "df[\"Category\"].value_counts().plot(kind=\"bar\")"
   ]
  },
  {
   "cell_type": "code",
   "execution_count": null,
   "id": "cfe0f764",
   "metadata": {},
   "outputs": [],
   "source": [
    "df[\"Content Rating\"].value_counts().plot(kind=\"pie\")"
   ]
  },
  {
   "cell_type": "code",
   "execution_count": null,
   "id": "e10348bf",
   "metadata": {},
   "outputs": [],
   "source": []
  },
  {
   "cell_type": "code",
   "execution_count": null,
   "id": "32f8aff9",
   "metadata": {},
   "outputs": [],
   "source": []
  },
  {
   "cell_type": "code",
   "execution_count": null,
   "id": "76a49d21",
   "metadata": {},
   "outputs": [],
   "source": []
  },
  {
   "cell_type": "code",
   "execution_count": null,
   "id": "d055c27d",
   "metadata": {},
   "outputs": [],
   "source": []
  },
  {
   "cell_type": "code",
   "execution_count": null,
   "id": "e377fe8b",
   "metadata": {},
   "outputs": [],
   "source": []
  },
  {
   "cell_type": "markdown",
   "id": "0383a4c7",
   "metadata": {},
   "source": [
    "# IPL data Analysis "
   ]
  },
  {
   "cell_type": "code",
   "execution_count": null,
   "id": "bd4274ea",
   "metadata": {},
   "outputs": [],
   "source": []
  },
  {
   "cell_type": "code",
   "execution_count": null,
   "id": "9cf3f589",
   "metadata": {},
   "outputs": [],
   "source": []
  },
  {
   "cell_type": "code",
   "execution_count": null,
   "id": "0042612c",
   "metadata": {},
   "outputs": [],
   "source": []
  },
  {
   "cell_type": "code",
   "execution_count": null,
   "id": "509b47df",
   "metadata": {},
   "outputs": [],
   "source": []
  },
  {
   "cell_type": "code",
   "execution_count": null,
   "id": "4fdb4e45",
   "metadata": {},
   "outputs": [],
   "source": []
  },
  {
   "cell_type": "code",
   "execution_count": null,
   "id": "abfc249b",
   "metadata": {},
   "outputs": [],
   "source": []
  },
  {
   "cell_type": "code",
   "execution_count": null,
   "id": "d7e9fe20",
   "metadata": {},
   "outputs": [],
   "source": [
    "ac=pd.read_csv(\"Match.csv\")\n",
    "ac"
   ]
  },
  {
   "cell_type": "code",
   "execution_count": null,
   "id": "f14e6829",
   "metadata": {},
   "outputs": [],
   "source": [
    "ac.info()"
   ]
  },
  {
   "cell_type": "code",
   "execution_count": null,
   "id": "b0c556c1",
   "metadata": {},
   "outputs": [],
   "source": [
    "ac.columns"
   ]
  },
  {
   "cell_type": "code",
   "execution_count": null,
   "id": "d974fc2e",
   "metadata": {},
   "outputs": [],
   "source": [
    "ac[\"dismissal_kind\"].value_counts()"
   ]
  },
  {
   "cell_type": "code",
   "execution_count": null,
   "id": "29743eea",
   "metadata": {},
   "outputs": [],
   "source": [
    "# total runs of batsman in this league\n",
    "\n",
    "ac[\"batsman_runs\"].sum()"
   ]
  },
  {
   "cell_type": "code",
   "execution_count": null,
   "id": "87bf935b",
   "metadata": {},
   "outputs": [],
   "source": [
    "# total wide runs\n",
    "\n",
    "ac[\"wide_runs\"].sum()"
   ]
  },
  {
   "cell_type": "code",
   "execution_count": null,
   "id": "eb8e0d7b",
   "metadata": {},
   "outputs": [],
   "source": [
    "# total runs of virat kohli\n",
    "\n",
    "ac[\"batsman_runs\"].loc[(ac[\"batsman\"]==\"V Kohli\")].sum()"
   ]
  },
  {
   "cell_type": "code",
   "execution_count": null,
   "id": "a8a7c403",
   "metadata": {},
   "outputs": [],
   "source": [
    "# total extra runs given by bowler T Mills\n",
    "\n",
    "ac[\"extra_runs\"].loc[(ac[\"bowler\"]==\"TS Mills\")].sum()"
   ]
  },
  {
   "cell_type": "code",
   "execution_count": null,
   "id": "326608da",
   "metadata": {},
   "outputs": [],
   "source": [
    "# catches taken by Mandeep singh\n",
    "\n",
    "ac.loc[(ac[\"dismissal_kind\"]==\"caught\") & (ac[\"fielder\"]==\"Mandeep Singh\")]"
   ]
  },
  {
   "cell_type": "code",
   "execution_count": null,
   "id": "e2e39388",
   "metadata": {},
   "outputs": [],
   "source": [
    "# find number of stump outs done by MS D \n",
    "len(ac.loc[(ac[\"dismissal_kind\"]==\"stumped\") & (ac[\"fielder\"]==\"MS Dhoni\")])"
   ]
  },
  {
   "cell_type": "code",
   "execution_count": null,
   "id": "13ba5252",
   "metadata": {},
   "outputs": [],
   "source": [
    " ## how many times worner was dismissed by A Choudhary\n",
    "\n",
    "len(ac.loc[(ac[\"player_dismissed\"]==\"DA Warner\") & (ac[\"bowler\"]==\"A Choudhary\")])"
   ]
  },
  {
   "cell_type": "code",
   "execution_count": null,
   "id": "d595e3a9",
   "metadata": {},
   "outputs": [],
   "source": [
    "# find batsman stumped out by MS Dhoni\n",
    "\n",
    "ac[\"batsman\"].loc[(ac[\"dismissal_kind\"]==\"stumped\") & (ac[\"fielder\"]==\"MS Dhoni\")].value_counts()"
   ]
  },
  {
   "cell_type": "markdown",
   "id": "1f792aff",
   "metadata": {},
   "source": []
  },
  {
   "cell_type": "code",
   "execution_count": null,
   "id": "d7e1c40e",
   "metadata": {},
   "outputs": [],
   "source": [
    "# how many times shikhar got out bt lbw\n",
    "\n",
    "len(ac.loc[(ac[\"batsman\"]==\"S Dhawan\") & (ac[\"fielder\"]==\"lbw\")])"
   ]
  },
  {
   "cell_type": "code",
   "execution_count": null,
   "id": "4a0a7823",
   "metadata": {},
   "outputs": [],
   "source": [
    "# finf name and count that how many times S shawan got out by catch\n",
    "\n",
    "ac[\"fielder\"].loc[(ac[\"dismissal_kind\"]==\"caught\") & (ac[\"batsman\"]==\"S Dhawan\")].value_counts"
   ]
  },
  {
   "cell_type": "code",
   "execution_count": null,
   "id": "46998b74",
   "metadata": {},
   "outputs": [],
   "source": [
    "# total number of sixex hit by MS Dhoni\n",
    "\n",
    "len(ac.loc[(ac[\"batsman_runs\"]==6) & (ac[\"batsman\"]==\"MS Dhoni\")])"
   ]
  },
  {
   "cell_type": "code",
   "execution_count": null,
   "id": "70b3ef6a",
   "metadata": {},
   "outputs": [],
   "source": [
    "# total runs scored by MS Dhoni by hitted \n",
    "\n",
    "ac[\"batsman_runs\"].loc[(ac[\"batsman_runs\"]==6) & (ac[\"batsman\"]==\"MS Dhoni\")].sum()"
   ]
  },
  {
   "cell_type": "code",
   "execution_count": null,
   "id": "a06b94d5",
   "metadata": {},
   "outputs": [],
   "source": [
    "# find all records of super over\n",
    "\n",
    "ac.loc[ac[\"is_super_over\"]==1]"
   ]
  },
  {
   "cell_type": "markdown",
   "id": "5a4a81b0",
   "metadata": {},
   "source": [
    "# Matplotlib"
   ]
  },
  {
   "cell_type": "markdown",
   "id": "a113d870",
   "metadata": {},
   "source": [
    "# 15-06-2023"
   ]
  },
  {
   "cell_type": "code",
   "execution_count": null,
   "id": "1fa57d54",
   "metadata": {},
   "outputs": [],
   "source": [
    "import matplotlib.pyplot as plt\n",
    "import pandas as pd\n",
    "import numpy as np"
   ]
  },
  {
   "cell_type": "markdown",
   "id": "e0c3260f",
   "metadata": {},
   "source": [
    "# 1) Line Plot"
   ]
  },
  {
   "cell_type": "code",
   "execution_count": null,
   "id": "98c28f19",
   "metadata": {},
   "outputs": [],
   "source": [
    "x=[1,3,5,7,9,11]\n",
    "y=[11,14,15,19,24,25]"
   ]
  },
  {
   "cell_type": "code",
   "execution_count": null,
   "id": "747a4d4f",
   "metadata": {},
   "outputs": [],
   "source": [
    "plt.plot(x,y,marker=\"o\")\n",
    "plt.grid(True)\n",
    "plt.show"
   ]
  },
  {
   "cell_type": "code",
   "execution_count": null,
   "id": "1d4f882d",
   "metadata": {},
   "outputs": [],
   "source": [
    "plt.plot(x,y,marker=\">\")\n",
    "plt.grid(True)\n",
    "plt.show"
   ]
  },
  {
   "cell_type": "code",
   "execution_count": null,
   "id": "eba89858",
   "metadata": {},
   "outputs": [],
   "source": [
    "x=np.arange(0,10,0.1)\n",
    "y=np.sin(x)\n",
    "\n",
    "plt.plot(x,y)\n",
    "plt.grid(True)\n",
    "plt.show()"
   ]
  },
  {
   "cell_type": "markdown",
   "id": "21bb7b51",
   "metadata": {},
   "source": [
    "### Figsize, labels, title"
   ]
  },
  {
   "cell_type": "code",
   "execution_count": null,
   "id": "af1ba678",
   "metadata": {},
   "outputs": [],
   "source": [
    "area=[600,800,1000,1200,1400]\n",
    "price=[15,18,25,35,40]\n"
   ]
  },
  {
   "cell_type": "code",
   "execution_count": null,
   "id": "68794b07",
   "metadata": {},
   "outputs": [],
   "source": [
    "plt.figure(figsize=(6,6))      # figsize= (10,10)\n",
    "plt.plot(area,price)\n",
    "plt.grid(True)\n",
    "plt.show()"
   ]
  },
  {
   "cell_type": "code",
   "execution_count": null,
   "id": "917ec913",
   "metadata": {},
   "outputs": [],
   "source": [
    "plt.figure(figsize=(6,6))      \n",
    "plt.plot(area,price)\n",
    "plt.title(\"Area vs Price\")\n",
    "plt.xlabel(\"Area in sq ft\")\n",
    "plt.ylabel(\"Price in Lakh\")\n",
    "plt.grid(True)\n",
    "plt.show()"
   ]
  },
  {
   "cell_type": "markdown",
   "id": "ae6fb17e",
   "metadata": {},
   "source": [
    "### xlim and ylim to define x and y range"
   ]
  },
  {
   "cell_type": "code",
   "execution_count": null,
   "id": "d2a2c9ec",
   "metadata": {},
   "outputs": [],
   "source": [
    "plt.figure(figsize=(6,6))      \n",
    "plt.plot(area,price)\n",
    "plt.title(\"Area vs Price\")\n",
    "plt.xlabel(\"Area in sq ft\")\n",
    "plt.ylabel(\"Price in Lakh\")\n",
    "plt.xlim((400,2000))\n",
    "plt.ylim((10,50))\n",
    "plt.grid(True)\n",
    "plt.show()"
   ]
  },
  {
   "cell_type": "markdown",
   "id": "17ac770a",
   "metadata": {},
   "source": [
    "### xticks and yticks to rotate labels"
   ]
  },
  {
   "cell_type": "code",
   "execution_count": null,
   "id": "7452caf8",
   "metadata": {},
   "outputs": [],
   "source": [
    "plt.figure(figsize=(6,6))      \n",
    "plt.plot(area,price)\n",
    "plt.title(\"Area vs Price\")\n",
    "plt.xlabel(\"Area in sq ft\")\n",
    "plt.ylabel(\"Price in Lakh\")\n",
    "plt.xticks(rotation=45)\n",
    "plt.yticks(rotation=90)\n",
    "plt.grid(True)\n",
    "plt.show()"
   ]
  },
  {
   "cell_type": "markdown",
   "id": "2356c25f",
   "metadata": {},
   "source": [
    "### Multiple Plot "
   ]
  },
  {
   "cell_type": "code",
   "execution_count": null,
   "id": "fd39efdd",
   "metadata": {},
   "outputs": [],
   "source": [
    "x=np.arange(1,20)\n",
    "y1=np.sqrt(x)\n",
    "y2=np.log(x)\n",
    "\n",
    "plt.figure(figsize=(6,6))\n",
    "plt.plot(x,y1,color=\"red\",label=\"sqrt\")\n",
    "plt.plot(x,y2,color=\"purple\",label=\"log\")\n",
    "plt.grid(True)\n",
    "plt.show()"
   ]
  },
  {
   "cell_type": "code",
   "execution_count": null,
   "id": "6146344d",
   "metadata": {},
   "outputs": [],
   "source": [
    "x=np.arange(1,20)\n",
    "y1=np.sqrt(x)\n",
    "y2=np.log(x)\n",
    "\n",
    "plt.figure(figsize=(6,6))\n",
    "plt.plot(x,y1,color=\"red\",label=\"sqrt\")\n",
    "plt.plot(x,y2,color=\"purple\",label=\"log\")\n",
    "plt.legend()                   #............legend for use to know which color line use for which axis\n",
    "plt.grid(True)\n",
    "plt.show()"
   ]
  },
  {
   "cell_type": "markdown",
   "id": "b55a9407",
   "metadata": {},
   "source": [
    "# Histogram "
   ]
  },
  {
   "cell_type": "markdown",
   "id": "1856541d",
   "metadata": {},
   "source": [
    "###   work on numrical data only"
   ]
  },
  {
   "cell_type": "code",
   "execution_count": 37,
   "id": "3c969088",
   "metadata": {},
   "outputs": [
    {
     "data": {
      "text/html": [
       "<div>\n",
       "<style scoped>\n",
       "    .dataframe tbody tr th:only-of-type {\n",
       "        vertical-align: middle;\n",
       "    }\n",
       "\n",
       "    .dataframe tbody tr th {\n",
       "        vertical-align: top;\n",
       "    }\n",
       "\n",
       "    .dataframe thead th {\n",
       "        text-align: right;\n",
       "    }\n",
       "</style>\n",
       "<table border=\"1\" class=\"dataframe\">\n",
       "  <thead>\n",
       "    <tr style=\"text-align: right;\">\n",
       "      <th></th>\n",
       "      <th>symboling</th>\n",
       "      <th>normalized-losses</th>\n",
       "      <th>make</th>\n",
       "      <th>fuel-type</th>\n",
       "      <th>body-style</th>\n",
       "      <th>drive-wheels</th>\n",
       "      <th>engine-location</th>\n",
       "      <th>width</th>\n",
       "      <th>height</th>\n",
       "      <th>engine-type</th>\n",
       "      <th>engine-size</th>\n",
       "      <th>horsepower</th>\n",
       "      <th>city-mpg</th>\n",
       "      <th>highway-mpg</th>\n",
       "      <th>price</th>\n",
       "    </tr>\n",
       "  </thead>\n",
       "  <tbody>\n",
       "    <tr>\n",
       "      <th>0</th>\n",
       "      <td>3</td>\n",
       "      <td>?</td>\n",
       "      <td>alfa-romero</td>\n",
       "      <td>gas</td>\n",
       "      <td>convertible</td>\n",
       "      <td>rwd</td>\n",
       "      <td>front</td>\n",
       "      <td>64.1</td>\n",
       "      <td>48.8</td>\n",
       "      <td>dohc</td>\n",
       "      <td>130</td>\n",
       "      <td>111</td>\n",
       "      <td>21</td>\n",
       "      <td>27</td>\n",
       "      <td>13495</td>\n",
       "    </tr>\n",
       "    <tr>\n",
       "      <th>1</th>\n",
       "      <td>3</td>\n",
       "      <td>?</td>\n",
       "      <td>alfa-romero</td>\n",
       "      <td>gas</td>\n",
       "      <td>convertible</td>\n",
       "      <td>rwd</td>\n",
       "      <td>front</td>\n",
       "      <td>64.1</td>\n",
       "      <td>48.8</td>\n",
       "      <td>dohc</td>\n",
       "      <td>130</td>\n",
       "      <td>111</td>\n",
       "      <td>21</td>\n",
       "      <td>27</td>\n",
       "      <td>16500</td>\n",
       "    </tr>\n",
       "    <tr>\n",
       "      <th>2</th>\n",
       "      <td>1</td>\n",
       "      <td>?</td>\n",
       "      <td>alfa-romero</td>\n",
       "      <td>gas</td>\n",
       "      <td>hatchback</td>\n",
       "      <td>rwd</td>\n",
       "      <td>front</td>\n",
       "      <td>65.5</td>\n",
       "      <td>52.4</td>\n",
       "      <td>ohcv</td>\n",
       "      <td>152</td>\n",
       "      <td>154</td>\n",
       "      <td>19</td>\n",
       "      <td>26</td>\n",
       "      <td>16500</td>\n",
       "    </tr>\n",
       "    <tr>\n",
       "      <th>3</th>\n",
       "      <td>2</td>\n",
       "      <td>164</td>\n",
       "      <td>audi</td>\n",
       "      <td>gas</td>\n",
       "      <td>sedan</td>\n",
       "      <td>fwd</td>\n",
       "      <td>front</td>\n",
       "      <td>66.2</td>\n",
       "      <td>54.3</td>\n",
       "      <td>ohc</td>\n",
       "      <td>109</td>\n",
       "      <td>102</td>\n",
       "      <td>24</td>\n",
       "      <td>30</td>\n",
       "      <td>13950</td>\n",
       "    </tr>\n",
       "    <tr>\n",
       "      <th>4</th>\n",
       "      <td>2</td>\n",
       "      <td>164</td>\n",
       "      <td>audi</td>\n",
       "      <td>gas</td>\n",
       "      <td>sedan</td>\n",
       "      <td>4wd</td>\n",
       "      <td>front</td>\n",
       "      <td>66.4</td>\n",
       "      <td>54.3</td>\n",
       "      <td>ohc</td>\n",
       "      <td>136</td>\n",
       "      <td>115</td>\n",
       "      <td>18</td>\n",
       "      <td>22</td>\n",
       "      <td>17450</td>\n",
       "    </tr>\n",
       "    <tr>\n",
       "      <th>...</th>\n",
       "      <td>...</td>\n",
       "      <td>...</td>\n",
       "      <td>...</td>\n",
       "      <td>...</td>\n",
       "      <td>...</td>\n",
       "      <td>...</td>\n",
       "      <td>...</td>\n",
       "      <td>...</td>\n",
       "      <td>...</td>\n",
       "      <td>...</td>\n",
       "      <td>...</td>\n",
       "      <td>...</td>\n",
       "      <td>...</td>\n",
       "      <td>...</td>\n",
       "      <td>...</td>\n",
       "    </tr>\n",
       "    <tr>\n",
       "      <th>200</th>\n",
       "      <td>-1</td>\n",
       "      <td>95</td>\n",
       "      <td>volvo</td>\n",
       "      <td>gas</td>\n",
       "      <td>sedan</td>\n",
       "      <td>rwd</td>\n",
       "      <td>front</td>\n",
       "      <td>68.9</td>\n",
       "      <td>55.5</td>\n",
       "      <td>ohc</td>\n",
       "      <td>141</td>\n",
       "      <td>114</td>\n",
       "      <td>23</td>\n",
       "      <td>28</td>\n",
       "      <td>16845</td>\n",
       "    </tr>\n",
       "    <tr>\n",
       "      <th>201</th>\n",
       "      <td>-1</td>\n",
       "      <td>95</td>\n",
       "      <td>volvo</td>\n",
       "      <td>gas</td>\n",
       "      <td>sedan</td>\n",
       "      <td>rwd</td>\n",
       "      <td>front</td>\n",
       "      <td>68.8</td>\n",
       "      <td>55.5</td>\n",
       "      <td>ohc</td>\n",
       "      <td>141</td>\n",
       "      <td>160</td>\n",
       "      <td>19</td>\n",
       "      <td>25</td>\n",
       "      <td>19045</td>\n",
       "    </tr>\n",
       "    <tr>\n",
       "      <th>202</th>\n",
       "      <td>-1</td>\n",
       "      <td>95</td>\n",
       "      <td>volvo</td>\n",
       "      <td>gas</td>\n",
       "      <td>sedan</td>\n",
       "      <td>rwd</td>\n",
       "      <td>front</td>\n",
       "      <td>68.9</td>\n",
       "      <td>55.5</td>\n",
       "      <td>ohcv</td>\n",
       "      <td>173</td>\n",
       "      <td>134</td>\n",
       "      <td>18</td>\n",
       "      <td>23</td>\n",
       "      <td>21485</td>\n",
       "    </tr>\n",
       "    <tr>\n",
       "      <th>203</th>\n",
       "      <td>-1</td>\n",
       "      <td>95</td>\n",
       "      <td>volvo</td>\n",
       "      <td>diesel</td>\n",
       "      <td>sedan</td>\n",
       "      <td>rwd</td>\n",
       "      <td>front</td>\n",
       "      <td>68.9</td>\n",
       "      <td>55.5</td>\n",
       "      <td>ohc</td>\n",
       "      <td>145</td>\n",
       "      <td>106</td>\n",
       "      <td>26</td>\n",
       "      <td>27</td>\n",
       "      <td>22470</td>\n",
       "    </tr>\n",
       "    <tr>\n",
       "      <th>204</th>\n",
       "      <td>-1</td>\n",
       "      <td>95</td>\n",
       "      <td>volvo</td>\n",
       "      <td>gas</td>\n",
       "      <td>sedan</td>\n",
       "      <td>rwd</td>\n",
       "      <td>front</td>\n",
       "      <td>68.9</td>\n",
       "      <td>55.5</td>\n",
       "      <td>ohc</td>\n",
       "      <td>141</td>\n",
       "      <td>114</td>\n",
       "      <td>19</td>\n",
       "      <td>25</td>\n",
       "      <td>22625</td>\n",
       "    </tr>\n",
       "  </tbody>\n",
       "</table>\n",
       "<p>205 rows × 15 columns</p>\n",
       "</div>"
      ],
      "text/plain": [
       "     symboling normalized-losses         make fuel-type   body-style  \\\n",
       "0            3                 ?  alfa-romero       gas  convertible   \n",
       "1            3                 ?  alfa-romero       gas  convertible   \n",
       "2            1                 ?  alfa-romero       gas    hatchback   \n",
       "3            2               164         audi       gas        sedan   \n",
       "4            2               164         audi       gas        sedan   \n",
       "..         ...               ...          ...       ...          ...   \n",
       "200         -1                95        volvo       gas        sedan   \n",
       "201         -1                95        volvo       gas        sedan   \n",
       "202         -1                95        volvo       gas        sedan   \n",
       "203         -1                95        volvo    diesel        sedan   \n",
       "204         -1                95        volvo       gas        sedan   \n",
       "\n",
       "    drive-wheels engine-location  width  height engine-type  engine-size  \\\n",
       "0            rwd           front   64.1    48.8        dohc          130   \n",
       "1            rwd           front   64.1    48.8        dohc          130   \n",
       "2            rwd           front   65.5    52.4        ohcv          152   \n",
       "3            fwd           front   66.2    54.3         ohc          109   \n",
       "4            4wd           front   66.4    54.3         ohc          136   \n",
       "..           ...             ...    ...     ...         ...          ...   \n",
       "200          rwd           front   68.9    55.5         ohc          141   \n",
       "201          rwd           front   68.8    55.5         ohc          141   \n",
       "202          rwd           front   68.9    55.5        ohcv          173   \n",
       "203          rwd           front   68.9    55.5         ohc          145   \n",
       "204          rwd           front   68.9    55.5         ohc          141   \n",
       "\n",
       "    horsepower  city-mpg  highway-mpg  price  \n",
       "0          111        21           27  13495  \n",
       "1          111        21           27  16500  \n",
       "2          154        19           26  16500  \n",
       "3          102        24           30  13950  \n",
       "4          115        18           22  17450  \n",
       "..         ...       ...          ...    ...  \n",
       "200        114        23           28  16845  \n",
       "201        160        19           25  19045  \n",
       "202        134        18           23  21485  \n",
       "203        106        26           27  22470  \n",
       "204        114        19           25  22625  \n",
       "\n",
       "[205 rows x 15 columns]"
      ]
     },
     "execution_count": 37,
     "metadata": {},
     "output_type": "execute_result"
    }
   ],
   "source": [
    "import pandas as pd\n",
    "import numpy as np\n",
    "df=pd.read_csv(r\"C:\\Users\\admin\\Downloads\\cars (7).csv\")\n",
    "df"
   ]
  },
  {
   "cell_type": "code",
   "execution_count": 38,
   "id": "867d8742",
   "metadata": {},
   "outputs": [
    {
     "name": "stdout",
     "output_type": "stream",
     "text": [
      "<class 'pandas.core.frame.DataFrame'>\n",
      "RangeIndex: 205 entries, 0 to 204\n",
      "Data columns (total 15 columns):\n",
      " #   Column             Non-Null Count  Dtype  \n",
      "---  ------             --------------  -----  \n",
      " 0   symboling          205 non-null    int64  \n",
      " 1   normalized-losses  205 non-null    object \n",
      " 2   make               205 non-null    object \n",
      " 3   fuel-type          205 non-null    object \n",
      " 4   body-style         205 non-null    object \n",
      " 5   drive-wheels       205 non-null    object \n",
      " 6   engine-location    205 non-null    object \n",
      " 7   width              205 non-null    float64\n",
      " 8   height             205 non-null    float64\n",
      " 9   engine-type        205 non-null    object \n",
      " 10  engine-size        205 non-null    int64  \n",
      " 11  horsepower         205 non-null    object \n",
      " 12  city-mpg           205 non-null    int64  \n",
      " 13  highway-mpg        205 non-null    int64  \n",
      " 14  price              205 non-null    int64  \n",
      "dtypes: float64(2), int64(5), object(8)\n",
      "memory usage: 24.1+ KB\n"
     ]
    }
   ],
   "source": [
    "df.info()"
   ]
  },
  {
   "cell_type": "code",
   "execution_count": 39,
   "id": "fde5e495",
   "metadata": {},
   "outputs": [
    {
     "data": {
      "text/html": [
       "<div>\n",
       "<style scoped>\n",
       "    .dataframe tbody tr th:only-of-type {\n",
       "        vertical-align: middle;\n",
       "    }\n",
       "\n",
       "    .dataframe tbody tr th {\n",
       "        vertical-align: top;\n",
       "    }\n",
       "\n",
       "    .dataframe thead th {\n",
       "        text-align: right;\n",
       "    }\n",
       "</style>\n",
       "<table border=\"1\" class=\"dataframe\">\n",
       "  <thead>\n",
       "    <tr style=\"text-align: right;\">\n",
       "      <th></th>\n",
       "      <th>symboling</th>\n",
       "      <th>width</th>\n",
       "      <th>height</th>\n",
       "      <th>engine-size</th>\n",
       "      <th>city-mpg</th>\n",
       "      <th>highway-mpg</th>\n",
       "      <th>price</th>\n",
       "    </tr>\n",
       "  </thead>\n",
       "  <tbody>\n",
       "    <tr>\n",
       "      <th>count</th>\n",
       "      <td>205.000000</td>\n",
       "      <td>205.000000</td>\n",
       "      <td>205.000000</td>\n",
       "      <td>205.000000</td>\n",
       "      <td>205.000000</td>\n",
       "      <td>205.000000</td>\n",
       "      <td>205.000000</td>\n",
       "    </tr>\n",
       "    <tr>\n",
       "      <th>mean</th>\n",
       "      <td>0.834146</td>\n",
       "      <td>65.907805</td>\n",
       "      <td>53.724878</td>\n",
       "      <td>126.907317</td>\n",
       "      <td>25.219512</td>\n",
       "      <td>30.751220</td>\n",
       "      <td>13227.478049</td>\n",
       "    </tr>\n",
       "    <tr>\n",
       "      <th>std</th>\n",
       "      <td>1.245307</td>\n",
       "      <td>2.145204</td>\n",
       "      <td>2.443522</td>\n",
       "      <td>41.642693</td>\n",
       "      <td>6.542142</td>\n",
       "      <td>6.886443</td>\n",
       "      <td>7902.651615</td>\n",
       "    </tr>\n",
       "    <tr>\n",
       "      <th>min</th>\n",
       "      <td>-2.000000</td>\n",
       "      <td>60.300000</td>\n",
       "      <td>47.800000</td>\n",
       "      <td>61.000000</td>\n",
       "      <td>13.000000</td>\n",
       "      <td>16.000000</td>\n",
       "      <td>5118.000000</td>\n",
       "    </tr>\n",
       "    <tr>\n",
       "      <th>25%</th>\n",
       "      <td>0.000000</td>\n",
       "      <td>64.100000</td>\n",
       "      <td>52.000000</td>\n",
       "      <td>97.000000</td>\n",
       "      <td>19.000000</td>\n",
       "      <td>25.000000</td>\n",
       "      <td>7788.000000</td>\n",
       "    </tr>\n",
       "    <tr>\n",
       "      <th>50%</th>\n",
       "      <td>1.000000</td>\n",
       "      <td>65.500000</td>\n",
       "      <td>54.100000</td>\n",
       "      <td>120.000000</td>\n",
       "      <td>24.000000</td>\n",
       "      <td>30.000000</td>\n",
       "      <td>10345.000000</td>\n",
       "    </tr>\n",
       "    <tr>\n",
       "      <th>75%</th>\n",
       "      <td>2.000000</td>\n",
       "      <td>66.900000</td>\n",
       "      <td>55.500000</td>\n",
       "      <td>141.000000</td>\n",
       "      <td>30.000000</td>\n",
       "      <td>34.000000</td>\n",
       "      <td>16500.000000</td>\n",
       "    </tr>\n",
       "    <tr>\n",
       "      <th>max</th>\n",
       "      <td>3.000000</td>\n",
       "      <td>72.300000</td>\n",
       "      <td>59.800000</td>\n",
       "      <td>326.000000</td>\n",
       "      <td>49.000000</td>\n",
       "      <td>54.000000</td>\n",
       "      <td>45400.000000</td>\n",
       "    </tr>\n",
       "  </tbody>\n",
       "</table>\n",
       "</div>"
      ],
      "text/plain": [
       "        symboling       width      height  engine-size    city-mpg  \\\n",
       "count  205.000000  205.000000  205.000000   205.000000  205.000000   \n",
       "mean     0.834146   65.907805   53.724878   126.907317   25.219512   \n",
       "std      1.245307    2.145204    2.443522    41.642693    6.542142   \n",
       "min     -2.000000   60.300000   47.800000    61.000000   13.000000   \n",
       "25%      0.000000   64.100000   52.000000    97.000000   19.000000   \n",
       "50%      1.000000   65.500000   54.100000   120.000000   24.000000   \n",
       "75%      2.000000   66.900000   55.500000   141.000000   30.000000   \n",
       "max      3.000000   72.300000   59.800000   326.000000   49.000000   \n",
       "\n",
       "       highway-mpg         price  \n",
       "count   205.000000    205.000000  \n",
       "mean     30.751220  13227.478049  \n",
       "std       6.886443   7902.651615  \n",
       "min      16.000000   5118.000000  \n",
       "25%      25.000000   7788.000000  \n",
       "50%      30.000000  10345.000000  \n",
       "75%      34.000000  16500.000000  \n",
       "max      54.000000  45400.000000  "
      ]
     },
     "execution_count": 39,
     "metadata": {},
     "output_type": "execute_result"
    }
   ],
   "source": [
    "df.describe()"
   ]
  },
  {
   "cell_type": "code",
   "execution_count": 40,
   "id": "792d1132",
   "metadata": {},
   "outputs": [
    {
     "data": {
      "image/png": "[encoded data removed]",
      "text/plain": [
       "<Figure size 504x504 with 1 Axes>"
      ]
     },
     "metadata": {
      "needs_background": "light"
     },
     "output_type": "display_data"
    }
   ],
   "source": [
    "plt.figure(figsize=(7,7))\n",
    "plt.hist(df[\"width\"],bins=10)\n",
    "plt.title(\"Width Frequency Distribution\")\n",
    "plt.xlabel(\"Width\")\n",
    "plt.ylabel(\"Frequency\")\n",
    "plt.show()"
   ]
  },
  {
   "cell_type": "code",
   "execution_count": 41,
   "id": "ce58ea29",
   "metadata": {},
   "outputs": [
    {
     "data": {
      "image/png": "[encoded data removed]",
      "text/plain": [
       "<Figure size 504x504 with 1 Axes>"
      ]
     },
     "metadata": {
      "needs_background": "light"
     },
     "output_type": "display_data"
    }
   ],
   "source": [
    "plt.figure(figsize=(7,7))\n",
    "#plt.hist(df[\"width\"],bins=10)\n",
    "df[\"width\"].hist(bins=10)                 #................using pandas \n",
    "plt.title(\"Width Frequency Distribution\")\n",
    "plt.xlabel(\"Width\")\n",
    "plt.ylabel(\"Frequency\")\n",
    "plt.show()"
   ]
  },
  {
   "cell_type": "code",
   "execution_count": 42,
   "id": "e01feea4",
   "metadata": {},
   "outputs": [
    {
     "data": {
      "image/png": "[encoded data removed]",
      "text/plain": [
       "<Figure size 360x360 with 1 Axes>"
      ]
     },
     "metadata": {
      "needs_background": "light"
     },
     "output_type": "display_data"
    }
   ],
   "source": [
    "#plot width mean and median\n",
    "\n",
    "w_mean=df[\"width\"].mean()\n",
    "w_median=df[\"width\"].median()\n",
    "\n",
    "plt.figure(figsize=(5,5))\n",
    "df[\"width\"].hist(bins=10)\n",
    "plt.title(\"Width Frequency Distribution\")\n",
    "plt.axvline(w_mean,color=\"red\")\n",
    "plt.axvline(w_median,color=\"black\")\n",
    "plt.xlabel(\"Width\")\n",
    "plt.ylabel(\"Frequency\")\n",
    "plt.show()"
   ]
  },
  {
   "cell_type": "markdown",
   "id": "fb4549a3",
   "metadata": {},
   "source": [
    "# Bargraph"
   ]
  },
  {
   "cell_type": "markdown",
   "id": "2e87263f",
   "metadata": {},
   "source": [
    "# 19-06-2023"
   ]
  },
  {
   "cell_type": "code",
   "execution_count": 43,
   "id": "407805c1",
   "metadata": {},
   "outputs": [],
   "source": [
    "# Bargraph = categorial data"
   ]
  },
  {
   "cell_type": "code",
   "execution_count": 44,
   "id": "a7d81b2a",
   "metadata": {},
   "outputs": [],
   "source": [
    "import pandas as pd\n",
    "import numpy as np\n",
    "import matplotlib.pyplot as plt"
   ]
  },
  {
   "cell_type": "code",
   "execution_count": 45,
   "id": "f93a0ca7",
   "metadata": {},
   "outputs": [
    {
     "data": {
      "image/png": "[encoded data removed]",
      "text/plain": [
       "<Figure size 432x288 with 1 Axes>"
      ]
     },
     "metadata": {
      "needs_background": "light"
     },
     "output_type": "display_data"
    }
   ],
   "source": [
    "subjects=[\"maths\",\"english\",\"history\",\"science\",\"social\",\"computer\"]\n",
    "marks=[70,60,50,30,78,67]\n",
    "plt.bar(subjects,marks)\n",
    "plt.show()"
   ]
  },
  {
   "cell_type": "code",
   "execution_count": 46,
   "id": "bd601373",
   "metadata": {},
   "outputs": [
    {
     "data": {
      "text/html": [
       "<div>\n",
       "<style scoped>\n",
       "    .dataframe tbody tr th:only-of-type {\n",
       "        vertical-align: middle;\n",
       "    }\n",
       "\n",
       "    .dataframe tbody tr th {\n",
       "        vertical-align: top;\n",
       "    }\n",
       "\n",
       "    .dataframe thead th {\n",
       "        text-align: right;\n",
       "    }\n",
       "</style>\n",
       "<table border=\"1\" class=\"dataframe\">\n",
       "  <thead>\n",
       "    <tr style=\"text-align: right;\">\n",
       "      <th></th>\n",
       "      <th>symboling</th>\n",
       "      <th>normalized-losses</th>\n",
       "      <th>make</th>\n",
       "      <th>fuel-type</th>\n",
       "      <th>body-style</th>\n",
       "      <th>drive-wheels</th>\n",
       "      <th>engine-location</th>\n",
       "      <th>width</th>\n",
       "      <th>height</th>\n",
       "      <th>engine-type</th>\n",
       "      <th>engine-size</th>\n",
       "      <th>horsepower</th>\n",
       "      <th>city-mpg</th>\n",
       "      <th>highway-mpg</th>\n",
       "      <th>price</th>\n",
       "    </tr>\n",
       "  </thead>\n",
       "  <tbody>\n",
       "    <tr>\n",
       "      <th>0</th>\n",
       "      <td>3</td>\n",
       "      <td>?</td>\n",
       "      <td>alfa-romero</td>\n",
       "      <td>gas</td>\n",
       "      <td>convertible</td>\n",
       "      <td>rwd</td>\n",
       "      <td>front</td>\n",
       "      <td>64.1</td>\n",
       "      <td>48.8</td>\n",
       "      <td>dohc</td>\n",
       "      <td>130</td>\n",
       "      <td>111</td>\n",
       "      <td>21</td>\n",
       "      <td>27</td>\n",
       "      <td>13495</td>\n",
       "    </tr>\n",
       "    <tr>\n",
       "      <th>1</th>\n",
       "      <td>3</td>\n",
       "      <td>?</td>\n",
       "      <td>alfa-romero</td>\n",
       "      <td>gas</td>\n",
       "      <td>convertible</td>\n",
       "      <td>rwd</td>\n",
       "      <td>front</td>\n",
       "      <td>64.1</td>\n",
       "      <td>48.8</td>\n",
       "      <td>dohc</td>\n",
       "      <td>130</td>\n",
       "      <td>111</td>\n",
       "      <td>21</td>\n",
       "      <td>27</td>\n",
       "      <td>16500</td>\n",
       "    </tr>\n",
       "    <tr>\n",
       "      <th>2</th>\n",
       "      <td>1</td>\n",
       "      <td>?</td>\n",
       "      <td>alfa-romero</td>\n",
       "      <td>gas</td>\n",
       "      <td>hatchback</td>\n",
       "      <td>rwd</td>\n",
       "      <td>front</td>\n",
       "      <td>65.5</td>\n",
       "      <td>52.4</td>\n",
       "      <td>ohcv</td>\n",
       "      <td>152</td>\n",
       "      <td>154</td>\n",
       "      <td>19</td>\n",
       "      <td>26</td>\n",
       "      <td>16500</td>\n",
       "    </tr>\n",
       "    <tr>\n",
       "      <th>3</th>\n",
       "      <td>2</td>\n",
       "      <td>164</td>\n",
       "      <td>audi</td>\n",
       "      <td>gas</td>\n",
       "      <td>sedan</td>\n",
       "      <td>fwd</td>\n",
       "      <td>front</td>\n",
       "      <td>66.2</td>\n",
       "      <td>54.3</td>\n",
       "      <td>ohc</td>\n",
       "      <td>109</td>\n",
       "      <td>102</td>\n",
       "      <td>24</td>\n",
       "      <td>30</td>\n",
       "      <td>13950</td>\n",
       "    </tr>\n",
       "    <tr>\n",
       "      <th>4</th>\n",
       "      <td>2</td>\n",
       "      <td>164</td>\n",
       "      <td>audi</td>\n",
       "      <td>gas</td>\n",
       "      <td>sedan</td>\n",
       "      <td>4wd</td>\n",
       "      <td>front</td>\n",
       "      <td>66.4</td>\n",
       "      <td>54.3</td>\n",
       "      <td>ohc</td>\n",
       "      <td>136</td>\n",
       "      <td>115</td>\n",
       "      <td>18</td>\n",
       "      <td>22</td>\n",
       "      <td>17450</td>\n",
       "    </tr>\n",
       "  </tbody>\n",
       "</table>\n",
       "</div>"
      ],
      "text/plain": [
       "   symboling normalized-losses         make fuel-type   body-style  \\\n",
       "0          3                 ?  alfa-romero       gas  convertible   \n",
       "1          3                 ?  alfa-romero       gas  convertible   \n",
       "2          1                 ?  alfa-romero       gas    hatchback   \n",
       "3          2               164         audi       gas        sedan   \n",
       "4          2               164         audi       gas        sedan   \n",
       "\n",
       "  drive-wheels engine-location  width  height engine-type  engine-size  \\\n",
       "0          rwd           front   64.1    48.8        dohc          130   \n",
       "1          rwd           front   64.1    48.8        dohc          130   \n",
       "2          rwd           front   65.5    52.4        ohcv          152   \n",
       "3          fwd           front   66.2    54.3         ohc          109   \n",
       "4          4wd           front   66.4    54.3         ohc          136   \n",
       "\n",
       "  horsepower  city-mpg  highway-mpg  price  \n",
       "0        111        21           27  13495  \n",
       "1        111        21           27  16500  \n",
       "2        154        19           26  16500  \n",
       "3        102        24           30  13950  \n",
       "4        115        18           22  17450  "
      ]
     },
     "execution_count": 46,
     "metadata": {},
     "output_type": "execute_result"
    }
   ],
   "source": [
    "df.head()"
   ]
  },
  {
   "cell_type": "code",
   "execution_count": 47,
   "id": "5ebab5a4",
   "metadata": {},
   "outputs": [
    {
     "data": {
      "text/plain": [
       "['alfa-romero',\n",
       " 'alfa-romero',\n",
       " 'alfa-romero',\n",
       " 'audi',\n",
       " 'audi',\n",
       " 'audi',\n",
       " 'audi',\n",
       " 'audi',\n",
       " 'audi',\n",
       " 'audi',\n",
       " 'bmw',\n",
       " 'bmw',\n",
       " 'bmw',\n",
       " 'bmw',\n",
       " 'bmw',\n",
       " 'bmw',\n",
       " 'bmw',\n",
       " 'bmw',\n",
       " 'chevrolet',\n",
       " 'chevrolet',\n",
       " 'chevrolet',\n",
       " 'dodge',\n",
       " 'dodge',\n",
       " 'dodge',\n",
       " 'dodge',\n",
       " 'dodge',\n",
       " 'dodge',\n",
       " 'dodge',\n",
       " 'dodge',\n",
       " 'dodge',\n",
       " 'honda',\n",
       " 'honda',\n",
       " 'honda',\n",
       " 'honda',\n",
       " 'honda',\n",
       " 'honda',\n",
       " 'honda',\n",
       " 'honda',\n",
       " 'honda',\n",
       " 'honda',\n",
       " 'honda',\n",
       " 'honda',\n",
       " 'honda',\n",
       " 'isuzu',\n",
       " 'isuzu',\n",
       " 'isuzu',\n",
       " 'isuzu',\n",
       " 'jaguar',\n",
       " 'jaguar',\n",
       " 'jaguar',\n",
       " 'mazda',\n",
       " 'mazda',\n",
       " 'mazda',\n",
       " 'mazda',\n",
       " 'mazda',\n",
       " 'mazda',\n",
       " 'mazda',\n",
       " 'mazda',\n",
       " 'mazda',\n",
       " 'mazda',\n",
       " 'mazda',\n",
       " 'mazda',\n",
       " 'mazda',\n",
       " 'mazda',\n",
       " 'mazda',\n",
       " 'mazda',\n",
       " 'mazda',\n",
       " 'mercedes-benz',\n",
       " 'mercedes-benz',\n",
       " 'mercedes-benz',\n",
       " 'mercedes-benz',\n",
       " 'mercedes-benz',\n",
       " 'mercedes-benz',\n",
       " 'mercedes-benz',\n",
       " 'mercedes-benz',\n",
       " 'mercury',\n",
       " 'mitsubishi',\n",
       " 'mitsubishi',\n",
       " 'mitsubishi',\n",
       " 'mitsubishi',\n",
       " 'mitsubishi',\n",
       " 'mitsubishi',\n",
       " 'mitsubishi',\n",
       " 'mitsubishi',\n",
       " 'mitsubishi',\n",
       " 'mitsubishi',\n",
       " 'mitsubishi',\n",
       " 'mitsubishi',\n",
       " 'mitsubishi',\n",
       " 'nissan',\n",
       " 'nissan',\n",
       " 'nissan',\n",
       " 'nissan',\n",
       " 'nissan',\n",
       " 'nissan',\n",
       " 'nissan',\n",
       " 'nissan',\n",
       " 'nissan',\n",
       " 'nissan',\n",
       " 'nissan',\n",
       " 'nissan',\n",
       " 'nissan',\n",
       " 'nissan',\n",
       " 'nissan',\n",
       " 'nissan',\n",
       " 'nissan',\n",
       " 'nissan',\n",
       " 'peugot',\n",
       " 'peugot',\n",
       " 'peugot',\n",
       " 'peugot',\n",
       " 'peugot',\n",
       " 'peugot',\n",
       " 'peugot',\n",
       " 'peugot',\n",
       " 'peugot',\n",
       " 'peugot',\n",
       " 'peugot',\n",
       " 'plymouth',\n",
       " 'plymouth',\n",
       " 'plymouth',\n",
       " 'plymouth',\n",
       " 'plymouth',\n",
       " 'plymouth',\n",
       " 'plymouth',\n",
       " 'porsche',\n",
       " 'porsche',\n",
       " 'porsche',\n",
       " 'porsche',\n",
       " 'porsche',\n",
       " 'renault',\n",
       " 'renault',\n",
       " 'saab',\n",
       " 'saab',\n",
       " 'saab',\n",
       " 'saab',\n",
       " 'saab',\n",
       " 'saab',\n",
       " 'subaru',\n",
       " 'subaru',\n",
       " 'subaru',\n",
       " 'subaru',\n",
       " 'subaru',\n",
       " 'subaru',\n",
       " 'subaru',\n",
       " 'subaru',\n",
       " 'subaru',\n",
       " 'subaru',\n",
       " 'subaru',\n",
       " 'subaru',\n",
       " 'toyota',\n",
       " 'toyota',\n",
       " 'toyota',\n",
       " 'toyota',\n",
       " 'toyota',\n",
       " 'toyota',\n",
       " 'toyota',\n",
       " 'toyota',\n",
       " 'toyota',\n",
       " 'toyota',\n",
       " 'toyota',\n",
       " 'toyota',\n",
       " 'toyota',\n",
       " 'toyota',\n",
       " 'toyota',\n",
       " 'toyota',\n",
       " 'toyota',\n",
       " 'toyota',\n",
       " 'toyota',\n",
       " 'toyota',\n",
       " 'toyota',\n",
       " 'toyota',\n",
       " 'toyota',\n",
       " 'toyota',\n",
       " 'toyota',\n",
       " 'toyota',\n",
       " 'toyota',\n",
       " 'toyota',\n",
       " 'toyota',\n",
       " 'toyota',\n",
       " 'toyota',\n",
       " 'toyota',\n",
       " 'volkswagen',\n",
       " 'volkswagen',\n",
       " 'volkswagen',\n",
       " 'volkswagen',\n",
       " 'volkswagen',\n",
       " 'volkswagen',\n",
       " 'volkswagen',\n",
       " 'volkswagen',\n",
       " 'volkswagen',\n",
       " 'volkswagen',\n",
       " 'volkswagen',\n",
       " 'volkswagen',\n",
       " 'volvo',\n",
       " 'volvo',\n",
       " 'volvo',\n",
       " 'volvo',\n",
       " 'volvo',\n",
       " 'volvo',\n",
       " 'volvo',\n",
       " 'volvo',\n",
       " 'volvo',\n",
       " 'volvo',\n",
       " 'volvo']"
      ]
     },
     "execution_count": 47,
     "metadata": {},
     "output_type": "execute_result"
    }
   ],
   "source": [
    "x=list(df[\"make\"])\n",
    "x"
   ]
  },
  {
   "cell_type": "code",
   "execution_count": 48,
   "id": "5b3840d0",
   "metadata": {},
   "outputs": [
    {
     "name": "stdout",
     "output_type": "stream",
     "text": [
      "['alfa-romero', 'audi', 'bmw', 'chevrolet', 'dodge', 'honda', 'isuzu', 'jaguar', 'mazda', 'mercedes-benz', 'mercury', 'mitsubishi', 'nissan', 'peugot', 'plymouth', 'porsche', 'renault', 'saab', 'subaru', 'toyota', 'volkswagen', 'volvo']\n"
     ]
    }
   ],
   "source": [
    "x=list(df[\"make\"].unique())\n",
    "print(x)"
   ]
  },
  {
   "cell_type": "code",
   "execution_count": 49,
   "id": "151542a0",
   "metadata": {},
   "outputs": [
    {
     "name": "stdout",
     "output_type": "stream",
     "text": [
      "[32, 18, 17, 13, 13, 12, 12, 11, 11, 9, 8, 8, 7, 7, 6, 5, 4, 3, 3, 3, 2, 1]\n"
     ]
    }
   ],
   "source": [
    "y=list(df[\"make\"].value_counts())\n",
    "print(y)"
   ]
  },
  {
   "cell_type": "code",
   "execution_count": 50,
   "id": "db7c1df7",
   "metadata": {},
   "outputs": [
    {
     "data": {
      "image/png": "[encoded data removed]",
      "text/plain": [
       "<Figure size 432x288 with 1 Axes>"
      ]
     },
     "metadata": {
      "needs_background": "light"
     },
     "output_type": "display_data"
    }
   ],
   "source": [
    "plt.bar(x,y)\n",
    "plt.show()"
   ]
  },
  {
   "cell_type": "code",
   "execution_count": 51,
   "id": "331e1353",
   "metadata": {},
   "outputs": [
    {
     "data": {
      "text/plain": [
       "<function matplotlib.pyplot.show(close=None, block=None)>"
      ]
     },
     "execution_count": 51,
     "metadata": {},
     "output_type": "execute_result"
    },
    {
     "data": {
      "image/png": "[encoded data removed]",
      "text/plain": [
       "<Figure size 432x288 with 1 Axes>"
      ]
     },
     "metadata": {
      "needs_background": "light"
     },
     "output_type": "display_data"
    }
   ],
   "source": [
    "plt.bar(x,y)\n",
    "plt.xticks(rotation=90)\n",
    "plt.show"
   ]
  },
  {
   "cell_type": "markdown",
   "id": "ecf3fe89",
   "metadata": {},
   "source": [
    "### Horizontal plot"
   ]
  },
  {
   "cell_type": "code",
   "execution_count": 52,
   "id": "69d491ae",
   "metadata": {},
   "outputs": [
    {
     "data": {
      "image/png": "[encoded data removed]",
      "text/plain": [
       "<Figure size 504x504 with 1 Axes>"
      ]
     },
     "metadata": {
      "needs_background": "light"
     },
     "output_type": "display_data"
    }
   ],
   "source": [
    "plt.figure(figsize=(7,7))\n",
    "df[\"make\"].value_counts().plot(kind=\"barh\")\n",
    "plt.title(\"Make count bar plot\")\n",
    "plt.xlabel(\"Counts\")\n",
    "plt.ylabel(\"Make\")\n",
    "plt.show()\n",
    "           "
   ]
  },
  {
   "cell_type": "markdown",
   "id": "50e66d19",
   "metadata": {},
   "source": [
    "# Pie Chart"
   ]
  },
  {
   "cell_type": "code",
   "execution_count": 53,
   "id": "4d52feb6",
   "metadata": {},
   "outputs": [
    {
     "data": {
      "text/plain": [
       "sedan          96\n",
       "hatchback      70\n",
       "wagon          25\n",
       "hardtop         8\n",
       "convertible     6\n",
       "Name: body-style, dtype: int64"
      ]
     },
     "execution_count": 53,
     "metadata": {},
     "output_type": "execute_result"
    }
   ],
   "source": [
    "df[\"body-style\"].value_counts()"
   ]
  },
  {
   "cell_type": "code",
   "execution_count": 54,
   "id": "4d906f36",
   "metadata": {},
   "outputs": [
    {
     "data": {
      "image/png": "[encoded data removed]",
      "text/plain": [
       "<Figure size 504x504 with 1 Axes>"
      ]
     },
     "metadata": {},
     "output_type": "display_data"
    }
   ],
   "source": [
    "plt.figure(figsize=(7,7))\n",
    "df[\"body-style\"].value_counts().plot.pie()\n",
    "plt.title(\"Body-style count\")\n",
    "plt.show()"
   ]
  },
  {
   "cell_type": "code",
   "execution_count": 55,
   "id": "89d0762b",
   "metadata": {},
   "outputs": [
    {
     "data": {
      "image/png": "[encoded data removed]",
      "text/plain": [
       "<Figure size 504x504 with 1 Axes>"
      ]
     },
     "metadata": {},
     "output_type": "display_data"
    }
   ],
   "source": [
    "plt.figure(figsize=(7,7))\n",
    "df[\"body-style\"].value_counts().plot.pie(autopct=\"%1.1f%%\")\n",
    "plt.title(\"Body-style count\")\n",
    "plt.show()\n",
    "# autopct- to add contribution in %\n",
    "# explode---to move one of wedges of plot"
   ]
  },
  {
   "cell_type": "code",
   "execution_count": 56,
   "id": "5807ac89",
   "metadata": {},
   "outputs": [
    {
     "data": {
      "image/png": "[encoded data removed]",
      "text/plain": [
       "<Figure size 504x504 with 1 Axes>"
      ]
     },
     "metadata": {},
     "output_type": "display_data"
    }
   ],
   "source": [
    "plt.figure(figsize=(7,7))\n",
    "df[\"body-style\"].value_counts().plot.pie(autopct=\"%1.1f%%\",explode=(0,0,0,0,1))\n",
    "plt.title(\"Body-style count\")\n",
    "plt.show()"
   ]
  },
  {
   "cell_type": "code",
   "execution_count": null,
   "id": "5bdc6bae",
   "metadata": {},
   "outputs": [],
   "source": []
  },
  {
   "cell_type": "markdown",
   "id": "d2ec6780",
   "metadata": {},
   "source": [
    "# Scatter plot"
   ]
  },
  {
   "cell_type": "code",
   "execution_count": 57,
   "id": "a70d0f1b",
   "metadata": {},
   "outputs": [
    {
     "data": {
      "text/html": [
       "<div>\n",
       "<style scoped>\n",
       "    .dataframe tbody tr th:only-of-type {\n",
       "        vertical-align: middle;\n",
       "    }\n",
       "\n",
       "    .dataframe tbody tr th {\n",
       "        vertical-align: top;\n",
       "    }\n",
       "\n",
       "    .dataframe thead th {\n",
       "        text-align: right;\n",
       "    }\n",
       "</style>\n",
       "<table border=\"1\" class=\"dataframe\">\n",
       "  <thead>\n",
       "    <tr style=\"text-align: right;\">\n",
       "      <th></th>\n",
       "      <th>symboling</th>\n",
       "      <th>normalized-losses</th>\n",
       "      <th>make</th>\n",
       "      <th>fuel-type</th>\n",
       "      <th>body-style</th>\n",
       "      <th>drive-wheels</th>\n",
       "      <th>engine-location</th>\n",
       "      <th>width</th>\n",
       "      <th>height</th>\n",
       "      <th>engine-type</th>\n",
       "      <th>engine-size</th>\n",
       "      <th>horsepower</th>\n",
       "      <th>city-mpg</th>\n",
       "      <th>highway-mpg</th>\n",
       "      <th>price</th>\n",
       "    </tr>\n",
       "  </thead>\n",
       "  <tbody>\n",
       "    <tr>\n",
       "      <th>0</th>\n",
       "      <td>3</td>\n",
       "      <td>?</td>\n",
       "      <td>alfa-romero</td>\n",
       "      <td>gas</td>\n",
       "      <td>convertible</td>\n",
       "      <td>rwd</td>\n",
       "      <td>front</td>\n",
       "      <td>64.1</td>\n",
       "      <td>48.8</td>\n",
       "      <td>dohc</td>\n",
       "      <td>130</td>\n",
       "      <td>111</td>\n",
       "      <td>21</td>\n",
       "      <td>27</td>\n",
       "      <td>13495</td>\n",
       "    </tr>\n",
       "    <tr>\n",
       "      <th>1</th>\n",
       "      <td>3</td>\n",
       "      <td>?</td>\n",
       "      <td>alfa-romero</td>\n",
       "      <td>gas</td>\n",
       "      <td>convertible</td>\n",
       "      <td>rwd</td>\n",
       "      <td>front</td>\n",
       "      <td>64.1</td>\n",
       "      <td>48.8</td>\n",
       "      <td>dohc</td>\n",
       "      <td>130</td>\n",
       "      <td>111</td>\n",
       "      <td>21</td>\n",
       "      <td>27</td>\n",
       "      <td>16500</td>\n",
       "    </tr>\n",
       "    <tr>\n",
       "      <th>2</th>\n",
       "      <td>1</td>\n",
       "      <td>?</td>\n",
       "      <td>alfa-romero</td>\n",
       "      <td>gas</td>\n",
       "      <td>hatchback</td>\n",
       "      <td>rwd</td>\n",
       "      <td>front</td>\n",
       "      <td>65.5</td>\n",
       "      <td>52.4</td>\n",
       "      <td>ohcv</td>\n",
       "      <td>152</td>\n",
       "      <td>154</td>\n",
       "      <td>19</td>\n",
       "      <td>26</td>\n",
       "      <td>16500</td>\n",
       "    </tr>\n",
       "    <tr>\n",
       "      <th>3</th>\n",
       "      <td>2</td>\n",
       "      <td>164</td>\n",
       "      <td>audi</td>\n",
       "      <td>gas</td>\n",
       "      <td>sedan</td>\n",
       "      <td>fwd</td>\n",
       "      <td>front</td>\n",
       "      <td>66.2</td>\n",
       "      <td>54.3</td>\n",
       "      <td>ohc</td>\n",
       "      <td>109</td>\n",
       "      <td>102</td>\n",
       "      <td>24</td>\n",
       "      <td>30</td>\n",
       "      <td>13950</td>\n",
       "    </tr>\n",
       "    <tr>\n",
       "      <th>4</th>\n",
       "      <td>2</td>\n",
       "      <td>164</td>\n",
       "      <td>audi</td>\n",
       "      <td>gas</td>\n",
       "      <td>sedan</td>\n",
       "      <td>4wd</td>\n",
       "      <td>front</td>\n",
       "      <td>66.4</td>\n",
       "      <td>54.3</td>\n",
       "      <td>ohc</td>\n",
       "      <td>136</td>\n",
       "      <td>115</td>\n",
       "      <td>18</td>\n",
       "      <td>22</td>\n",
       "      <td>17450</td>\n",
       "    </tr>\n",
       "  </tbody>\n",
       "</table>\n",
       "</div>"
      ],
      "text/plain": [
       "   symboling normalized-losses         make fuel-type   body-style  \\\n",
       "0          3                 ?  alfa-romero       gas  convertible   \n",
       "1          3                 ?  alfa-romero       gas  convertible   \n",
       "2          1                 ?  alfa-romero       gas    hatchback   \n",
       "3          2               164         audi       gas        sedan   \n",
       "4          2               164         audi       gas        sedan   \n",
       "\n",
       "  drive-wheels engine-location  width  height engine-type  engine-size  \\\n",
       "0          rwd           front   64.1    48.8        dohc          130   \n",
       "1          rwd           front   64.1    48.8        dohc          130   \n",
       "2          rwd           front   65.5    52.4        ohcv          152   \n",
       "3          fwd           front   66.2    54.3         ohc          109   \n",
       "4          4wd           front   66.4    54.3         ohc          136   \n",
       "\n",
       "  horsepower  city-mpg  highway-mpg  price  \n",
       "0        111        21           27  13495  \n",
       "1        111        21           27  16500  \n",
       "2        154        19           26  16500  \n",
       "3        102        24           30  13950  \n",
       "4        115        18           22  17450  "
      ]
     },
     "execution_count": 57,
     "metadata": {},
     "output_type": "execute_result"
    }
   ],
   "source": [
    "df.head()"
   ]
  },
  {
   "cell_type": "code",
   "execution_count": 58,
   "id": "d644f993",
   "metadata": {},
   "outputs": [
    {
     "data": {
      "text/html": [
       "<div>\n",
       "<style scoped>\n",
       "    .dataframe tbody tr th:only-of-type {\n",
       "        vertical-align: middle;\n",
       "    }\n",
       "\n",
       "    .dataframe tbody tr th {\n",
       "        vertical-align: top;\n",
       "    }\n",
       "\n",
       "    .dataframe thead th {\n",
       "        text-align: right;\n",
       "    }\n",
       "</style>\n",
       "<table border=\"1\" class=\"dataframe\">\n",
       "  <thead>\n",
       "    <tr style=\"text-align: right;\">\n",
       "      <th></th>\n",
       "      <th>symboling</th>\n",
       "      <th>width</th>\n",
       "      <th>height</th>\n",
       "      <th>engine-size</th>\n",
       "      <th>city-mpg</th>\n",
       "      <th>highway-mpg</th>\n",
       "      <th>price</th>\n",
       "    </tr>\n",
       "  </thead>\n",
       "  <tbody>\n",
       "    <tr>\n",
       "      <th>symboling</th>\n",
       "      <td>1.000000</td>\n",
       "      <td>-0.232919</td>\n",
       "      <td>-0.541038</td>\n",
       "      <td>-0.105790</td>\n",
       "      <td>-0.035823</td>\n",
       "      <td>0.034606</td>\n",
       "      <td>-0.085781</td>\n",
       "    </tr>\n",
       "    <tr>\n",
       "      <th>width</th>\n",
       "      <td>-0.232919</td>\n",
       "      <td>1.000000</td>\n",
       "      <td>0.279210</td>\n",
       "      <td>0.735433</td>\n",
       "      <td>-0.642704</td>\n",
       "      <td>-0.677218</td>\n",
       "      <td>0.718253</td>\n",
       "    </tr>\n",
       "    <tr>\n",
       "      <th>height</th>\n",
       "      <td>-0.541038</td>\n",
       "      <td>0.279210</td>\n",
       "      <td>1.000000</td>\n",
       "      <td>0.067149</td>\n",
       "      <td>-0.048640</td>\n",
       "      <td>-0.107358</td>\n",
       "      <td>0.132444</td>\n",
       "    </tr>\n",
       "    <tr>\n",
       "      <th>engine-size</th>\n",
       "      <td>-0.105790</td>\n",
       "      <td>0.735433</td>\n",
       "      <td>0.067149</td>\n",
       "      <td>1.000000</td>\n",
       "      <td>-0.653658</td>\n",
       "      <td>-0.677470</td>\n",
       "      <td>0.852995</td>\n",
       "    </tr>\n",
       "    <tr>\n",
       "      <th>city-mpg</th>\n",
       "      <td>-0.035823</td>\n",
       "      <td>-0.642704</td>\n",
       "      <td>-0.048640</td>\n",
       "      <td>-0.653658</td>\n",
       "      <td>1.000000</td>\n",
       "      <td>0.971337</td>\n",
       "      <td>-0.654611</td>\n",
       "    </tr>\n",
       "    <tr>\n",
       "      <th>highway-mpg</th>\n",
       "      <td>0.034606</td>\n",
       "      <td>-0.677218</td>\n",
       "      <td>-0.107358</td>\n",
       "      <td>-0.677470</td>\n",
       "      <td>0.971337</td>\n",
       "      <td>1.000000</td>\n",
       "      <td>-0.679048</td>\n",
       "    </tr>\n",
       "    <tr>\n",
       "      <th>price</th>\n",
       "      <td>-0.085781</td>\n",
       "      <td>0.718253</td>\n",
       "      <td>0.132444</td>\n",
       "      <td>0.852995</td>\n",
       "      <td>-0.654611</td>\n",
       "      <td>-0.679048</td>\n",
       "      <td>1.000000</td>\n",
       "    </tr>\n",
       "  </tbody>\n",
       "</table>\n",
       "</div>"
      ],
      "text/plain": [
       "             symboling     width    height  engine-size  city-mpg  \\\n",
       "symboling     1.000000 -0.232919 -0.541038    -0.105790 -0.035823   \n",
       "width        -0.232919  1.000000  0.279210     0.735433 -0.642704   \n",
       "height       -0.541038  0.279210  1.000000     0.067149 -0.048640   \n",
       "engine-size  -0.105790  0.735433  0.067149     1.000000 -0.653658   \n",
       "city-mpg     -0.035823 -0.642704 -0.048640    -0.653658  1.000000   \n",
       "highway-mpg   0.034606 -0.677218 -0.107358    -0.677470  0.971337   \n",
       "price        -0.085781  0.718253  0.132444     0.852995 -0.654611   \n",
       "\n",
       "             highway-mpg     price  \n",
       "symboling       0.034606 -0.085781  \n",
       "width          -0.677218  0.718253  \n",
       "height         -0.107358  0.132444  \n",
       "engine-size    -0.677470  0.852995  \n",
       "city-mpg        0.971337 -0.654611  \n",
       "highway-mpg     1.000000 -0.679048  \n",
       "price          -0.679048  1.000000  "
      ]
     },
     "execution_count": 58,
     "metadata": {},
     "output_type": "execute_result"
    }
   ],
   "source": [
    "df.corr()"
   ]
  },
  {
   "cell_type": "code",
   "execution_count": 59,
   "id": "cc4b349b",
   "metadata": {},
   "outputs": [
    {
     "data": {
      "image/png": "[encoded data removed]",
      "text/plain": [
       "<Figure size 432x432 with 1 Axes>"
      ]
     },
     "metadata": {
      "needs_background": "light"
     },
     "output_type": "display_data"
    }
   ],
   "source": [
    "plt.figure(figsize=(6,6))\n",
    "plt.scatter(x=df[\"engine-size\"],y=df[\"price\"])\n",
    "plt.title(\"Engine size va price\")\n",
    "plt.xlabel(\"Engine-size\")\n",
    "plt.ylabel(\"Price\")\n",
    "plt.show()"
   ]
  },
  {
   "cell_type": "code",
   "execution_count": 60,
   "id": "4171663d",
   "metadata": {},
   "outputs": [],
   "source": [
    "# (/) this type of graph shows positive corelation "
   ]
  },
  {
   "cell_type": "code",
   "execution_count": 61,
   "id": "341b39dc",
   "metadata": {},
   "outputs": [
    {
     "data": {
      "image/png": "[encoded data removed]",
      "text/plain": [
       "<Figure size 432x432 with 1 Axes>"
      ]
     },
     "metadata": {
      "needs_background": "light"
     },
     "output_type": "display_data"
    }
   ],
   "source": [
    "plt.figure(figsize=(6,6))\n",
    "plt.scatter(x=df[\"highway-mpg\"],y=df[\"price\"])\n",
    "plt.title(\"Engine size va price\")\n",
    "plt.xlabel(\"Engine-size\")\n",
    "plt.ylabel(\"Price\")\n",
    "plt.show()"
   ]
  },
  {
   "cell_type": "code",
   "execution_count": 62,
   "id": "8cf052e3",
   "metadata": {},
   "outputs": [
    {
     "data": {
      "image/png": "[encoded data removed]",
      "text/plain": [
       "<Figure size 432x432 with 1 Axes>"
      ]
     },
     "metadata": {
      "needs_background": "light"
     },
     "output_type": "display_data"
    }
   ],
   "source": [
    "plt.figure(figsize=(6,6))\n",
    "plt.scatter(x=df[\"engine-size\"],y=df[\"price\"])\n",
    "plt.title(\"Engine size va price\")\n",
    "plt.xlabel(\"Engine-size\")\n",
    "plt.ylabel(\"Price\")\n",
    "plt.show()"
   ]
  },
  {
   "cell_type": "code",
   "execution_count": 63,
   "id": "2cc18b35",
   "metadata": {},
   "outputs": [],
   "source": [
    "# (\\) this type of graph shows positive corelation "
   ]
  },
  {
   "cell_type": "code",
   "execution_count": 64,
   "id": "032955b1",
   "metadata": {},
   "outputs": [
    {
     "data": {
      "image/png": "[encoded data removed]",
      "text/plain": [
       "<Figure size 432x432 with 1 Axes>"
      ]
     },
     "metadata": {
      "needs_background": "light"
     },
     "output_type": "display_data"
    }
   ],
   "source": [
    "plt.figure(figsize=(6,6))\n",
    "plt.scatter(x=df[\"symboling\"],y=df[\"price\"])\n",
    "plt.title(\"Engine size va price\")\n",
    "plt.xlabel(\"Engine-size\")\n",
    "plt.ylabel(\"Price\")\n",
    "plt.show()\n",
    "\n",
    "#-ve correlation"
   ]
  },
  {
   "cell_type": "markdown",
   "id": "3290e64a",
   "metadata": {},
   "source": [
    "# Visualization Seaborn"
   ]
  },
  {
   "cell_type": "code",
   "execution_count": 65,
   "id": "5f215444",
   "metadata": {},
   "outputs": [],
   "source": [
    "import seaborn as sns"
   ]
  },
  {
   "cell_type": "markdown",
   "id": "3a49238b",
   "metadata": {},
   "source": [
    "### Histogram (Distplot)"
   ]
  },
  {
   "cell_type": "code",
   "execution_count": 66,
   "id": "66628cb7",
   "metadata": {},
   "outputs": [
    {
     "name": "stderr",
     "output_type": "stream",
     "text": [
      "C:\\ProgramData\\Anaconda3\\lib\\site-packages\\seaborn\\distributions.py:2619: FutureWarning: `distplot` is a deprecated function and will be removed in a future version. Please adapt your code to use either `displot` (a figure-level function with similar flexibility) or `histplot` (an axes-level function for histograms).\n",
      "  warnings.warn(msg, FutureWarning)\n"
     ]
    },
    {
     "data": {
      "image/png": "[encoded data removed]",
      "text/plain": [
       "<Figure size 432x432 with 1 Axes>"
      ]
     },
     "metadata": {
      "needs_background": "light"
     },
     "output_type": "display_data"
    }
   ],
   "source": [
    "plt.figure(figsize=(6,6))\n",
    "sns.distplot(df[\"price\"])\n",
    "plt.grid()\n",
    "plt.show()"
   ]
  },
  {
   "cell_type": "code",
   "execution_count": 67,
   "id": "ce588bd2",
   "metadata": {},
   "outputs": [
    {
     "name": "stderr",
     "output_type": "stream",
     "text": [
      "C:\\ProgramData\\Anaconda3\\lib\\site-packages\\seaborn\\distributions.py:2619: FutureWarning: `distplot` is a deprecated function and will be removed in a future version. Please adapt your code to use either `displot` (a figure-level function with similar flexibility) or `histplot` (an axes-level function for histograms).\n",
      "  warnings.warn(msg, FutureWarning)\n"
     ]
    },
    {
     "data": {
      "image/png": "[encoded data removed]",
      "text/plain": [
       "<Figure size 432x432 with 1 Axes>"
      ]
     },
     "metadata": {
      "needs_background": "light"
     },
     "output_type": "display_data"
    }
   ],
   "source": [
    "width_mean=df[\"width\"].mean()\n",
    "width_median=df[\"width\"].median()\n",
    "plt.figure(figsize=(6,6))\n",
    "sns.distplot(df[\"width\"])\n",
    "plt.show()"
   ]
  },
  {
   "cell_type": "code",
   "execution_count": 68,
   "id": "0d040535",
   "metadata": {},
   "outputs": [
    {
     "name": "stderr",
     "output_type": "stream",
     "text": [
      "C:\\ProgramData\\Anaconda3\\lib\\site-packages\\seaborn\\distributions.py:2619: FutureWarning: `distplot` is a deprecated function and will be removed in a future version. Please adapt your code to use either `displot` (a figure-level function with similar flexibility) or `histplot` (an axes-level function for histograms).\n",
      "  warnings.warn(msg, FutureWarning)\n"
     ]
    },
    {
     "data": {
      "image/png": "[encoded data removed]",
      "text/plain": [
       "<Figure size 432x432 with 1 Axes>"
      ]
     },
     "metadata": {
      "needs_background": "light"
     },
     "output_type": "display_data"
    }
   ],
   "source": [
    "width_mean=df[\"width\"].mean()\n",
    "width_median=df[\"width\"].median()\n",
    "plt.figure(figsize=(6,6))\n",
    "\n",
    "\n",
    "plt.axvline(width_mean,color=\"red\")\n",
    "plt.axvline(width_median,color=\"yellow\")\n",
    "sns.distplot(df[\"width\"])\n",
    "plt.show()"
   ]
  },
  {
   "cell_type": "code",
   "execution_count": 69,
   "id": "6ae7cb9c",
   "metadata": {},
   "outputs": [
    {
     "name": "stderr",
     "output_type": "stream",
     "text": [
      "C:\\ProgramData\\Anaconda3\\lib\\site-packages\\seaborn\\distributions.py:2619: FutureWarning: `distplot` is a deprecated function and will be removed in a future version. Please adapt your code to use either `displot` (a figure-level function with similar flexibility) or `kdeplot` (an axes-level function for kernel density plots).\n",
      "  warnings.warn(msg, FutureWarning)\n"
     ]
    },
    {
     "data": {
      "image/png": "[encoded data removed]",
      "text/plain": [
       "<Figure size 432x432 with 1 Axes>"
      ]
     },
     "metadata": {
      "needs_background": "light"
     },
     "output_type": "display_data"
    }
   ],
   "source": [
    "width_mean=df[\"width\"].mean()\n",
    "width_median=df[\"width\"].median()\n",
    "plt.figure(figsize=(6,6))\n",
    "\n",
    "\n",
    "plt.axvline(width_mean,color=\"red\")\n",
    "plt.axvline(width_median,color=\"yellow\")\n",
    "sns.distplot(df[\"width\"],hist=False) #........hist=false   bins are not visible\n",
    "plt.show()"
   ]
  },
  {
   "cell_type": "markdown",
   "id": "2addbf6a",
   "metadata": {},
   "source": [
    "# Heatmap"
   ]
  },
  {
   "cell_type": "code",
   "execution_count": 70,
   "id": "40e07d35",
   "metadata": {},
   "outputs": [],
   "source": [
    "corr=df.corr()"
   ]
  },
  {
   "cell_type": "code",
   "execution_count": 71,
   "id": "1a384887",
   "metadata": {},
   "outputs": [
    {
     "data": {
      "image/png": "[encoded data removed]",
      "text/plain": [
       "<Figure size 504x504 with 2 Axes>"
      ]
     },
     "metadata": {
      "needs_background": "light"
     },
     "output_type": "display_data"
    }
   ],
   "source": [
    "plt.figure(figsize=(7,7))\n",
    "sns.heatmap(corr,annot=True)  #.......if annotation (annot) is said to true. the text will be written on each cell.\n",
    "plt.show()"
   ]
  },
  {
   "cell_type": "code",
   "execution_count": 72,
   "id": "1f928b4b",
   "metadata": {},
   "outputs": [
    {
     "data": {
      "image/png": "[encoded data removed]",
      "text/plain": [
       "<Figure size 504x504 with 2 Axes>"
      ]
     },
     "metadata": {
      "needs_background": "light"
     },
     "output_type": "display_data"
    }
   ],
   "source": [
    "plt.figure(figsize=(7,7))\n",
    "sns.heatmap(corr,annot=True,cmap=\"viridis\")  \n",
    "plt.show()\n"
   ]
  },
  {
   "cell_type": "markdown",
   "id": "e351e289",
   "metadata": {},
   "source": [
    "# Scatterplot"
   ]
  },
  {
   "cell_type": "code",
   "execution_count": 73,
   "id": "133db35d",
   "metadata": {},
   "outputs": [
    {
     "data": {
      "text/plain": [
       "[]"
      ]
     },
     "execution_count": 73,
     "metadata": {},
     "output_type": "execute_result"
    },
    {
     "data": {
      "image/png": "[encoded data removed]",
      "text/plain": [
       "<Figure size 504x504 with 1 Axes>"
      ]
     },
     "metadata": {
      "needs_background": "light"
     },
     "output_type": "display_data"
    }
   ],
   "source": [
    "plt.figure(figsize=(7,7))\n",
    "sns.scatterplot(data=df,x=\"width\",y=\"price\")\n",
    "plt.plot()\n"
   ]
  },
  {
   "cell_type": "code",
   "execution_count": 74,
   "id": "ebf712b9",
   "metadata": {},
   "outputs": [
    {
     "data": {
      "text/plain": [
       "[]"
      ]
     },
     "execution_count": 74,
     "metadata": {},
     "output_type": "execute_result"
    },
    {
     "data": {
      "image/png": "[encoded data removed]",
      "text/plain": [
       "<Figure size 504x504 with 1 Axes>"
      ]
     },
     "metadata": {
      "needs_background": "light"
     },
     "output_type": "display_data"
    }
   ],
   "source": [
    "plt.figure(figsize=(7,7))\n",
    "sns.scatterplot(data=df,x=\"width\",y=\"price\",hue=\"body-style\")#...........iot is used to show colors\n",
    "plt.plot()\n",
    "#hue=it will produce data points with diff colors"
   ]
  },
  {
   "cell_type": "code",
   "execution_count": 75,
   "id": "3e5728e8",
   "metadata": {},
   "outputs": [
    {
     "data": {
      "text/plain": [
       "[]"
      ]
     },
     "execution_count": 75,
     "metadata": {},
     "output_type": "execute_result"
    },
    {
     "data": {
      "image/png": "[encoded data removed]",
      "text/plain": [
       "<Figure size 504x504 with 1 Axes>"
      ]
     },
     "metadata": {
      "needs_background": "light"
     },
     "output_type": "display_data"
    }
   ],
   "source": [
    "plt.figure(figsize=(7,7))\n",
    "sns.scatterplot(data=df,x=\"width\",y=\"price\",hue=\"make\")\n",
    "plt.plot()"
   ]
  },
  {
   "cell_type": "markdown",
   "id": "1e03e84f",
   "metadata": {},
   "source": [
    "# 21-06-2023"
   ]
  },
  {
   "cell_type": "code",
   "execution_count": 76,
   "id": "51e0fdb6",
   "metadata": {},
   "outputs": [],
   "source": [
    "import pandas as pd\n",
    "import numpy as np\n",
    "import matplotlib.pyplot as plt\n",
    "import seaborn as sns"
   ]
  },
  {
   "cell_type": "markdown",
   "id": "5086762a",
   "metadata": {},
   "source": [
    "# Count plot"
   ]
  },
  {
   "cell_type": "code",
   "execution_count": 77,
   "id": "46b551cf",
   "metadata": {},
   "outputs": [
    {
     "data": {
      "image/png": "[encoded data removed]",
      "text/plain": [
       "<Figure size 432x432 with 1 Axes>"
      ]
     },
     "metadata": {
      "needs_background": "light"
     },
     "output_type": "display_data"
    }
   ],
   "source": [
    "plt.figure(figsize=(6,6))\n",
    "sns.countplot(data=df,x=\"body-style\")\n",
    "plt.show()"
   ]
  },
  {
   "cell_type": "code",
   "execution_count": 80,
   "id": "ac8baecf",
   "metadata": {},
   "outputs": [
    {
     "data": {
      "image/png": "[encoded data removed]",
      "text/plain": [
       "<Figure size 432x432 with 1 Axes>"
      ]
     },
     "metadata": {
      "needs_background": "light"
     },
     "output_type": "display_data"
    }
   ],
   "source": [
    "plt.figure(figsize=(6,6))\n",
    "sns.countplot(data=df,x=\"make\")\n",
    "plt.yticks(rotation=90)\n",
    "plt.xticks(rotation=90)\n",
    "plt.show()"
   ]
  },
  {
   "cell_type": "code",
   "execution_count": 81,
   "id": "f336bfde",
   "metadata": {},
   "outputs": [
    {
     "data": {
      "image/png": "[encoded data removed]",
      "text/plain": [
       "<Figure size 432x432 with 1 Axes>"
      ]
     },
     "metadata": {
      "needs_background": "light"
     },
     "output_type": "display_data"
    }
   ],
   "source": [
    "plt.figure(figsize=(6,6))\n",
    "sns.countplot(data=df,x=\"body-style\",hue=\"fuel-type\")\n",
    "plt.show()\n",
    "# hue= "
   ]
  },
  {
   "cell_type": "markdown",
   "id": "4def37a5",
   "metadata": {},
   "source": [
    "# Box plot"
   ]
  },
  {
   "cell_type": "code",
   "execution_count": 82,
   "id": "9fc924bb",
   "metadata": {},
   "outputs": [
    {
     "data": {
      "image/png": "[encoded data removed]",
      "text/plain": [
       "<Figure size 432x432 with 1 Axes>"
      ]
     },
     "metadata": {
      "needs_background": "light"
     },
     "output_type": "display_data"
    }
   ],
   "source": [
    "plt.figure(figsize=(6,6))\n",
    "sns.boxplot(data=df,x=\"price\",y=\"make\")\n",
    "plt.show()"
   ]
  },
  {
   "cell_type": "code",
   "execution_count": 83,
   "id": "bbc3e291",
   "metadata": {},
   "outputs": [
    {
     "data": {
      "text/plain": [
       "<seaborn.axisgrid.PairGrid at 0x1dd19ab0ee0>"
      ]
     },
     "execution_count": 83,
     "metadata": {},
     "output_type": "execute_result"
    },
    {
     "data": {
      "image/png": "[encoded data removed]",
      "text/plain": [
       "<Figure size 1260x1260 with 56 Axes>"
      ]
     },
     "metadata": {
      "needs_background": "light"
     },
     "output_type": "display_data"
    }
   ],
   "source": [
    "sns.pairplot(data=df)"
   ]
  },
  {
   "cell_type": "code",
   "execution_count": null,
   "id": "64bf3208",
   "metadata": {},
   "outputs": [],
   "source": []
  }
 ],
 "metadata": {
  "kernelspec": {
   "display_name": "Python 3 (ipykernel)",
   "language": "python",
   "name": "python3"
  },
  "language_info": {
   "codemirror_mode": {
    "name": "ipython",
    "version": 3
   },
   "file_extension": ".py",
   "mimetype": "text/x-python",
   "name": "python",
   "nbconvert_exporter": "python",
   "pygments_lexer": "ipython3",
   "version": "3.9.12"
  }
 },
 "nbformat": 4,
 "nbformat_minor": 5
}
